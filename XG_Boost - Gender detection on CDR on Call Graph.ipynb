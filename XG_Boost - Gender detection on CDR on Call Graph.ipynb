{
 "cells": [
  {
   "cell_type": "code",
   "execution_count": 1,
   "metadata": {},
   "outputs": [],
   "source": [
    "import pandas as pd\n",
    "import pyarrow as pa\n",
    "from graph_tool.all import *\n",
    "from graph_tool import all\n",
    "import csv, math, os, pprint, sys\n",
    "from collections import Counter\n",
    "import pandas as pd\n",
    "import time\n",
    "import graph_tool as gt"
   ]
  },
  {
   "cell_type": "code",
   "execution_count": 21,
   "metadata": {},
   "outputs": [
    {
     "ename": "ValueError",
     "evalue": "Cannot run multiple SparkContexts at once; existing SparkContext(app=pyspark-shell, master=local[*]) created by __init__ at <ipython-input-2-b20fa5208e2f>:17 ",
     "output_type": "error",
     "traceback": [
      "\u001b[0;31m---------------------------------------------------------------------------\u001b[0m",
      "\u001b[0;31mValueError\u001b[0m                                Traceback (most recent call last)",
      "\u001b[0;32m<ipython-input-21-b20fa5208e2f>\u001b[0m in \u001b[0;36m<module>\u001b[0;34m\u001b[0m\n\u001b[1;32m     15\u001b[0m \u001b[0;34m\u001b[0m\u001b[0m\n\u001b[1;32m     16\u001b[0m \u001b[0;31m# Create new context\u001b[0m\u001b[0;34m\u001b[0m\u001b[0;34m\u001b[0m\u001b[0;34m\u001b[0m\u001b[0m\n\u001b[0;32m---> 17\u001b[0;31m \u001b[0msc\u001b[0m \u001b[0;34m=\u001b[0m \u001b[0mSparkContext\u001b[0m\u001b[0;34m(\u001b[0m\u001b[0mconf\u001b[0m\u001b[0;34m=\u001b[0m\u001b[0mconf\u001b[0m\u001b[0;34m)\u001b[0m\u001b[0;34m\u001b[0m\u001b[0;34m\u001b[0m\u001b[0m\n\u001b[0m\u001b[1;32m     18\u001b[0m \u001b[0;34m\u001b[0m\u001b[0m\n\u001b[1;32m     19\u001b[0m \u001b[0;32mfrom\u001b[0m \u001b[0mpyspark\u001b[0m\u001b[0;34m.\u001b[0m\u001b[0msql\u001b[0m \u001b[0;32mimport\u001b[0m \u001b[0mSQLContext\u001b[0m\u001b[0;34m\u001b[0m\u001b[0;34m\u001b[0m\u001b[0m\n",
      "\u001b[0;32m~/anaconda3/envs/geo_env/lib/python3.8/site-packages/pyspark/context.py\u001b[0m in \u001b[0;36m__init__\u001b[0;34m(self, master, appName, sparkHome, pyFiles, environment, batchSize, serializer, conf, gateway, jsc, profiler_cls)\u001b[0m\n\u001b[1;32m    131\u001b[0m                 \" is not allowed as it is a security risk.\")\n\u001b[1;32m    132\u001b[0m \u001b[0;34m\u001b[0m\u001b[0m\n\u001b[0;32m--> 133\u001b[0;31m         \u001b[0mSparkContext\u001b[0m\u001b[0;34m.\u001b[0m\u001b[0m_ensure_initialized\u001b[0m\u001b[0;34m(\u001b[0m\u001b[0mself\u001b[0m\u001b[0;34m,\u001b[0m \u001b[0mgateway\u001b[0m\u001b[0;34m=\u001b[0m\u001b[0mgateway\u001b[0m\u001b[0;34m,\u001b[0m \u001b[0mconf\u001b[0m\u001b[0;34m=\u001b[0m\u001b[0mconf\u001b[0m\u001b[0;34m)\u001b[0m\u001b[0;34m\u001b[0m\u001b[0;34m\u001b[0m\u001b[0m\n\u001b[0m\u001b[1;32m    134\u001b[0m         \u001b[0;32mtry\u001b[0m\u001b[0;34m:\u001b[0m\u001b[0;34m\u001b[0m\u001b[0;34m\u001b[0m\u001b[0m\n\u001b[1;32m    135\u001b[0m             self._do_init(master, appName, sparkHome, pyFiles, environment, batchSize, serializer,\n",
      "\u001b[0;32m~/anaconda3/envs/geo_env/lib/python3.8/site-packages/pyspark/context.py\u001b[0m in \u001b[0;36m_ensure_initialized\u001b[0;34m(cls, instance, gateway, conf)\u001b[0m\n\u001b[1;32m    334\u001b[0m \u001b[0;34m\u001b[0m\u001b[0m\n\u001b[1;32m    335\u001b[0m                     \u001b[0;31m# Raise error if there is already a running Spark context\u001b[0m\u001b[0;34m\u001b[0m\u001b[0;34m\u001b[0m\u001b[0;34m\u001b[0m\u001b[0m\n\u001b[0;32m--> 336\u001b[0;31m                     raise ValueError(\n\u001b[0m\u001b[1;32m    337\u001b[0m                         \u001b[0;34m\"Cannot run multiple SparkContexts at once; \"\u001b[0m\u001b[0;34m\u001b[0m\u001b[0;34m\u001b[0m\u001b[0m\n\u001b[1;32m    338\u001b[0m                         \u001b[0;34m\"existing SparkContext(app=%s, master=%s)\"\u001b[0m\u001b[0;34m\u001b[0m\u001b[0;34m\u001b[0m\u001b[0m\n",
      "\u001b[0;31mValueError\u001b[0m: Cannot run multiple SparkContexts at once; existing SparkContext(app=pyspark-shell, master=local[*]) created by __init__ at <ipython-input-2-b20fa5208e2f>:17 "
     ]
    }
   ],
   "source": [
    "import time\n",
    "#--conf spark.driver.maxResultSize=0\n",
    "from pyspark import SparkConf, SparkContext\n",
    "import findspark\n",
    "findspark.init()\n",
    "from pyspark.sql import SparkSession\n",
    "# In Jupyter you have to stop the current context first\n",
    "#sc.stop()\n",
    "\n",
    "# Create new config\n",
    "conf = (SparkConf()\n",
    "    .set(\"spark.driver.maxResultSize\", \"15g\").set(\"spark.driver.memory\",\"100g\").\n",
    "        set(\"spark.executor.pyspark.memory\",\"100g\").set(\"spark.executor.memory\",\"100g\")\n",
    "        .set(\"spark.executor.instances\",\"1\"))\n",
    "\n",
    "# Create new context\n",
    "sc = SparkContext(conf=conf)\n",
    "\n",
    "from pyspark.sql import SQLContext\n",
    "sqlContext = SQLContext(sc)\n",
    "import os \n",
    "#os.getcwd()\n",
    "spark = SparkSession.builder.getOrCreate()\n",
    "spark"
   ]
  },
  {
   "cell_type": "code",
   "execution_count": 3,
   "metadata": {},
   "outputs": [],
   "source": [
    "import pyspark.sql.functions as f\n",
    "from pyspark.sql import Window\n",
    "from pyspark.sql.functions import count, desc , col, max ,struct, sum, row_number\n",
    "def shapedf(spdf):\n",
    "    return str(spdf.count())+\" , \"+str(len(spdf.columns))"
   ]
  },
  {
   "cell_type": "code",
   "execution_count": 4,
   "metadata": {},
   "outputs": [],
   "source": [
    "g2=gt.Graph(directed=False)\n",
    "#g2.load(\"/home/sebastian/Documents/Calls_2019_2.gt\")\n",
    "g2.load(\"/home/sebastian/Documents/Calls_2019_filtered_2.gt\")"
   ]
  },
  {
   "cell_type": "code",
   "execution_count": 5,
   "metadata": {},
   "outputs": [],
   "source": [
    "remove_parallel_edges(g2)"
   ]
  },
  {
   "cell_type": "code",
   "execution_count": 8,
   "metadata": {},
   "outputs": [
    {
     "name": "stdout",
     "output_type": "stream",
     "text": [
      "Degree               (vertex)  (type: int32_t)\n",
      "DegreeCallsIn        (vertex)  (type: int32_t)\n",
      "DegreeCallsOut       (vertex)  (type: int32_t)\n",
      "DegreeCallsTotal     (vertex)  (type: int32_t)\n",
      "DegreeIn             (vertex)  (type: int32_t)\n",
      "DegreeOut            (vertex)  (type: int32_t)\n",
      "DegreeSecIn          (vertex)  (type: int32_t)\n",
      "DegreeSecOut         (vertex)  (type: int32_t)\n",
      "DegreeSecTotal       (vertex)  (type: int32_t)\n",
      "clust                (vertex)  (type: double)\n",
      "id                   (vertex)  (type: int32_t)\n",
      "new_index            (vertex)  (type: int64_t)\n",
      "source               (vertex)  (type: int16_t)\n",
      "source2              (vertex)  (type: int16_t)\n",
      "Kin                  (edge)    (type: int16_t)\n",
      "callsOut             (edge)    (type: int32_t)\n",
      "secOut               (edge)    (type: int32_t)\n"
     ]
    }
   ],
   "source": [
    "g2.list_properties()"
   ]
  },
  {
   "cell_type": "code",
   "execution_count": 6,
   "metadata": {},
   "outputs": [],
   "source": [
    "g2.vp[\"clust\"]=gt.clustering.local_clustering(g2)"
   ]
  },
  {
   "cell_type": "code",
   "execution_count": 5,
   "metadata": {},
   "outputs": [
    {
     "data": {
      "text/plain": [
       "PropertyArray([12497547, 11778867, 12843863, ...,  8825956,  2479640,\n",
       "                8729079], dtype=int32)"
      ]
     },
     "execution_count": 5,
     "metadata": {},
     "output_type": "execute_result"
    }
   ],
   "source": [
    "g2.vp.id.a[g2.vp.id.a>0]"
   ]
  },
  {
   "cell_type": "code",
   "execution_count": 7,
   "metadata": {},
   "outputs": [],
   "source": [
    "g2.vp[\"sex\"]=g2.new_vertex_property(\"int16_t\")"
   ]
  },
  {
   "cell_type": "code",
   "execution_count": 8,
   "metadata": {},
   "outputs": [],
   "source": [
    "g2.vp[\"age\"]=g2.new_vertex_property(\"int32_t\")"
   ]
  },
  {
   "cell_type": "code",
   "execution_count": 10,
   "metadata": {},
   "outputs": [],
   "source": [
    "g=gt.Graph(directed=True)\n",
    "g.load(\"/home/sebastian/Desktop/Notebooks/Kin_extended_2.gt\")\n",
    "#g.load(\"/home/sebastian/Desktop/Notebooks/Kin_Sinacofi.gt\")\n",
    "#g.add_vertex(n=36703940)"
   ]
  },
  {
   "cell_type": "code",
   "execution_count": 11,
   "metadata": {},
   "outputs": [],
   "source": [
    "g2.vp.age.a[g2.vp.source.a>0]=g.vp.age.a[g2.vp.id.a[g2.vp.source.a>0]-1]"
   ]
  },
  {
   "cell_type": "code",
   "execution_count": 12,
   "metadata": {},
   "outputs": [],
   "source": [
    "g2.vp.sex.a[g2.vp.source.a>0]=g.vp.gender.a[g2.vp.id.a[g2.vp.source.a>0]-1]"
   ]
  },
  {
   "cell_type": "code",
   "execution_count": 13,
   "metadata": {},
   "outputs": [],
   "source": [
    "df=pd.DataFrame(g2.vp.sex.a[g2.vp.source.a>0],columns=[\"gender\"])"
   ]
  },
  {
   "cell_type": "code",
   "execution_count": 14,
   "metadata": {},
   "outputs": [],
   "source": [
    "df[\"Degree\"]=g2.vp.Degree.a[g2.vp.source.a>0]\n",
    "df[\"age\"]=g.vp.age.a[g2.vp.id.a[g2.vp.source.a>0]-1]"
   ]
  },
  {
   "cell_type": "code",
   "execution_count": 15,
   "metadata": {},
   "outputs": [],
   "source": [
    "df[\"clust\"]=g2.vp.clust.a[g2.vp.source.a>0]\n",
    "df[\"DegreeIn\"]=g2.vp.DegreeIn.a[g2.vp.source.a>0]\n",
    "df[\"DegreeOut\"]=g2.vp.DegreeOut.a[g2.vp.source.a>0]\n",
    "df[\"DegreeCallsIn\"]=g2.vp.DegreeCallsIn.a[g2.vp.source.a>0]\n",
    "df[\"DegreeCallsOut\"]=g2.vp.DegreeCallsOut.a[g2.vp.source.a>0]\n",
    "df[\"DegreeSecIn\"]=g2.vp.DegreeSecIn.a[g2.vp.source.a>0]\n",
    "df[\"DegreeSecOut\"]=g2.vp.DegreeSecOut.a[g2.vp.source.a>0]\n",
    "\n",
    "#df[\"sex\"]=g2.vp.sex.a[g2.vp.source.a>0]\n",
    "df[\"source2\"]=g2.vp.source2.a[g2.vp.source.a>0]\n",
    "#df[\"age\"]=g.vp.age.a[g2.vp.id.a[g2.vp.source.a>0]-1]"
   ]
  },
  {
   "cell_type": "code",
   "execution_count": 17,
   "metadata": {},
   "outputs": [],
   "source": [
    "df[\"Out_ratio\"]=df[\"DegreeOut\"]/(df[\"DegreeIn\"]+df[\"DegreeOut\"])\n",
    "df[\"OutCall_ratio\"]=df[\"DegreeCallsOut\"]/(df[\"DegreeCallsIn\"]+df[\"DegreeCallsOut\"])\n",
    "df[\"OutSec_ratio\"]=df[\"DegreeSecOut\"]/(df[\"DegreeSecIn\"]+df[\"DegreeSecOut\"])"
   ]
  },
  {
   "cell_type": "code",
   "execution_count": 37,
   "metadata": {},
   "outputs": [],
   "source": [
    "from utils2 import pandas_to_spark\n",
    "from pyspark.sql.types import *"
   ]
  },
  {
   "cell_type": "code",
   "execution_count": 34,
   "metadata": {},
   "outputs": [],
   "source": [
    "df=pandas_to_spark(df,sqlContext)"
   ]
  },
  {
   "cell_type": "code",
   "execution_count": 35,
   "metadata": {},
   "outputs": [
    {
     "data": {
      "text/plain": [
       "DataFrame[gender: string, Degree: int, age: int, clust: float, DegreeIn: int, DegreeOut: int, DegreeCallsIn: int, DegreeCallsOut: int, DegreeSecIn: int, DegreeSecOut: int, source2: string, Out_ratio: float, OutCall_ratio: float, OutSec_ratio: float]"
      ]
     },
     "execution_count": 35,
     "metadata": {},
     "output_type": "execute_result"
    }
   ],
   "source": [
    "df"
   ]
  },
  {
   "cell_type": "code",
   "execution_count": 38,
   "metadata": {},
   "outputs": [],
   "source": [
    "df=df.withColumn(\"gender\", df.gender.cast(IntegerType())).withColumn(\"source2\", df.source2.cast(IntegerType()))"
   ]
  },
  {
   "cell_type": "code",
   "execution_count": 60,
   "metadata": {},
   "outputs": [],
   "source": [
    "#df2=df.select(\"*\").where(\"source2 < 3\")"
   ]
  },
  {
   "cell_type": "code",
   "execution_count": 39,
   "metadata": {},
   "outputs": [
    {
     "data": {
      "text/plain": [
       "'922516 , 14'"
      ]
     },
     "execution_count": 39,
     "metadata": {},
     "output_type": "execute_result"
    }
   ],
   "source": [
    "df2=df.select(\"*\").where(\"source2 == 1 OR source2 ==3\")\n",
    "shapedf(df2)"
   ]
  },
  {
   "cell_type": "code",
   "execution_count": 40,
   "metadata": {},
   "outputs": [],
   "source": [
    "predictors = [\n",
    "#            'age',\n",
    "            'clust',\n",
    "            'DegreeIn',\n",
    "            'DegreeOut',\n",
    "            'DegreeCallsIn',\n",
    "            'DegreeCallsOut',\n",
    "            'DegreeSecIn',\n",
    "            'DegreeSecOut',\n",
    "            \"Out_ratio\",\n",
    "            \"OutCall_ratio\",\n",
    "            \"OutSec_ratio\"]\n",
    "\n",
    "target = \"gender\""
   ]
  },
  {
   "cell_type": "code",
   "execution_count": 42,
   "metadata": {},
   "outputs": [],
   "source": [
    "from pyspark.ml.feature import StringIndexer, VectorAssembler\n",
    "from pyspark.ml import Pipeline\n",
    "from pyspark.sql.functions import col\n",
    "\n",
    "import os\n",
    "os.environ['PYSPARK_SUBMIT_ARGS'] = '--jars xgboost4j_2.12-1.4.1.jar,xgboost4j-spark_2.12-1.4.1.jar pyspark-shell'\n",
    "from sparkxgb import XGBoostClassifier\n"
   ]
  },
  {
   "cell_type": "code",
   "execution_count": 46,
   "metadata": {},
   "outputs": [],
   "source": [
    "va = VectorAssembler(inputCols=predictors, outputCol=\"features\",handleInvalid=\"keep\")\n",
    "pipeline = Pipeline(stages=[va])"
   ]
  },
  {
   "cell_type": "code",
   "execution_count": 47,
   "metadata": {},
   "outputs": [],
   "source": [
    "fitted_pipeline = pipeline.fit(df2)\n"
   ]
  },
  {
   "cell_type": "code",
   "execution_count": 48,
   "metadata": {},
   "outputs": [
    {
     "data": {
      "text/plain": [
       "922516"
      ]
     },
     "execution_count": 48,
     "metadata": {},
     "output_type": "execute_result"
    }
   ],
   "source": [
    "df_prepared = fitted_pipeline.transform(df2)\n",
    "df_prepared.cache()\n",
    "df_prepared.count()"
   ]
  },
  {
   "cell_type": "code",
   "execution_count": 49,
   "metadata": {},
   "outputs": [],
   "source": [
    "trainDF, testDF = df_prepared.randomSplit([0.8, 0.2], seed=24)"
   ]
  },
  {
   "cell_type": "code",
   "execution_count": 50,
   "metadata": {},
   "outputs": [],
   "source": [
    "xgboost = XGBoostClassifier(\n",
    "    featuresCol=\"features\", \n",
    "    labelCol=\"gender\",eta=0.1,\n",
    "  maxDepth=8,\n",
    "  missing=0.0,\n",
    "  objective=\"binary:logistic\",\n",
    "  numRound=5,\n",
    "  numWorkers=2\n",
    ")"
   ]
  },
  {
   "cell_type": "code",
   "execution_count": 51,
   "metadata": {},
   "outputs": [],
   "source": [
    "pipeline = Pipeline().setStages([xgboost])"
   ]
  },
  {
   "cell_type": "code",
   "execution_count": 52,
   "metadata": {},
   "outputs": [],
   "source": [
    "model = pipeline.fit(trainDF)"
   ]
  },
  {
   "cell_type": "code",
   "execution_count": 53,
   "metadata": {},
   "outputs": [
    {
     "name": "stdout",
     "output_type": "stream",
     "text": [
      "+------+----------+\n",
      "|gender|prediction|\n",
      "+------+----------+\n",
      "|     0|       0.0|\n",
      "|     0|       0.0|\n",
      "|     0|       0.0|\n",
      "|     0|       0.0|\n",
      "|     0|       0.0|\n",
      "+------+----------+\n",
      "only showing top 5 rows\n",
      "\n"
     ]
    }
   ],
   "source": [
    "model.transform(testDF).select(col(\"gender\"), col(\"prediction\")).show(5)"
   ]
  },
  {
   "cell_type": "code",
   "execution_count": 54,
   "metadata": {},
   "outputs": [],
   "source": [
    "from pyspark.ml.evaluation import MulticlassClassificationEvaluator, BinaryClassificationEvaluator"
   ]
  },
  {
   "cell_type": "code",
   "execution_count": 55,
   "metadata": {},
   "outputs": [
    {
     "data": {
      "text/plain": [
       "0.5929036956329679"
      ]
     },
     "execution_count": 55,
     "metadata": {},
     "output_type": "execute_result"
    }
   ],
   "source": [
    "evaluator=BinaryClassificationEvaluator( rawPredictionCol=\"prediction\",\n",
    "  labelCol=\"gender\")\n",
    "evaluator.evaluate(model.transform(testDF).select(col(\"gender\"), col(\"prediction\")))\n",
    "#0.6400046549350001 only TEF"
   ]
  },
  {
   "cell_type": "code",
   "execution_count": 56,
   "metadata": {},
   "outputs": [],
   "source": [
    "from pyspark.ml.tuning import ParamGridBuilder, CrossValidator"
   ]
  },
  {
   "cell_type": "code",
   "execution_count": 63,
   "metadata": {},
   "outputs": [],
   "source": [
    "param_grid = (\n",
    "  ParamGridBuilder()\n",
    "  .addGrid(xgboost.eta, [0.3,0.2,1e-1])\n",
    "  .addGrid(xgboost.maxDepth, [8,9,10,11,12])\n",
    "    .build()\n",
    ")\n",
    "cv = CrossValidator(\n",
    "  estimator=xgboost,\n",
    "  estimatorParamMaps=param_grid,\n",
    "  evaluator=evaluator,#mce,\n",
    "  numFolds=3\n",
    ")\n",
    "\n",
    "#    (max_depth, min_child_weight)\n",
    "#    for max_depth in range(9,12)\n",
    "#    for min_child_weight in range(5,8)"
   ]
  },
  {
   "cell_type": "code",
   "execution_count": 64,
   "metadata": {},
   "outputs": [],
   "source": [
    "cvModel = cv.fit(trainDF)\n",
    "model=cvModel.bestModel\n",
    "predictions = cvModel.bestModel.transform(testDF)\n",
    "evaluatorMulti = MulticlassClassificationEvaluator(labelCol=\"gender\", predictionCol=\"prediction\")\n"
   ]
  },
  {
   "cell_type": "code",
   "execution_count": 65,
   "metadata": {},
   "outputs": [
    {
     "name": "stdout",
     "output_type": "stream",
     "text": [
      "0.5622906672938408\n",
      "0.5990530730569287\n",
      "0.6045651501922482\n",
      "0.6905638759309273\n",
      "0.6127091029562597\n",
      "0.6011102345947387\n"
     ]
    }
   ],
   "source": [
    "print(evaluator.evaluate(predictions,{evaluator.metricName: \"areaUnderPR\"}))\n",
    "print(evaluator.evaluate(predictions,{evaluator.metricName: \"areaUnderROC\"}))\n",
    "print(evaluatorMulti.evaluate(predictions,{evaluatorMulti.metricName: \"accuracy\"}))\n",
    "print(evaluatorMulti.evaluate(predictions,{evaluatorMulti.metricName: \"recallByLabel\"}))\n",
    "print(evaluatorMulti.evaluate(predictions,{evaluatorMulti.metricName: \"precisionByLabel\"}))\n",
    "print(evaluatorMulti.evaluate(predictions,{evaluatorMulti.metricName: \"f1\"}))"
   ]
  },
  {
   "cell_type": "code",
   "execution_count": 142,
   "metadata": {},
   "outputs": [
    {
     "name": "stdout",
     "output_type": "stream",
     "text": [
      "0.5829886067472347\n",
      "0.6400046549350001\n",
      "0.6532095800610113\n",
      "0.7519739897816999\n",
      "0.6688009914282763\n",
      "0.6485262830842817\n"
     ]
    }
   ],
   "source": [
    "print(evaluator.evaluate(predictions,{evaluator.metricName: \"areaUnderPR\"}))\n",
    "print(evaluator.evaluate(predictions,{evaluator.metricName: \"areaUnderROC\"}))\n",
    "print(evaluatorMulti.evaluate(predictions,{evaluatorMulti.metricName: \"accuracy\"}))\n",
    "print(evaluatorMulti.evaluate(predictions,{evaluatorMulti.metricName: \"recallByLabel\"}))\n",
    "print(evaluatorMulti.evaluate(predictions,{evaluatorMulti.metricName: \"precisionByLabel\"}))\n",
    "print(evaluatorMulti.evaluate(predictions,{evaluatorMulti.metricName: \"f1\"}))"
   ]
  },
  {
   "cell_type": "code",
   "execution_count": 90,
   "metadata": {},
   "outputs": [
    {
     "name": "stdout",
     "output_type": "stream",
     "text": [
      "0.5543039051416777\n",
      "0.6070845454724905\n",
      "0.638217296418332\n",
      "0.8103083602360014\n",
      "0.6492537313432836\n",
      "0.6214142544833225\n"
     ]
    }
   ],
   "source": [
    "print(evaluator.evaluate(predictions,{evaluator.metricName: \"areaUnderPR\"}))\n",
    "print(evaluator.evaluate(predictions,{evaluator.metricName: \"areaUnderROC\"}))\n",
    "print(evaluatorMulti.evaluate(predictions,{evaluatorMulti.metricName: \"accuracy\"}))\n",
    "print(evaluatorMulti.evaluate(predictions,{evaluatorMulti.metricName: \"recallByLabel\"}))\n",
    "print(evaluatorMulti.evaluate(predictions,{evaluatorMulti.metricName: \"precisionByLabel\"}))\n",
    "print(evaluatorMulti.evaluate(predictions,{evaluatorMulti.metricName: \"f1\"}))"
   ]
  },
  {
   "cell_type": "code",
   "execution_count": 119,
   "metadata": {},
   "outputs": [
    {
     "data": {
      "text/plain": [
       "0.2"
      ]
     },
     "execution_count": 119,
     "metadata": {},
     "output_type": "execute_result"
    }
   ],
   "source": [
    "model.getEta()"
   ]
  },
  {
   "cell_type": "code",
   "execution_count": 120,
   "metadata": {},
   "outputs": [
    {
     "data": {
      "text/plain": [
       "8"
      ]
     },
     "execution_count": 120,
     "metadata": {},
     "output_type": "execute_result"
    }
   ],
   "source": [
    "model.getMaxDepth()"
   ]
  },
  {
   "cell_type": "code",
   "execution_count": 121,
   "metadata": {},
   "outputs": [],
   "source": [
    "param_grid = (\n",
    "  ParamGridBuilder()\n",
    "  .addGrid(xgboost.eta, [0.3,0.2,0.1])\n",
    "  .addGrid(xgboost.maxDepth, [8, 12, 14])\n",
    "  .build()\n",
    ")\n",
    "cv = CrossValidator(\n",
    "  estimator=xgboost,\n",
    "  estimatorParamMaps=param_grid,\n",
    "  evaluator=evaluator,#mce,\n",
    "  numFolds=3\n",
    ")"
   ]
  },
  {
   "cell_type": "code",
   "execution_count": 122,
   "metadata": {},
   "outputs": [],
   "source": [
    "cvModel = cv.fit(trainDF)\n",
    "model=cvModel.bestModel\n",
    "predictions = cvModel.bestModel.transform(testDF)\n",
    "evaluatorMulti = MulticlassClassificationEvaluator(labelCol=\"gender\", predictionCol=\"prediction\")\n"
   ]
  },
  {
   "cell_type": "code",
   "execution_count": 123,
   "metadata": {},
   "outputs": [
    {
     "name": "stdout",
     "output_type": "stream",
     "text": [
      "0.5523227885108875\n",
      "0.6174386277884845\n",
      "0.6415336556977193\n",
      "0.7747226242161119\n",
      "0.6615126263426381\n",
      "0.6320207785630452\n"
     ]
    }
   ],
   "source": [
    "print(evaluator.evaluate(predictions,{evaluator.metricName: \"areaUnderPR\"}))\n",
    "print(evaluator.evaluate(predictions,{evaluator.metricName: \"areaUnderROC\"}))\n",
    "print(evaluatorMulti.evaluate(predictions,{evaluatorMulti.metricName: \"accuracy\"}))\n",
    "print(evaluatorMulti.evaluate(predictions,{evaluatorMulti.metricName: \"recallByLabel\"}))\n",
    "print(evaluatorMulti.evaluate(predictions,{evaluatorMulti.metricName: \"precisionByLabel\"}))\n",
    "print(evaluatorMulti.evaluate(predictions,{evaluatorMulti.metricName: \"f1\"}))"
   ]
  },
  {
   "cell_type": "code",
   "execution_count": 96,
   "metadata": {},
   "outputs": [
    {
     "name": "stdout",
     "output_type": "stream",
     "text": [
      "0.5464040805426302\n",
      "0.6115910542219901\n",
      "0.63637725191493\n",
      "0.7733867675980556\n",
      "0.6568547116293728\n",
      "0.6262104121351884\n"
     ]
    }
   ],
   "source": [
    "def print_metrics(evaluator, prediction)\n",
    "print(\"This is the Area under PR :\" .evaluator.evaluate(predictions,{evaluator.metricName: \"areaUnderPR\"}))\n",
    "print(evaluator.evaluate(predictions,{evaluator.metricName: \"areaUnderROC\"}))\n",
    "print(evaluatorMulti.evaluate(predictions,{evaluatorMulti.metricName: \"accuracy\"}))\n",
    "print(evaluatorMulti.evaluate(predictions,{evaluatorMulti.metricName: \"recallByLabel\"}))\n",
    "print(evaluatorMulti.evaluate(predictions,{evaluatorMulti.metricName: \"precisionByLabel\"}))\n",
    "print(evaluatorMulti.evaluate(predictions,{evaluatorMulti.metricName: \"f1\"}))"
   ]
  },
  {
   "cell_type": "markdown",
   "metadata": {},
   "source": [
    "## Task 1 :\n",
    "**Create Distribution** 20 5tiles\n",
    "        \n",
    "**Quantile, How much time to 10% most freq outcalled**\n",
    "\n",
    "**Quantile, How much time to 10% most freq incalled**\n",
    "\n",
    "****Quantile, How much %calls to 10% most freq incalled****\n",
    "daily weekly time distribution(freq)\n"
   ]
  },
  {
   "cell_type": "code",
   "execution_count": 30,
   "metadata": {},
   "outputs": [],
   "source": [
    "df=df[(df.age>10) & (df.age<100)]\n",
    "df=df[df.Degree>0]\n",
    "grouped=df.groupby([\"age\",\"gender\"]).mean()\n",
    "df=pd.DataFrame(grouped)\n",
    "df=df.reset_index()"
   ]
  },
  {
   "cell_type": "code",
   "execution_count": 31,
   "metadata": {},
   "outputs": [
    {
     "name": "stderr",
     "output_type": "stream",
     "text": [
      "BokehDeprecationWarning: 'legend' keyword is deprecated, use explicit 'legend_label', 'legend_field', or 'legend_group' keywords instead\n",
      "BokehDeprecationWarning: 'legend' keyword is deprecated, use explicit 'legend_label', 'legend_field', or 'legend_group' keywords instead\n"
     ]
    }
   ],
   "source": [
    "from bokeh.plotting import figure, output_file, show\n",
    "kin=1\n",
    "#output_file('Sec_In_by_Age_gender'+str(kin)+'_2.html')\n",
    "\n",
    "p = figure(plot_width=600, plot_height=600)\n",
    "\n",
    "\n",
    "df_1=df[df.gender==0]\n",
    "\n",
    "p.vbar(x=df_1[(df_1.age>18) & (df_1.age<100)].age, width=0.5, bottom=0,alpha=0.5,\n",
    "       top=df_1[(df_1.age>18) & (df_1.age<100)].Degree, color=\"firebrick\",legend=\"male\")\n",
    "\n",
    "df_1=df[df.gender==1]\n",
    "\n",
    "\n",
    "p.vbar(x=df_1[(df_1.age>18) & (df_1.age<100)].age, width=0.5, bottom=0,alpha=0.5,\n",
    "       top=df_1[(df_1.age>18) & (df_1.age<100)].Degree, color=\"#50c878\",legend=\"female\")\n",
    "\n",
    "p.legend.orientation = \"horizontal\"\n",
    "\n",
    "p.xaxis.axis_label = 'Age'\n",
    "p.yaxis.axis_label = 'Degree'\n",
    "\n",
    "#p.add_layout(Title(text=\"Age\", align=\"center\"), \"below\")\n",
    "\n",
    "show(p)\n"
   ]
  },
  {
   "cell_type": "code",
   "execution_count": null,
   "metadata": {},
   "outputs": [],
   "source": []
  },
  {
   "cell_type": "code",
   "execution_count": 107,
   "metadata": {},
   "outputs": [],
   "source": [
    "props=pd.DataFrame(props,columns=[\"v1\",\"v2\",\"callsOut\",\"secOut\",\"callsIn\",\"secIn\"])\n",
    "props[\"age\"]=g.vp.age.a[props.v1.values]\n",
    "props[\"gender\"]=g.vp.gender.a[props.v1.values]"
   ]
  },
  {
   "cell_type": "code",
   "execution_count": 121,
   "metadata": {},
   "outputs": [],
   "source": [
    "df=props"
   ]
  },
  {
   "cell_type": "code",
   "execution_count": 122,
   "metadata": {},
   "outputs": [],
   "source": [
    "df=df[(df.age>10) & (df.age<100)]\n",
    "df=df[df.callsOut>0]\n",
    "grouped=df.groupby([\"age\",\"gender\"]).mean()\n",
    "df=pd.DataFrame(grouped)\n",
    "df=df.reset_index()"
   ]
  },
  {
   "cell_type": "code",
   "execution_count": 123,
   "metadata": {},
   "outputs": [
    {
     "data": {
      "text/html": [
       "<div>\n",
       "<style scoped>\n",
       "    .dataframe tbody tr th:only-of-type {\n",
       "        vertical-align: middle;\n",
       "    }\n",
       "\n",
       "    .dataframe tbody tr th {\n",
       "        vertical-align: top;\n",
       "    }\n",
       "\n",
       "    .dataframe thead th {\n",
       "        text-align: right;\n",
       "    }\n",
       "</style>\n",
       "<table border=\"1\" class=\"dataframe\">\n",
       "  <thead>\n",
       "    <tr style=\"text-align: right;\">\n",
       "      <th></th>\n",
       "      <th>age</th>\n",
       "      <th>gender</th>\n",
       "      <th>v1</th>\n",
       "      <th>v2</th>\n",
       "      <th>callsOut</th>\n",
       "      <th>secOut</th>\n",
       "      <th>callsIn</th>\n",
       "      <th>secIn</th>\n",
       "    </tr>\n",
       "  </thead>\n",
       "  <tbody>\n",
       "    <tr>\n",
       "      <th>0</th>\n",
       "      <td>21</td>\n",
       "      <td>1</td>\n",
       "      <td>1.782892e+06</td>\n",
       "      <td>9.658782e+06</td>\n",
       "      <td>125.000000</td>\n",
       "      <td>7362.500000</td>\n",
       "      <td>111.000000</td>\n",
       "      <td>6697.000000</td>\n",
       "    </tr>\n",
       "    <tr>\n",
       "      <th>1</th>\n",
       "      <td>25</td>\n",
       "      <td>0</td>\n",
       "      <td>5.392460e+05</td>\n",
       "      <td>1.415164e+07</td>\n",
       "      <td>34.000000</td>\n",
       "      <td>12075.000000</td>\n",
       "      <td>83.000000</td>\n",
       "      <td>51943.000000</td>\n",
       "    </tr>\n",
       "    <tr>\n",
       "      <th>2</th>\n",
       "      <td>27</td>\n",
       "      <td>1</td>\n",
       "      <td>2.903535e+06</td>\n",
       "      <td>1.587124e+07</td>\n",
       "      <td>20.000000</td>\n",
       "      <td>1490.000000</td>\n",
       "      <td>29.000000</td>\n",
       "      <td>3476.000000</td>\n",
       "    </tr>\n",
       "    <tr>\n",
       "      <th>3</th>\n",
       "      <td>28</td>\n",
       "      <td>0</td>\n",
       "      <td>1.125269e+07</td>\n",
       "      <td>7.912493e+06</td>\n",
       "      <td>14.000000</td>\n",
       "      <td>2170.000000</td>\n",
       "      <td>11.600000</td>\n",
       "      <td>2423.600000</td>\n",
       "    </tr>\n",
       "    <tr>\n",
       "      <th>4</th>\n",
       "      <td>29</td>\n",
       "      <td>0</td>\n",
       "      <td>1.287880e+07</td>\n",
       "      <td>8.834298e+06</td>\n",
       "      <td>21.333333</td>\n",
       "      <td>2386.000000</td>\n",
       "      <td>31.000000</td>\n",
       "      <td>4210.666667</td>\n",
       "    </tr>\n",
       "    <tr>\n",
       "      <th>...</th>\n",
       "      <td>...</td>\n",
       "      <td>...</td>\n",
       "      <td>...</td>\n",
       "      <td>...</td>\n",
       "      <td>...</td>\n",
       "      <td>...</td>\n",
       "      <td>...</td>\n",
       "      <td>...</td>\n",
       "    </tr>\n",
       "    <tr>\n",
       "      <th>138</th>\n",
       "      <td>96</td>\n",
       "      <td>1</td>\n",
       "      <td>1.153811e+07</td>\n",
       "      <td>6.054853e+06</td>\n",
       "      <td>23.333333</td>\n",
       "      <td>3066.666667</td>\n",
       "      <td>22.000000</td>\n",
       "      <td>1526.333333</td>\n",
       "    </tr>\n",
       "    <tr>\n",
       "      <th>139</th>\n",
       "      <td>97</td>\n",
       "      <td>0</td>\n",
       "      <td>9.770560e+06</td>\n",
       "      <td>7.224154e+06</td>\n",
       "      <td>34.875000</td>\n",
       "      <td>4667.125000</td>\n",
       "      <td>59.875000</td>\n",
       "      <td>11140.625000</td>\n",
       "    </tr>\n",
       "    <tr>\n",
       "      <th>140</th>\n",
       "      <td>98</td>\n",
       "      <td>0</td>\n",
       "      <td>5.320882e+06</td>\n",
       "      <td>9.669882e+06</td>\n",
       "      <td>137.500000</td>\n",
       "      <td>25506.500000</td>\n",
       "      <td>34.000000</td>\n",
       "      <td>7071.250000</td>\n",
       "    </tr>\n",
       "    <tr>\n",
       "      <th>141</th>\n",
       "      <td>99</td>\n",
       "      <td>0</td>\n",
       "      <td>1.358696e+07</td>\n",
       "      <td>9.719558e+06</td>\n",
       "      <td>240.000000</td>\n",
       "      <td>15163.000000</td>\n",
       "      <td>230.000000</td>\n",
       "      <td>13206.000000</td>\n",
       "    </tr>\n",
       "    <tr>\n",
       "      <th>142</th>\n",
       "      <td>99</td>\n",
       "      <td>1</td>\n",
       "      <td>4.065555e+06</td>\n",
       "      <td>5.365522e+06</td>\n",
       "      <td>132.000000</td>\n",
       "      <td>16532.333333</td>\n",
       "      <td>121.666667</td>\n",
       "      <td>17927.000000</td>\n",
       "    </tr>\n",
       "  </tbody>\n",
       "</table>\n",
       "<p>143 rows × 8 columns</p>\n",
       "</div>"
      ],
      "text/plain": [
       "     age  gender            v1            v2    callsOut        secOut  \\\n",
       "0     21       1  1.782892e+06  9.658782e+06  125.000000   7362.500000   \n",
       "1     25       0  5.392460e+05  1.415164e+07   34.000000  12075.000000   \n",
       "2     27       1  2.903535e+06  1.587124e+07   20.000000   1490.000000   \n",
       "3     28       0  1.125269e+07  7.912493e+06   14.000000   2170.000000   \n",
       "4     29       0  1.287880e+07  8.834298e+06   21.333333   2386.000000   \n",
       "..   ...     ...           ...           ...         ...           ...   \n",
       "138   96       1  1.153811e+07  6.054853e+06   23.333333   3066.666667   \n",
       "139   97       0  9.770560e+06  7.224154e+06   34.875000   4667.125000   \n",
       "140   98       0  5.320882e+06  9.669882e+06  137.500000  25506.500000   \n",
       "141   99       0  1.358696e+07  9.719558e+06  240.000000  15163.000000   \n",
       "142   99       1  4.065555e+06  5.365522e+06  132.000000  16532.333333   \n",
       "\n",
       "        callsIn         secIn  \n",
       "0    111.000000   6697.000000  \n",
       "1     83.000000  51943.000000  \n",
       "2     29.000000   3476.000000  \n",
       "3     11.600000   2423.600000  \n",
       "4     31.000000   4210.666667  \n",
       "..          ...           ...  \n",
       "138   22.000000   1526.333333  \n",
       "139   59.875000  11140.625000  \n",
       "140   34.000000   7071.250000  \n",
       "141  230.000000  13206.000000  \n",
       "142  121.666667  17927.000000  \n",
       "\n",
       "[143 rows x 8 columns]"
      ]
     },
     "execution_count": 123,
     "metadata": {},
     "output_type": "execute_result"
    }
   ],
   "source": [
    "df"
   ]
  },
  {
   "cell_type": "code",
   "execution_count": 124,
   "metadata": {},
   "outputs": [
    {
     "name": "stderr",
     "output_type": "stream",
     "text": [
      "BokehDeprecationWarning: 'legend' keyword is deprecated, use explicit 'legend_label', 'legend_field', or 'legend_group' keywords instead\n",
      "BokehDeprecationWarning: 'legend' keyword is deprecated, use explicit 'legend_label', 'legend_field', or 'legend_group' keywords instead\n"
     ]
    }
   ],
   "source": [
    "from bokeh.plotting import figure, output_file, show\n",
    "kin=1\n",
    "output_file('Sec_In_by_Age_gender'+str(kin)+'_2.html')\n",
    "\n",
    "p = figure(plot_width=600, plot_height=600)\n",
    "\n",
    "\n",
    "df_1=df[df.gender==0]\n",
    "\n",
    "p.vbar(x=df_1[(df_1.age>18) & (df_1.age<100)].age, width=0.5, bottom=0,alpha=0.5,\n",
    "       top=df_1[(df_1.age>18) & (df_1.age<100)].callsOut, color=\"firebrick\",legend=\"male\")\n",
    "\n",
    "df_1=df[df.gender==1]\n",
    "\n",
    "\n",
    "p.vbar(x=df_1[(df_1.age>18) & (df_1.age<100)].age, width=0.5, bottom=0,alpha=0.5,\n",
    "       top=df_1[(df_1.age>18) & (df_1.age<100)].callsOut, color=\"#50c878\",legend=\"female\")\n",
    "\n",
    "p.legend.orientation = \"horizontal\"\n",
    "\n",
    "p.xaxis.axis_label = 'Age'\n",
    "p.yaxis.axis_label = 'Total In-Call Time'\n",
    "\n",
    "#p.add_layout(Title(text=\"Age\", align=\"center\"), \"below\")\n",
    "\n",
    "show(p)\n"
   ]
  },
  {
   "cell_type": "code",
   "execution_count": 110,
   "metadata": {},
   "outputs": [
    {
     "data": {
      "text/html": [
       "<div>\n",
       "<style scoped>\n",
       "    .dataframe tbody tr th:only-of-type {\n",
       "        vertical-align: middle;\n",
       "    }\n",
       "\n",
       "    .dataframe tbody tr th {\n",
       "        vertical-align: top;\n",
       "    }\n",
       "\n",
       "    .dataframe thead th {\n",
       "        text-align: right;\n",
       "    }\n",
       "</style>\n",
       "<table border=\"1\" class=\"dataframe\">\n",
       "  <thead>\n",
       "    <tr style=\"text-align: right;\">\n",
       "      <th></th>\n",
       "      <th>v1</th>\n",
       "      <th>v2</th>\n",
       "      <th>callsOut</th>\n",
       "      <th>secOut</th>\n",
       "      <th>callsIn</th>\n",
       "      <th>secIn</th>\n",
       "      <th>age</th>\n",
       "      <th>gender</th>\n",
       "    </tr>\n",
       "  </thead>\n",
       "  <tbody>\n",
       "    <tr>\n",
       "      <th>0</th>\n",
       "      <td>0</td>\n",
       "      <td>9123886</td>\n",
       "      <td>6</td>\n",
       "      <td>687</td>\n",
       "      <td>7</td>\n",
       "      <td>1609</td>\n",
       "      <td>71</td>\n",
       "      <td>1</td>\n",
       "    </tr>\n",
       "    <tr>\n",
       "      <th>1</th>\n",
       "      <td>3</td>\n",
       "      <td>2684087</td>\n",
       "      <td>141</td>\n",
       "      <td>13389</td>\n",
       "      <td>43</td>\n",
       "      <td>2859</td>\n",
       "      <td>44</td>\n",
       "      <td>1</td>\n",
       "    </tr>\n",
       "    <tr>\n",
       "      <th>2</th>\n",
       "      <td>6</td>\n",
       "      <td>12298219</td>\n",
       "      <td>353</td>\n",
       "      <td>27171</td>\n",
       "      <td>99</td>\n",
       "      <td>5049</td>\n",
       "      <td>66</td>\n",
       "      <td>0</td>\n",
       "    </tr>\n",
       "    <tr>\n",
       "      <th>3</th>\n",
       "      <td>6</td>\n",
       "      <td>11305125</td>\n",
       "      <td>21</td>\n",
       "      <td>1538</td>\n",
       "      <td>0</td>\n",
       "      <td>0</td>\n",
       "      <td>66</td>\n",
       "      <td>0</td>\n",
       "    </tr>\n",
       "    <tr>\n",
       "      <th>4</th>\n",
       "      <td>6</td>\n",
       "      <td>10016686</td>\n",
       "      <td>54</td>\n",
       "      <td>4839</td>\n",
       "      <td>30</td>\n",
       "      <td>3397</td>\n",
       "      <td>66</td>\n",
       "      <td>0</td>\n",
       "    </tr>\n",
       "    <tr>\n",
       "      <th>...</th>\n",
       "      <td>...</td>\n",
       "      <td>...</td>\n",
       "      <td>...</td>\n",
       "      <td>...</td>\n",
       "      <td>...</td>\n",
       "      <td>...</td>\n",
       "      <td>...</td>\n",
       "      <td>...</td>\n",
       "    </tr>\n",
       "    <tr>\n",
       "      <th>99870</th>\n",
       "      <td>19824051</td>\n",
       "      <td>17953579</td>\n",
       "      <td>3</td>\n",
       "      <td>71</td>\n",
       "      <td>4</td>\n",
       "      <td>147</td>\n",
       "      <td>79</td>\n",
       "      <td>0</td>\n",
       "    </tr>\n",
       "    <tr>\n",
       "      <th>99871</th>\n",
       "      <td>19824086</td>\n",
       "      <td>2107935</td>\n",
       "      <td>10</td>\n",
       "      <td>705</td>\n",
       "      <td>5</td>\n",
       "      <td>522</td>\n",
       "      <td>67</td>\n",
       "      <td>1</td>\n",
       "    </tr>\n",
       "    <tr>\n",
       "      <th>99872</th>\n",
       "      <td>19824288</td>\n",
       "      <td>14381478</td>\n",
       "      <td>0</td>\n",
       "      <td>0</td>\n",
       "      <td>0</td>\n",
       "      <td>0</td>\n",
       "      <td>55</td>\n",
       "      <td>1</td>\n",
       "    </tr>\n",
       "    <tr>\n",
       "      <th>99873</th>\n",
       "      <td>19824331</td>\n",
       "      <td>18187724</td>\n",
       "      <td>0</td>\n",
       "      <td>0</td>\n",
       "      <td>0</td>\n",
       "      <td>0</td>\n",
       "      <td>59</td>\n",
       "      <td>0</td>\n",
       "    </tr>\n",
       "    <tr>\n",
       "      <th>99874</th>\n",
       "      <td>19824382</td>\n",
       "      <td>13092403</td>\n",
       "      <td>2</td>\n",
       "      <td>94</td>\n",
       "      <td>4</td>\n",
       "      <td>613</td>\n",
       "      <td>74</td>\n",
       "      <td>0</td>\n",
       "    </tr>\n",
       "  </tbody>\n",
       "</table>\n",
       "<p>99875 rows × 8 columns</p>\n",
       "</div>"
      ],
      "text/plain": [
       "             v1        v2  callsOut  secOut  callsIn  secIn  age  gender\n",
       "0             0   9123886         6     687        7   1609   71       1\n",
       "1             3   2684087       141   13389       43   2859   44       1\n",
       "2             6  12298219       353   27171       99   5049   66       0\n",
       "3             6  11305125        21    1538        0      0   66       0\n",
       "4             6  10016686        54    4839       30   3397   66       0\n",
       "...         ...       ...       ...     ...      ...    ...  ...     ...\n",
       "99870  19824051  17953579         3      71        4    147   79       0\n",
       "99871  19824086   2107935        10     705        5    522   67       1\n",
       "99872  19824288  14381478         0       0        0      0   55       1\n",
       "99873  19824331  18187724         0       0        0      0   59       0\n",
       "99874  19824382  13092403         2      94        4    613   74       0\n",
       "\n",
       "[99875 rows x 8 columns]"
      ]
     },
     "execution_count": 110,
     "metadata": {},
     "output_type": "execute_result"
    }
   ],
   "source": [
    "props"
   ]
  },
  {
   "cell_type": "code",
   "execution_count": 79,
   "metadata": {},
   "outputs": [
    {
     "name": "stdout",
     "output_type": "stream",
     "text": [
      "Total :  No edges :  97927 (89.8%)  1 edge:  5040 (4.6%) , 2 edges : 6029 (5.5%)\n",
      "IntraTelefonica :  No edges :  72577 (90.1%)  1 edge:  3520 (4.4%) , 2 edges : 4463 (5.5%)\n",
      "IntraExternal :  No edges :  5566 (98.7%)  1 edge:  52 (0.9%) , 2 edges : 22 (0.4%)\n",
      "Across Companies :  No edges :  25350 (89.1%)  1 edge:  1520 (5.3%) , 2 edges : 1566 (5.5%)\n"
     ]
    }
   ],
   "source": [
    "tot=tot_11+tot_12\n",
    "exist2=exist2_12+exist2_11\n",
    "exist1=exist1_12+exist1_11\n",
    "notexist=notexist_12+notexist_11\n",
    "print(\"Total : \", \"No edges : \",notexist, \"({0:.1%})\".format(notexist/tot),\" 1 edge: \", exist1, \"({0:.1%})\".format(exist1/tot),\", 2 edges :\",exist2, \"({0:.1%})\".format(exist2/tot) )\n",
    "print(\"IntraTelefonica : \", \"No edges : \",notexist_11, \"({0:.1%})\".format(notexist_11/tot_11),\" 1 edge: \", exist1_11, \"({0:.1%})\".format(exist1_11/tot_11),\", 2 edges :\",exist2_11, \"({0:.1%})\".format(exist2_11/tot_11) )\n",
    "print(\"IntraExternal : \", \"No edges : \",notexist_22,\"({0:.1%})\".format(notexist_22/tot_22),\" 1 edge: \",exist1_22, \"({0:.1%})\".format(exist1_22/tot_22),\", 2 edges :\",exist2_22, \"({0:.1%})\".format(exist2_22/tot_22) )\n",
    "print(\"Across Companies : \", \"No edges : \",notexist_12,\"({0:.1%})\".format(notexist_12/tot_12),\" 1 edge: \",exist1_12, \"({0:.1%})\".format(exist1_12/tot_12),\", 2 edges :\",exist2_12, \"({0:.1%})\".format(exist2_12/tot_12) )"
   ]
  },
  {
   "cell_type": "code",
   "execution_count": null,
   "metadata": {},
   "outputs": [],
   "source": []
  },
  {
   "cell_type": "code",
   "execution_count": 42,
   "metadata": {},
   "outputs": [
    {
     "name": "stdout",
     "output_type": "stream",
     "text": [
      "IntraTelefonica :  No edges :  19971 (25.7%)  1 edge:  5552 (7.1%) , 2 edges : 52198 (67.2%)\n",
      "IntraExternal :  No edges :  6368 (92.5%)  1 edge:  60 (0.9%) , 2 edges : 458 (6.7%)\n",
      "Across Companies :  No edges :  5697 (26.5%)  1 edge:  1335 (6.2%) , 2 edges : 14463 (67.3%)\n"
     ]
    }
   ],
   "source": [
    "#print(\"IntraTelefonica : \", \"No edges : \",notexist_11,\" 1 edge: \", exist1_11,\", 2 edges :\", exist2_11 )\n",
    "#print(\"IntraExternal : \", \"No edges : \",notexist_22,\" 1 edge: \", exist1_22,\", 2 edges :\", exist2_22 )\n",
    "#print(\"Across Companies : \", \"No edges : \",notexist_12,\" 1 edge: \", exist1_12,\", 2 edges :\", exist2_12 )\n",
    "\n",
    "print(\"IntraTelefonica : \", \"No edges : \",notexist_11, \"({0:.1%})\".format(notexist_11/tot_11),\" 1 edge: \", exist1_11, \"({0:.1%})\".format(exist1_11/tot_11),\", 2 edges :\",exist2_11, \"({0:.1%})\".format(exist2_11/tot_11) )\n",
    "print(\"IntraExternal : \", \"No edges : \",notexist_22,\"({0:.1%})\".format(notexist_22/tot_22),\" 1 edge: \",exist1_22, \"({0:.1%})\".format(exist1_22/tot_22),\", 2 edges :\",exist2_22, \"({0:.1%})\".format(exist2_22/tot_22) )\n",
    "print(\"Across Companies : \", \"No edges : \",notexist_12,\"({0:.1%})\".format(notexist_12/tot_12),\" 1 edge: \",exist1_12, \"({0:.1%})\".format(exist1_12/tot_12),\", 2 edges :\",exist2_12, \"({0:.1%})\".format(exist2_12/tot_12) )"
   ]
  },
  {
   "cell_type": "code",
   "execution_count": null,
   "metadata": {},
   "outputs": [],
   "source": []
  },
  {
   "cell_type": "code",
   "execution_count": 99,
   "metadata": {},
   "outputs": [
    {
     "name": "stdout",
     "output_type": "stream",
     "text": [
      "IntraTelefonica :  No edges :  19971  1 edge:  7103 , 2 edges : 50647\n",
      "IntraExternal :  No edges :  6368  1 edge:  467 , 2 edges : 51\n",
      "Across Companies :  No edges :  5697  1 edge:  14576 , 2 edges : 1222\n"
     ]
    }
   ],
   "source": [
    "print(\"IntraTelefonica : \", \"No edges : \",notexist_11,\" 1 edge: \", exist1_11,\", 2 edges :\", exist2_11 )\n",
    "print(\"IntraExternal : \", \"No edges : \",notexist_22,\" 1 edge: \", exist1_22,\", 2 edges :\", exist2_22 )\n",
    "print(\"Across Companies : \", \"No edges : \",notexist_12,\" 1 edge: \", exist1_12,\", 2 edges :\", exist2_12 )"
   ]
  },
  {
   "cell_type": "code",
   "execution_count": 100,
   "metadata": {},
   "outputs": [
    {
     "name": "stdout",
     "output_type": "stream",
     "text": [
      "IntraTelefonica :  No edges :  25.7%  1 edge:  9.1% , 2 edges : 65.2%\n",
      "IntraExternal :  No edges :  92.5%  1 edge:  6.8% , 2 edges : 0.7%\n",
      "Across Companies :  No edges :  26.5%  1 edge:  67.8% , 2 edges : 5.7%\n"
     ]
    }
   ],
   "source": [
    "tot_11=notexist_11+exist1_11+exist2_11\n",
    "tot_22=notexist_22+exist1_22+exist2_22\n",
    "tot_12=exist2_12+exist1_12+notexist_12\n",
    "print(\"IntraTelefonica : \", \"No edges : \",\"{0:.1%}\".format(notexist_11/tot_11),\" 1 edge: \", \"{0:.1%}\".format(exist1_11/tot_11),\", 2 edges :\", \"{0:.1%}\".format(exist2_11/tot_11) )\n",
    "print(\"IntraExternal : \", \"No edges : \",\"{0:.1%}\".format(notexist_22/tot_22),\" 1 edge: \", \"{0:.1%}\".format(exist1_22/tot_22),\", 2 edges :\", \"{0:.1%}\".format(exist2_22/tot_22) )\n",
    "print(\"Across Companies : \", \"No edges : \",\"{0:.1%}\".format(notexist_12/tot_12),\" 1 edge: \", \"{0:.1%}\".format(exist1_12/tot_12),\", 2 edges :\", \"{0:.1%}\".format(exist2_12/tot_12) )"
   ]
  },
  {
   "cell_type": "code",
   "execution_count": 101,
   "metadata": {},
   "outputs": [
    {
     "name": "stdout",
     "output_type": "stream",
     "text": [
      "45 14531\n"
     ]
    }
   ],
   "source": [
    "print(exist1_in,exist1_out)"
   ]
  },
  {
   "cell_type": "code",
   "execution_count": 91,
   "metadata": {},
   "outputs": [
    {
     "name": "stdout",
     "output_type": "stream",
     "text": [
      "IntraTelefonica :  No edges :  19971  1 edge:  7103 , 2 edges : 50647\n",
      "IntraExternal :  No edges :  6368  1 edge:  467 , 2 edges : 51\n",
      "Across Companies :  No edges :  5697  1 edge:  14576 , 2 edges : 1222\n"
     ]
    }
   ],
   "source": [
    "print(\"IntraTelefonica : \", \"No edges : \",notexist_11,\" 1 edge: \", exist1_11,\", 2 edges :\", exist2_11 )\n",
    "print(\"IntraExternal : \", \"No edges : \",notexist_22,\" 1 edge: \", exist1_22,\", 2 edges :\", exist2_22 )\n",
    "print(\"Across Companies : \", \"No edges : \",notexist_12,\" 1 edge: \", exist1_12,\", 2 edges :\", exist2_12 )"
   ]
  },
  {
   "cell_type": "code",
   "execution_count": 92,
   "metadata": {},
   "outputs": [
    {
     "name": "stdout",
     "output_type": "stream",
     "text": [
      "IntraTelefonica :  No edges :  25.7%  1 edge:  9.1% , 2 edges : 65.2%\n",
      "IntraExternal :  No edges :  92.5%  1 edge:  6.8% , 2 edges : 0.7%\n",
      "Across Companies :  No edges :  26.5%  1 edge:  67.8% , 2 edges : 5.7%\n"
     ]
    }
   ],
   "source": [
    "tot_11=notexist_11+exist1_11+exist2_11\n",
    "tot_22=notexist_22+exist1_22+exist2_22\n",
    "tot_12=exist2_12+exist1_12+notexist_12\n",
    "print(\"IntraTelefonica : \", \"No edges : \",\"{0:.1%}\".format(notexist_11/tot_11),\" 1 edge: \", \"{0:.1%}\".format(exist1_11/tot_11),\", 2 edges :\", \"{0:.1%}\".format(exist2_11/tot_11) )\n",
    "print(\"IntraExternal : \", \"No edges : \",\"{0:.1%}\".format(notexist_22/tot_22),\" 1 edge: \", \"{0:.1%}\".format(exist1_22/tot_22),\", 2 edges :\", \"{0:.1%}\".format(exist2_22/tot_22) )\n",
    "print(\"Across Companies : \", \"No edges : \",\"{0:.1%}\".format(notexist_12/tot_12),\" 1 edge: \", \"{0:.1%}\".format(exist1_12/tot_12),\", 2 edges :\", \"{0:.1%}\".format(exist2_12/tot_12) )"
   ]
  },
  {
   "cell_type": "code",
   "execution_count": 93,
   "metadata": {},
   "outputs": [
    {
     "data": {
      "text/plain": [
       "<Graph object, directed, with 36703940 vertices and 792060465 edges, 2 internal vertex properties, 3 internal edge properties, at 0x7f9d65d83040>"
      ]
     },
     "execution_count": 93,
     "metadata": {},
     "output_type": "execute_result"
    }
   ],
   "source": [
    "g2"
   ]
  },
  {
   "cell_type": "code",
   "execution_count": 89,
   "metadata": {},
   "outputs": [
    {
     "name": "stdout",
     "output_type": "stream",
     "text": [
      "source         (vertex)  (type: int16_t)\n",
      "source2        (vertex)  (type: int16_t)\n",
      "Kin            (edge)    (type: int16_t)\n",
      "callsOut       (edge)    (type: int32_t)\n",
      "secOut         (edge)    (type: int32_t)\n"
     ]
    }
   ],
   "source": [
    "g2.list_properties()"
   ]
  },
  {
   "cell_type": "code",
   "execution_count": 91,
   "metadata": {},
   "outputs": [
    {
     "data": {
      "text/plain": [
       "Counter({0: 936140663})"
      ]
     },
     "execution_count": 91,
     "metadata": {},
     "output_type": "execute_result"
    }
   ],
   "source": [
    "Counter(g2.ep.Kin.a)"
   ]
  },
  {
   "cell_type": "code",
   "execution_count": null,
   "metadata": {},
   "outputs": [],
   "source": []
  },
  {
   "cell_type": "code",
   "execution_count": null,
   "metadata": {},
   "outputs": [],
   "source": []
  },
  {
   "cell_type": "code",
   "execution_count": null,
   "metadata": {},
   "outputs": [],
   "source": []
  },
  {
   "cell_type": "code",
   "execution_count": 103,
   "metadata": {},
   "outputs": [],
   "source": [
    "nodup=spark.read.orc(\"/media/sebastian/Seagate Basic1/SINACOFI/CDR/nodup2/*.orc\")"
   ]
  },
  {
   "cell_type": "code",
   "execution_count": null,
   "metadata": {},
   "outputs": [],
   "source": []
  }
 ],
 "metadata": {
  "kernelspec": {
   "display_name": "Python (Spark-Geopandas)",
   "language": "python",
   "name": "geo_env"
  },
  "language_info": {
   "codemirror_mode": {
    "name": "ipython",
    "version": 3
   },
   "file_extension": ".py",
   "mimetype": "text/x-python",
   "name": "python",
   "nbconvert_exporter": "python",
   "pygments_lexer": "ipython3",
   "version": "3.8.6"
  }
 },
 "nbformat": 4,
 "nbformat_minor": 4
}
