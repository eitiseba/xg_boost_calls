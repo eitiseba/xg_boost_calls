{
 "cells": [
  {
   "cell_type": "code",
   "execution_count": 1,
   "metadata": {},
   "outputs": [],
   "source": [
    "import pandas as pd\n",
    "import pyarrow as pa\n",
    "from graph_tool.all import *\n",
    "from graph_tool import all\n",
    "import csv, math, os, pprint, sys\n",
    "from collections import Counter\n",
    "import pandas as pd\n",
    "import time\n",
    "import graph_tool as gt"
   ]
  },
  {
   "cell_type": "code",
   "execution_count": 2,
   "metadata": {},
   "outputs": [
    {
     "data": {
      "text/html": [
       "\n",
       "            <div>\n",
       "                <p><b>SparkSession - in-memory</b></p>\n",
       "                \n",
       "        <div>\n",
       "            <p><b>SparkContext</b></p>\n",
       "\n",
       "            <p><a href=\"http://192.168.0.13:4040\">Spark UI</a></p>\n",
       "\n",
       "            <dl>\n",
       "              <dt>Version</dt>\n",
       "                <dd><code>v3.0.1</code></dd>\n",
       "              <dt>Master</dt>\n",
       "                <dd><code>local[*]</code></dd>\n",
       "              <dt>AppName</dt>\n",
       "                <dd><code>pyspark-shell</code></dd>\n",
       "            </dl>\n",
       "        </div>\n",
       "        \n",
       "            </div>\n",
       "        "
      ],
      "text/plain": [
       "<pyspark.sql.session.SparkSession at 0x7f10708d9c10>"
      ]
     },
     "execution_count": 2,
     "metadata": {},
     "output_type": "execute_result"
    }
   ],
   "source": [
    "import time\n",
    "from pyspark import SparkConf, SparkContext\n",
    "import findspark\n",
    "findspark.init()\n",
    "from pyspark.sql import SparkSession\n",
    "\n",
    "conf = (SparkConf()\n",
    "    .set(\"spark.driver.maxResultSize\", \"15g\").set(\"spark.driver.memory\",\"100g\").\n",
    "        set(\"spark.executor.pyspark.memory\",\"100g\").set(\"spark.executor.memory\",\"100g\")\n",
    "        .set(\"spark.executor.instances\",\"1\"))\n",
    "\n",
    "# Create new context\n",
    "sc = SparkContext(conf=conf)\n",
    "\n",
    "from pyspark.sql import SQLContext\n",
    "sqlContext = SQLContext(sc)\n",
    "import os \n",
    "#os.getcwd()\n",
    "spark = SparkSession.builder.getOrCreate()\n",
    "spark"
   ]
  },
  {
   "cell_type": "code",
   "execution_count": 3,
   "metadata": {},
   "outputs": [],
   "source": [
    "import pyspark.sql.functions as f\n",
    "from pyspark.sql import Window\n",
    "from pyspark.sql.functions import count, desc , col, max ,struct, sum, row_number\n",
    "def shapedf(spdf):\n",
    "    return str(spdf.count())+\" , \"+str(len(spdf.columns))"
   ]
  },
  {
   "cell_type": "code",
   "execution_count": 4,
   "metadata": {},
   "outputs": [],
   "source": [
    "g2=gt.Graph(directed=False)\n",
    "#g2.load(\"/home/sebastian/Documents/Calls_2019_2.gt\")\n",
    "g2.load(\"/home/sebastian/Documents/Calls_2019_filtered_2.gt\")"
   ]
  },
  {
   "cell_type": "code",
   "execution_count": 5,
   "metadata": {},
   "outputs": [],
   "source": [
    "remove_parallel_edges(g2)"
   ]
  },
  {
   "cell_type": "code",
   "execution_count": 27,
   "metadata": {},
   "outputs": [],
   "source": [
    "g2.vp[\"clust\"]=gt.clustering.local_clustering(g2)"
   ]
  },
  {
   "cell_type": "code",
   "execution_count": 28,
   "metadata": {},
   "outputs": [],
   "source": [
    "g=gt.Graph(directed=True)\n",
    "g.load(\"/home/sebastian/Desktop/Notebooks/Kin_extended_2.gt\")\n",
    "#g.load(\"/home/sebastian/Desktop/Notebooks/Kin_Sinacofi.gt\")\n",
    "#g.add_vertex(n=36703940)"
   ]
  },
  {
   "cell_type": "code",
   "execution_count": 29,
   "metadata": {},
   "outputs": [],
   "source": [
    "df=pd.DataFrame(g2.vp.Degree.a[g2.vp.source.a>0],columns=[\"Degree\"])"
   ]
  },
  {
   "cell_type": "code",
   "execution_count": 32,
   "metadata": {},
   "outputs": [],
   "source": [
    "df[\"gender\"]=g.vp.gender.a[g2.vp.id.a[g2.vp.source.a>0]-1]\n",
    "df[\"age\"]=g.vp.age.a[g2.vp.id.a[g2.vp.source.a>0]-1]"
   ]
  },
  {
   "cell_type": "code",
   "execution_count": 33,
   "metadata": {},
   "outputs": [],
   "source": [
    "df[\"clust\"]=g2.vp.clust.a[g2.vp.source.a>0]\n",
    "df[\"DegreeIn\"]=g2.vp.DegreeIn.a[g2.vp.source.a>0]\n",
    "df[\"DegreeOut\"]=g2.vp.DegreeOut.a[g2.vp.source.a>0]\n",
    "df[\"DegreeCallsIn\"]=g2.vp.DegreeCallsIn.a[g2.vp.source.a>0]\n",
    "df[\"DegreeCallsOut\"]=g2.vp.DegreeCallsOut.a[g2.vp.source.a>0]\n",
    "df[\"DegreeSecIn\"]=g2.vp.DegreeSecIn.a[g2.vp.source.a>0]\n",
    "df[\"DegreeSecOut\"]=g2.vp.DegreeSecOut.a[g2.vp.source.a>0]\n",
    "df[\"source2\"]=g2.vp.source2.a[g2.vp.source.a>0]\n",
    "#df[\"sex\"]=g2.vp.sex.a[g2.vp.source.a>0]\n",
    "\n",
    "#df[\"age\"]=g.vp.age.a[g2.vp.id.a[g2.vp.source.a>0]-1]"
   ]
  },
  {
   "cell_type": "code",
   "execution_count": 34,
   "metadata": {},
   "outputs": [],
   "source": [
    "df[\"Out_ratio\"]=df[\"DegreeOut\"]/(df[\"DegreeIn\"]+df[\"DegreeOut\"])\n",
    "df[\"OutCall_ratio\"]=df[\"DegreeCallsOut\"]/(df[\"DegreeCallsIn\"]+df[\"DegreeCallsOut\"])\n",
    "df[\"OutSec_ratio\"]=df[\"DegreeSecOut\"]/(df[\"DegreeSecIn\"]+df[\"DegreeSecOut\"])"
   ]
  },
  {
   "cell_type": "code",
   "execution_count": null,
   "metadata": {},
   "outputs": [],
   "source": [
    "df=df[(df.age>18) & (df.age<90)]\n",
    "#df2=df[df.callsOut>0]\n",
    "grouped=df.groupby([\"age\",\"gender\"]).mean()\n",
    "df2=pd.DataFrame(grouped)\n",
    "df2=df2.reset_index()"
   ]
  },
  {
   "cell_type": "code",
   "execution_count": 47,
   "metadata": {
    "scrolled": true
   },
   "outputs": [
    {
     "data": {
      "text/html": [
       "<div>\n",
       "<style scoped>\n",
       "    .dataframe tbody tr th:only-of-type {\n",
       "        vertical-align: middle;\n",
       "    }\n",
       "\n",
       "    .dataframe tbody tr th {\n",
       "        vertical-align: top;\n",
       "    }\n",
       "\n",
       "    .dataframe thead th {\n",
       "        text-align: right;\n",
       "    }\n",
       "</style>\n",
       "<table border=\"1\" class=\"dataframe\">\n",
       "  <thead>\n",
       "    <tr style=\"text-align: right;\">\n",
       "      <th></th>\n",
       "      <th>age</th>\n",
       "      <th>gender</th>\n",
       "      <th>Degree</th>\n",
       "      <th>clust</th>\n",
       "      <th>DegreeIn</th>\n",
       "      <th>DegreeOut</th>\n",
       "      <th>DegreeCallsIn</th>\n",
       "      <th>DegreeCallsOut</th>\n",
       "      <th>DegreeSecIn</th>\n",
       "      <th>DegreeSecOut</th>\n",
       "      <th>source2</th>\n",
       "      <th>Out_ratio</th>\n",
       "      <th>OutCall_ratio</th>\n",
       "      <th>OutSec_ratio</th>\n",
       "    </tr>\n",
       "  </thead>\n",
       "  <tbody>\n",
       "    <tr>\n",
       "      <th>0</th>\n",
       "      <td>19</td>\n",
       "      <td>0</td>\n",
       "      <td>92.491020</td>\n",
       "      <td>0.070444</td>\n",
       "      <td>43.953000</td>\n",
       "      <td>48.538021</td>\n",
       "      <td>435.290791</td>\n",
       "      <td>455.436760</td>\n",
       "      <td>48460.786397</td>\n",
       "      <td>52484.666030</td>\n",
       "      <td>2.999618</td>\n",
       "      <td>0.528950</td>\n",
       "      <td>0.515293</td>\n",
       "      <td>0.517897</td>\n",
       "    </tr>\n",
       "    <tr>\n",
       "      <th>1</th>\n",
       "      <td>19</td>\n",
       "      <td>1</td>\n",
       "      <td>87.797654</td>\n",
       "      <td>0.071039</td>\n",
       "      <td>42.323419</td>\n",
       "      <td>45.474235</td>\n",
       "      <td>455.652283</td>\n",
       "      <td>469.978215</td>\n",
       "      <td>66648.310850</td>\n",
       "      <td>55427.370758</td>\n",
       "      <td>3.000000</td>\n",
       "      <td>0.515776</td>\n",
       "      <td>0.505074</td>\n",
       "      <td>0.472068</td>\n",
       "    </tr>\n",
       "    <tr>\n",
       "      <th>2</th>\n",
       "      <td>20</td>\n",
       "      <td>0</td>\n",
       "      <td>99.481374</td>\n",
       "      <td>0.065767</td>\n",
       "      <td>46.983620</td>\n",
       "      <td>52.497754</td>\n",
       "      <td>455.985205</td>\n",
       "      <td>502.096169</td>\n",
       "      <td>50525.223514</td>\n",
       "      <td>59399.421400</td>\n",
       "      <td>2.998943</td>\n",
       "      <td>0.526777</td>\n",
       "      <td>0.516559</td>\n",
       "      <td>0.518009</td>\n",
       "    </tr>\n",
       "    <tr>\n",
       "      <th>3</th>\n",
       "      <td>20</td>\n",
       "      <td>1</td>\n",
       "      <td>93.186890</td>\n",
       "      <td>0.065132</td>\n",
       "      <td>44.964024</td>\n",
       "      <td>48.222866</td>\n",
       "      <td>490.110671</td>\n",
       "      <td>526.087195</td>\n",
       "      <td>69608.781707</td>\n",
       "      <td>62078.552134</td>\n",
       "      <td>2.999390</td>\n",
       "      <td>0.517748</td>\n",
       "      <td>0.512688</td>\n",
       "      <td>0.480978</td>\n",
       "    </tr>\n",
       "    <tr>\n",
       "      <th>4</th>\n",
       "      <td>21</td>\n",
       "      <td>0</td>\n",
       "      <td>108.734482</td>\n",
       "      <td>0.062113</td>\n",
       "      <td>51.650983</td>\n",
       "      <td>57.083499</td>\n",
       "      <td>499.601502</td>\n",
       "      <td>547.576320</td>\n",
       "      <td>54714.700906</td>\n",
       "      <td>64470.877181</td>\n",
       "      <td>2.998675</td>\n",
       "      <td>0.523404</td>\n",
       "      <td>0.515759</td>\n",
       "      <td>0.518635</td>\n",
       "    </tr>\n",
       "  </tbody>\n",
       "</table>\n",
       "</div>"
      ],
      "text/plain": [
       "   age  gender      Degree     clust   DegreeIn  DegreeOut  DegreeCallsIn  \\\n",
       "0   19       0   92.491020  0.070444  43.953000  48.538021     435.290791   \n",
       "1   19       1   87.797654  0.071039  42.323419  45.474235     455.652283   \n",
       "2   20       0   99.481374  0.065767  46.983620  52.497754     455.985205   \n",
       "3   20       1   93.186890  0.065132  44.964024  48.222866     490.110671   \n",
       "4   21       0  108.734482  0.062113  51.650983  57.083499     499.601502   \n",
       "\n",
       "   DegreeCallsOut   DegreeSecIn  DegreeSecOut   source2  Out_ratio  \\\n",
       "0      455.436760  48460.786397  52484.666030  2.999618   0.528950   \n",
       "1      469.978215  66648.310850  55427.370758  3.000000   0.515776   \n",
       "2      502.096169  50525.223514  59399.421400  2.998943   0.526777   \n",
       "3      526.087195  69608.781707  62078.552134  2.999390   0.517748   \n",
       "4      547.576320  54714.700906  64470.877181  2.998675   0.523404   \n",
       "\n",
       "   OutCall_ratio  OutSec_ratio  \n",
       "0       0.515293      0.517897  \n",
       "1       0.505074      0.472068  \n",
       "2       0.516559      0.518009  \n",
       "3       0.512688      0.480978  \n",
       "4       0.515759      0.518635  "
      ]
     },
     "execution_count": 47,
     "metadata": {},
     "output_type": "execute_result"
    }
   ],
   "source": [
    "df2.head()"
   ]
  },
  {
   "cell_type": "code",
   "execution_count": null,
   "metadata": {},
   "outputs": [],
   "source": [
    "predictors = [\n",
    "#            'age',\n",
    "            'clust',\n",
    "            'DegreeIn',\n",
    "            'DegreeOut',\n",
    "            'DegreeCallsIn',\n",
    "            'DegreeCallsOut',\n",
    "            'DegreeSecIn',\n",
    "            'DegreeSecOut',\n",
    "            \"Out_ratio\",\n",
    "            \"OutCall_ratio\",\n",
    "            \"OutSec_ratio\"]\n",
    "\n",
    "target = \"gender\""
   ]
  },
  {
   "cell_type": "code",
   "execution_count": 40,
   "metadata": {},
   "outputs": [],
   "source": [
    "%matplotlib inline\n",
    "import matplotlib.pyplot as plt"
   ]
  },
  {
   "cell_type": "code",
   "execution_count": 46,
   "metadata": {},
   "outputs": [
    {
     "data": {
      "text/html": [
       "\n",
       "    <div class=\"bk-root\">\n",
       "        <a href=\"https://bokeh.org\" target=\"_blank\" class=\"bk-logo bk-logo-small bk-logo-notebook\"></a>\n",
       "        <span id=\"7495\">Loading BokehJS ...</span>\n",
       "    </div>"
      ]
     },
     "metadata": {},
     "output_type": "display_data"
    },
    {
     "data": {
      "application/javascript": [
       "\n",
       "(function(root) {\n",
       "  function now() {\n",
       "    return new Date();\n",
       "  }\n",
       "\n",
       "  var force = true;\n",
       "\n",
       "  if (typeof root._bokeh_onload_callbacks === \"undefined\" || force === true) {\n",
       "    root._bokeh_onload_callbacks = [];\n",
       "    root._bokeh_is_loading = undefined;\n",
       "  }\n",
       "\n",
       "  var JS_MIME_TYPE = 'application/javascript';\n",
       "  var HTML_MIME_TYPE = 'text/html';\n",
       "  var EXEC_MIME_TYPE = 'application/vnd.bokehjs_exec.v0+json';\n",
       "  var CLASS_NAME = 'output_bokeh rendered_html';\n",
       "\n",
       "  /**\n",
       "   * Render data to the DOM node\n",
       "   */\n",
       "  function render(props, node) {\n",
       "    var script = document.createElement(\"script\");\n",
       "    node.appendChild(script);\n",
       "  }\n",
       "\n",
       "  /**\n",
       "   * Handle when an output is cleared or removed\n",
       "   */\n",
       "  function handleClearOutput(event, handle) {\n",
       "    var cell = handle.cell;\n",
       "\n",
       "    var id = cell.output_area._bokeh_element_id;\n",
       "    var server_id = cell.output_area._bokeh_server_id;\n",
       "    // Clean up Bokeh references\n",
       "    if (id != null && id in Bokeh.index) {\n",
       "      Bokeh.index[id].model.document.clear();\n",
       "      delete Bokeh.index[id];\n",
       "    }\n",
       "\n",
       "    if (server_id !== undefined) {\n",
       "      // Clean up Bokeh references\n",
       "      var cmd = \"from bokeh.io.state import curstate; print(curstate().uuid_to_server['\" + server_id + \"'].get_sessions()[0].document.roots[0]._id)\";\n",
       "      cell.notebook.kernel.execute(cmd, {\n",
       "        iopub: {\n",
       "          output: function(msg) {\n",
       "            var id = msg.content.text.trim();\n",
       "            if (id in Bokeh.index) {\n",
       "              Bokeh.index[id].model.document.clear();\n",
       "              delete Bokeh.index[id];\n",
       "            }\n",
       "          }\n",
       "        }\n",
       "      });\n",
       "      // Destroy server and session\n",
       "      var cmd = \"import bokeh.io.notebook as ion; ion.destroy_server('\" + server_id + \"')\";\n",
       "      cell.notebook.kernel.execute(cmd);\n",
       "    }\n",
       "  }\n",
       "\n",
       "  /**\n",
       "   * Handle when a new output is added\n",
       "   */\n",
       "  function handleAddOutput(event, handle) {\n",
       "    var output_area = handle.output_area;\n",
       "    var output = handle.output;\n",
       "\n",
       "    // limit handleAddOutput to display_data with EXEC_MIME_TYPE content only\n",
       "    if ((output.output_type != \"display_data\") || (!output.data.hasOwnProperty(EXEC_MIME_TYPE))) {\n",
       "      return\n",
       "    }\n",
       "\n",
       "    var toinsert = output_area.element.find(\".\" + CLASS_NAME.split(' ')[0]);\n",
       "\n",
       "    if (output.metadata[EXEC_MIME_TYPE][\"id\"] !== undefined) {\n",
       "      toinsert[toinsert.length - 1].firstChild.textContent = output.data[JS_MIME_TYPE];\n",
       "      // store reference to embed id on output_area\n",
       "      output_area._bokeh_element_id = output.metadata[EXEC_MIME_TYPE][\"id\"];\n",
       "    }\n",
       "    if (output.metadata[EXEC_MIME_TYPE][\"server_id\"] !== undefined) {\n",
       "      var bk_div = document.createElement(\"div\");\n",
       "      bk_div.innerHTML = output.data[HTML_MIME_TYPE];\n",
       "      var script_attrs = bk_div.children[0].attributes;\n",
       "      for (var i = 0; i < script_attrs.length; i++) {\n",
       "        toinsert[toinsert.length - 1].firstChild.setAttribute(script_attrs[i].name, script_attrs[i].value);\n",
       "        toinsert[toinsert.length - 1].firstChild.textContent = bk_div.children[0].textContent\n",
       "      }\n",
       "      // store reference to server id on output_area\n",
       "      output_area._bokeh_server_id = output.metadata[EXEC_MIME_TYPE][\"server_id\"];\n",
       "    }\n",
       "  }\n",
       "\n",
       "  function register_renderer(events, OutputArea) {\n",
       "\n",
       "    function append_mime(data, metadata, element) {\n",
       "      // create a DOM node to render to\n",
       "      var toinsert = this.create_output_subarea(\n",
       "        metadata,\n",
       "        CLASS_NAME,\n",
       "        EXEC_MIME_TYPE\n",
       "      );\n",
       "      this.keyboard_manager.register_events(toinsert);\n",
       "      // Render to node\n",
       "      var props = {data: data, metadata: metadata[EXEC_MIME_TYPE]};\n",
       "      render(props, toinsert[toinsert.length - 1]);\n",
       "      element.append(toinsert);\n",
       "      return toinsert\n",
       "    }\n",
       "\n",
       "    /* Handle when an output is cleared or removed */\n",
       "    events.on('clear_output.CodeCell', handleClearOutput);\n",
       "    events.on('delete.Cell', handleClearOutput);\n",
       "\n",
       "    /* Handle when a new output is added */\n",
       "    events.on('output_added.OutputArea', handleAddOutput);\n",
       "\n",
       "    /**\n",
       "     * Register the mime type and append_mime function with output_area\n",
       "     */\n",
       "    OutputArea.prototype.register_mime_type(EXEC_MIME_TYPE, append_mime, {\n",
       "      /* Is output safe? */\n",
       "      safe: true,\n",
       "      /* Index of renderer in `output_area.display_order` */\n",
       "      index: 0\n",
       "    });\n",
       "  }\n",
       "\n",
       "  // register the mime type if in Jupyter Notebook environment and previously unregistered\n",
       "  if (root.Jupyter !== undefined) {\n",
       "    var events = require('base/js/events');\n",
       "    var OutputArea = require('notebook/js/outputarea').OutputArea;\n",
       "\n",
       "    if (OutputArea.prototype.mime_types().indexOf(EXEC_MIME_TYPE) == -1) {\n",
       "      register_renderer(events, OutputArea);\n",
       "    }\n",
       "  }\n",
       "\n",
       "  \n",
       "  if (typeof (root._bokeh_timeout) === \"undefined\" || force === true) {\n",
       "    root._bokeh_timeout = Date.now() + 5000;\n",
       "    root._bokeh_failed_load = false;\n",
       "  }\n",
       "\n",
       "  var NB_LOAD_WARNING = {'data': {'text/html':\n",
       "     \"<div style='background-color: #fdd'>\\n\"+\n",
       "     \"<p>\\n\"+\n",
       "     \"BokehJS does not appear to have successfully loaded. If loading BokehJS from CDN, this \\n\"+\n",
       "     \"may be due to a slow or bad network connection. Possible fixes:\\n\"+\n",
       "     \"</p>\\n\"+\n",
       "     \"<ul>\\n\"+\n",
       "     \"<li>re-rerun `output_notebook()` to attempt to load from CDN again, or</li>\\n\"+\n",
       "     \"<li>use INLINE resources instead, as so:</li>\\n\"+\n",
       "     \"</ul>\\n\"+\n",
       "     \"<code>\\n\"+\n",
       "     \"from bokeh.resources import INLINE\\n\"+\n",
       "     \"output_notebook(resources=INLINE)\\n\"+\n",
       "     \"</code>\\n\"+\n",
       "     \"</div>\"}};\n",
       "\n",
       "  function display_loaded() {\n",
       "    var el = document.getElementById(\"7495\");\n",
       "    if (el != null) {\n",
       "      el.textContent = \"BokehJS is loading...\";\n",
       "    }\n",
       "    if (root.Bokeh !== undefined) {\n",
       "      if (el != null) {\n",
       "        el.textContent = \"BokehJS \" + root.Bokeh.version + \" successfully loaded.\";\n",
       "      }\n",
       "    } else if (Date.now() < root._bokeh_timeout) {\n",
       "      setTimeout(display_loaded, 100)\n",
       "    }\n",
       "  }\n",
       "\n",
       "\n",
       "  function run_callbacks() {\n",
       "    try {\n",
       "      root._bokeh_onload_callbacks.forEach(function(callback) {\n",
       "        if (callback != null)\n",
       "          callback();\n",
       "      });\n",
       "    } finally {\n",
       "      delete root._bokeh_onload_callbacks\n",
       "    }\n",
       "    console.debug(\"Bokeh: all callbacks have finished\");\n",
       "  }\n",
       "\n",
       "  function load_libs(css_urls, js_urls, callback) {\n",
       "    if (css_urls == null) css_urls = [];\n",
       "    if (js_urls == null) js_urls = [];\n",
       "\n",
       "    root._bokeh_onload_callbacks.push(callback);\n",
       "    if (root._bokeh_is_loading > 0) {\n",
       "      console.debug(\"Bokeh: BokehJS is being loaded, scheduling callback at\", now());\n",
       "      return null;\n",
       "    }\n",
       "    if (js_urls == null || js_urls.length === 0) {\n",
       "      run_callbacks();\n",
       "      return null;\n",
       "    }\n",
       "    console.debug(\"Bokeh: BokehJS not loaded, scheduling load and callback at\", now());\n",
       "    root._bokeh_is_loading = css_urls.length + js_urls.length;\n",
       "\n",
       "    function on_load() {\n",
       "      root._bokeh_is_loading--;\n",
       "      if (root._bokeh_is_loading === 0) {\n",
       "        console.debug(\"Bokeh: all BokehJS libraries/stylesheets loaded\");\n",
       "        run_callbacks()\n",
       "      }\n",
       "    }\n",
       "\n",
       "    function on_error() {\n",
       "      console.error(\"failed to load \" + url);\n",
       "    }\n",
       "\n",
       "    for (var i = 0; i < css_urls.length; i++) {\n",
       "      var url = css_urls[i];\n",
       "      const element = document.createElement(\"link\");\n",
       "      element.onload = on_load;\n",
       "      element.onerror = on_error;\n",
       "      element.rel = \"stylesheet\";\n",
       "      element.type = \"text/css\";\n",
       "      element.href = url;\n",
       "      console.debug(\"Bokeh: injecting link tag for BokehJS stylesheet: \", url);\n",
       "      document.body.appendChild(element);\n",
       "    }\n",
       "\n",
       "    const hashes = {\"https://cdn.bokeh.org/bokeh/release/bokeh-2.2.3.min.js\": \"T2yuo9Oe71Cz/I4X9Ac5+gpEa5a8PpJCDlqKYO0CfAuEszu1JrXLl8YugMqYe3sM\", \"https://cdn.bokeh.org/bokeh/release/bokeh-widgets-2.2.3.min.js\": \"98GDGJ0kOMCUMUePhksaQ/GYgB3+NH9h996V88sh3aOiUNX3N+fLXAtry6xctSZ6\", \"https://cdn.bokeh.org/bokeh/release/bokeh-tables-2.2.3.min.js\": \"89bArO+nlbP3sgakeHjCo1JYxYR5wufVgA3IbUvDY+K7w4zyxJqssu7wVnfeKCq8\"};\n",
       "\n",
       "    for (var i = 0; i < js_urls.length; i++) {\n",
       "      var url = js_urls[i];\n",
       "      var element = document.createElement('script');\n",
       "      element.onload = on_load;\n",
       "      element.onerror = on_error;\n",
       "      element.async = false;\n",
       "      element.src = url;\n",
       "      if (url in hashes) {\n",
       "        element.crossOrigin = \"anonymous\";\n",
       "        element.integrity = \"sha384-\" + hashes[url];\n",
       "      }\n",
       "      console.debug(\"Bokeh: injecting script tag for BokehJS library: \", url);\n",
       "      document.head.appendChild(element);\n",
       "    }\n",
       "  };\n",
       "\n",
       "  function inject_raw_css(css) {\n",
       "    const element = document.createElement(\"style\");\n",
       "    element.appendChild(document.createTextNode(css));\n",
       "    document.body.appendChild(element);\n",
       "  }\n",
       "\n",
       "  \n",
       "  var js_urls = [\"https://cdn.bokeh.org/bokeh/release/bokeh-2.2.3.min.js\", \"https://cdn.bokeh.org/bokeh/release/bokeh-widgets-2.2.3.min.js\", \"https://cdn.bokeh.org/bokeh/release/bokeh-tables-2.2.3.min.js\"];\n",
       "  var css_urls = [];\n",
       "  \n",
       "\n",
       "  var inline_js = [\n",
       "    function(Bokeh) {\n",
       "      Bokeh.set_log_level(\"info\");\n",
       "    },\n",
       "    function(Bokeh) {\n",
       "    \n",
       "    \n",
       "    }\n",
       "  ];\n",
       "\n",
       "  function run_inline_js() {\n",
       "    \n",
       "    if (root.Bokeh !== undefined || force === true) {\n",
       "      \n",
       "    for (var i = 0; i < inline_js.length; i++) {\n",
       "      inline_js[i].call(root, root.Bokeh);\n",
       "    }\n",
       "    if (force === true) {\n",
       "        display_loaded();\n",
       "      }} else if (Date.now() < root._bokeh_timeout) {\n",
       "      setTimeout(run_inline_js, 100);\n",
       "    } else if (!root._bokeh_failed_load) {\n",
       "      console.log(\"Bokeh: BokehJS failed to load within specified timeout.\");\n",
       "      root._bokeh_failed_load = true;\n",
       "    } else if (force !== true) {\n",
       "      var cell = $(document.getElementById(\"7495\")).parents('.cell').data().cell;\n",
       "      cell.output_area.append_execute_result(NB_LOAD_WARNING)\n",
       "    }\n",
       "\n",
       "  }\n",
       "\n",
       "  if (root._bokeh_is_loading === 0) {\n",
       "    console.debug(\"Bokeh: BokehJS loaded, going straight to plotting\");\n",
       "    run_inline_js();\n",
       "  } else {\n",
       "    load_libs(css_urls, js_urls, function() {\n",
       "      console.debug(\"Bokeh: BokehJS plotting callback run at\", now());\n",
       "      run_inline_js();\n",
       "    });\n",
       "  }\n",
       "}(window));"
      ],
      "application/vnd.bokehjs_load.v0+json": "\n(function(root) {\n  function now() {\n    return new Date();\n  }\n\n  var force = true;\n\n  if (typeof root._bokeh_onload_callbacks === \"undefined\" || force === true) {\n    root._bokeh_onload_callbacks = [];\n    root._bokeh_is_loading = undefined;\n  }\n\n  \n\n  \n  if (typeof (root._bokeh_timeout) === \"undefined\" || force === true) {\n    root._bokeh_timeout = Date.now() + 5000;\n    root._bokeh_failed_load = false;\n  }\n\n  var NB_LOAD_WARNING = {'data': {'text/html':\n     \"<div style='background-color: #fdd'>\\n\"+\n     \"<p>\\n\"+\n     \"BokehJS does not appear to have successfully loaded. If loading BokehJS from CDN, this \\n\"+\n     \"may be due to a slow or bad network connection. Possible fixes:\\n\"+\n     \"</p>\\n\"+\n     \"<ul>\\n\"+\n     \"<li>re-rerun `output_notebook()` to attempt to load from CDN again, or</li>\\n\"+\n     \"<li>use INLINE resources instead, as so:</li>\\n\"+\n     \"</ul>\\n\"+\n     \"<code>\\n\"+\n     \"from bokeh.resources import INLINE\\n\"+\n     \"output_notebook(resources=INLINE)\\n\"+\n     \"</code>\\n\"+\n     \"</div>\"}};\n\n  function display_loaded() {\n    var el = document.getElementById(\"7495\");\n    if (el != null) {\n      el.textContent = \"BokehJS is loading...\";\n    }\n    if (root.Bokeh !== undefined) {\n      if (el != null) {\n        el.textContent = \"BokehJS \" + root.Bokeh.version + \" successfully loaded.\";\n      }\n    } else if (Date.now() < root._bokeh_timeout) {\n      setTimeout(display_loaded, 100)\n    }\n  }\n\n\n  function run_callbacks() {\n    try {\n      root._bokeh_onload_callbacks.forEach(function(callback) {\n        if (callback != null)\n          callback();\n      });\n    } finally {\n      delete root._bokeh_onload_callbacks\n    }\n    console.debug(\"Bokeh: all callbacks have finished\");\n  }\n\n  function load_libs(css_urls, js_urls, callback) {\n    if (css_urls == null) css_urls = [];\n    if (js_urls == null) js_urls = [];\n\n    root._bokeh_onload_callbacks.push(callback);\n    if (root._bokeh_is_loading > 0) {\n      console.debug(\"Bokeh: BokehJS is being loaded, scheduling callback at\", now());\n      return null;\n    }\n    if (js_urls == null || js_urls.length === 0) {\n      run_callbacks();\n      return null;\n    }\n    console.debug(\"Bokeh: BokehJS not loaded, scheduling load and callback at\", now());\n    root._bokeh_is_loading = css_urls.length + js_urls.length;\n\n    function on_load() {\n      root._bokeh_is_loading--;\n      if (root._bokeh_is_loading === 0) {\n        console.debug(\"Bokeh: all BokehJS libraries/stylesheets loaded\");\n        run_callbacks()\n      }\n    }\n\n    function on_error() {\n      console.error(\"failed to load \" + url);\n    }\n\n    for (var i = 0; i < css_urls.length; i++) {\n      var url = css_urls[i];\n      const element = document.createElement(\"link\");\n      element.onload = on_load;\n      element.onerror = on_error;\n      element.rel = \"stylesheet\";\n      element.type = \"text/css\";\n      element.href = url;\n      console.debug(\"Bokeh: injecting link tag for BokehJS stylesheet: \", url);\n      document.body.appendChild(element);\n    }\n\n    const hashes = {\"https://cdn.bokeh.org/bokeh/release/bokeh-2.2.3.min.js\": \"T2yuo9Oe71Cz/I4X9Ac5+gpEa5a8PpJCDlqKYO0CfAuEszu1JrXLl8YugMqYe3sM\", \"https://cdn.bokeh.org/bokeh/release/bokeh-widgets-2.2.3.min.js\": \"98GDGJ0kOMCUMUePhksaQ/GYgB3+NH9h996V88sh3aOiUNX3N+fLXAtry6xctSZ6\", \"https://cdn.bokeh.org/bokeh/release/bokeh-tables-2.2.3.min.js\": \"89bArO+nlbP3sgakeHjCo1JYxYR5wufVgA3IbUvDY+K7w4zyxJqssu7wVnfeKCq8\"};\n\n    for (var i = 0; i < js_urls.length; i++) {\n      var url = js_urls[i];\n      var element = document.createElement('script');\n      element.onload = on_load;\n      element.onerror = on_error;\n      element.async = false;\n      element.src = url;\n      if (url in hashes) {\n        element.crossOrigin = \"anonymous\";\n        element.integrity = \"sha384-\" + hashes[url];\n      }\n      console.debug(\"Bokeh: injecting script tag for BokehJS library: \", url);\n      document.head.appendChild(element);\n    }\n  };\n\n  function inject_raw_css(css) {\n    const element = document.createElement(\"style\");\n    element.appendChild(document.createTextNode(css));\n    document.body.appendChild(element);\n  }\n\n  \n  var js_urls = [\"https://cdn.bokeh.org/bokeh/release/bokeh-2.2.3.min.js\", \"https://cdn.bokeh.org/bokeh/release/bokeh-widgets-2.2.3.min.js\", \"https://cdn.bokeh.org/bokeh/release/bokeh-tables-2.2.3.min.js\"];\n  var css_urls = [];\n  \n\n  var inline_js = [\n    function(Bokeh) {\n      Bokeh.set_log_level(\"info\");\n    },\n    function(Bokeh) {\n    \n    \n    }\n  ];\n\n  function run_inline_js() {\n    \n    if (root.Bokeh !== undefined || force === true) {\n      \n    for (var i = 0; i < inline_js.length; i++) {\n      inline_js[i].call(root, root.Bokeh);\n    }\n    if (force === true) {\n        display_loaded();\n      }} else if (Date.now() < root._bokeh_timeout) {\n      setTimeout(run_inline_js, 100);\n    } else if (!root._bokeh_failed_load) {\n      console.log(\"Bokeh: BokehJS failed to load within specified timeout.\");\n      root._bokeh_failed_load = true;\n    } else if (force !== true) {\n      var cell = $(document.getElementById(\"7495\")).parents('.cell').data().cell;\n      cell.output_area.append_execute_result(NB_LOAD_WARNING)\n    }\n\n  }\n\n  if (root._bokeh_is_loading === 0) {\n    console.debug(\"Bokeh: BokehJS loaded, going straight to plotting\");\n    run_inline_js();\n  } else {\n    load_libs(css_urls, js_urls, function() {\n      console.debug(\"Bokeh: BokehJS plotting callback run at\", now());\n      run_inline_js();\n    });\n  }\n}(window));"
     },
     "metadata": {},
     "output_type": "display_data"
    },
    {
     "data": {
      "text/html": [
       "\n",
       "\n",
       "\n",
       "\n",
       "\n",
       "\n",
       "  <div class=\"bk-root\" id=\"bd4e6c06-ba2c-4772-8461-79d26430f4b0\" data-root-id=\"7496\"></div>\n"
      ]
     },
     "metadata": {},
     "output_type": "display_data"
    },
    {
     "data": {
      "application/javascript": [
       "(function(root) {\n",
       "  function embed_document(root) {\n",
       "    \n",
       "  var docs_json = {\"0ccfe73e-48d2-442d-a972-f2c353ec9844\":{\"roots\":{\"references\":[{\"attributes\":{\"below\":[{\"id\":\"7505\"}],\"center\":[{\"id\":\"7508\"},{\"id\":\"7512\"},{\"id\":\"7541\"}],\"left\":[{\"id\":\"7509\"}],\"renderers\":[{\"id\":\"7530\"},{\"id\":\"7546\"}],\"title\":{\"id\":\"7532\"},\"toolbar\":{\"id\":\"7520\"},\"x_range\":{\"id\":\"7497\"},\"x_scale\":{\"id\":\"7501\"},\"y_range\":{\"id\":\"7499\"},\"y_scale\":{\"id\":\"7503\"}},\"id\":\"7496\",\"subtype\":\"Figure\",\"type\":\"Plot\"},{\"attributes\":{},\"id\":\"7518\",\"type\":\"HelpTool\"},{\"attributes\":{},\"id\":\"7539\",\"type\":\"UnionRenderers\"},{\"attributes\":{},\"id\":\"7557\",\"type\":\"UnionRenderers\"},{\"attributes\":{},\"id\":\"7510\",\"type\":\"BasicTicker\"},{\"attributes\":{\"axis_label\":\"Age\",\"formatter\":{\"id\":\"7536\"},\"ticker\":{\"id\":\"7506\"}},\"id\":\"7505\",\"type\":\"LinearAxis\"},{\"attributes\":{\"axis\":{\"id\":\"7505\"},\"ticker\":null},\"id\":\"7508\",\"type\":\"Grid\"},{\"attributes\":{},\"id\":\"7540\",\"type\":\"Selection\"},{\"attributes\":{\"label\":{\"value\":\"male\"},\"renderers\":[{\"id\":\"7530\"}]},\"id\":\"7542\",\"type\":\"LegendItem\"},{\"attributes\":{},\"id\":\"7558\",\"type\":\"Selection\"},{\"attributes\":{},\"id\":\"7514\",\"type\":\"WheelZoomTool\"},{\"attributes\":{},\"id\":\"7503\",\"type\":\"LinearScale\"},{\"attributes\":{\"axis\":{\"id\":\"7509\"},\"dimension\":1,\"ticker\":null},\"id\":\"7512\",\"type\":\"Grid\"},{\"attributes\":{\"bottom_units\":\"screen\",\"fill_alpha\":0.5,\"fill_color\":\"lightgrey\",\"left_units\":\"screen\",\"level\":\"overlay\",\"line_alpha\":1.0,\"line_color\":\"black\",\"line_dash\":[4,4],\"line_width\":2,\"right_units\":\"screen\",\"top_units\":\"screen\"},\"id\":\"7519\",\"type\":\"BoxAnnotation\"},{\"attributes\":{\"text\":\"\"},\"id\":\"7532\",\"type\":\"Title\"},{\"attributes\":{},\"id\":\"7501\",\"type\":\"LinearScale\"},{\"attributes\":{\"source\":{\"id\":\"7527\"}},\"id\":\"7531\",\"type\":\"CDSView\"},{\"attributes\":{\"fill_alpha\":{\"value\":0.5},\"fill_color\":{\"value\":\"firebrick\"},\"line_alpha\":{\"value\":0.5},\"line_color\":{\"value\":\"firebrick\"},\"top\":{\"field\":\"top\"},\"width\":{\"value\":0.5},\"x\":{\"field\":\"x\"}},\"id\":\"7528\",\"type\":\"VBar\"},{\"attributes\":{},\"id\":\"7506\",\"type\":\"BasicTicker\"},{\"attributes\":{\"axis_label\":\"clust\",\"formatter\":{\"id\":\"7534\"},\"ticker\":{\"id\":\"7510\"}},\"id\":\"7509\",\"type\":\"LinearAxis\"},{\"attributes\":{},\"id\":\"7534\",\"type\":\"BasicTickFormatter\"},{\"attributes\":{},\"id\":\"7499\",\"type\":\"DataRange1d\"},{\"attributes\":{\"fill_alpha\":{\"value\":0.1},\"fill_color\":{\"value\":\"firebrick\"},\"line_alpha\":{\"value\":0.1},\"line_color\":{\"value\":\"firebrick\"},\"top\":{\"field\":\"top\"},\"width\":{\"value\":0.5},\"x\":{\"field\":\"x\"}},\"id\":\"7529\",\"type\":\"VBar\"},{\"attributes\":{},\"id\":\"7513\",\"type\":\"PanTool\"},{\"attributes\":{\"data_source\":{\"id\":\"7527\"},\"glyph\":{\"id\":\"7528\"},\"hover_glyph\":null,\"muted_glyph\":null,\"nonselection_glyph\":{\"id\":\"7529\"},\"selection_glyph\":null,\"view\":{\"id\":\"7531\"}},\"id\":\"7530\",\"type\":\"GlyphRenderer\"},{\"attributes\":{\"data\":{\"top\":{\"__ndarray__\":\"T8RqZaIIsj/Wvo2fItawPxKL7FFRza8/TJOUdrvPrj+S8xJ+TmauPxJbgxUwEq4/iLkFUsnkrT/EigRbyU2tPzq1PfzWGq0/4ZQbyyezrD9fuvFgNjKsPxfwoSIhR6w/iPlReJT5qz+yudZLsi+sP5k4lgR9AKw/fDSFtfBwrD+hrFVbtAasPz/CKg2PyKs/x1l3rknQqj+9cDexR9KrP58hxPdXrqs/YUgfYTuoqz/HY3JMAPOrP+nMT/CI+6s/qi5dz3ysqz/OxwbT+EOrP1Az8hhyxqs/E4eiOMc8qz/emy1pAtyqPzZHqVnFRqs/MjQEjhjpqj9i/qHard2rPzBFX91ia6s/vr9zL8jYqj8ePTqW+jCrPySpyZKalqo/oC8dxFbYqj86AFGbUGmqP+dmolMXGqo/dYZOMyJlqT/mKN/yrhWqP/2P5qMlRqk/5GFBOtpEqT9oIRPgl+2pPyFKdzlVFqo/IbvatwkgqT/aliAi1hGpPwdYpvO0mak/pXa4z3WBqT+Plv1aRCKqP6Lgm6DsMao/HMVrCUplqz96BJOUL7qqP6OMRqq57Ko/DRUATl57rT+hAxTM/x+tP7q2M5Mhca0/e+pSPjuyrT/KRwnrq4KvP3ISuzdFoK8/xWG9MT0wsD+nAnXkYxGxPzzINncLIrE/6ZRSdm7asj/i1I6EeoiyP5Ix90g8ubI/z0JciERksz8fWs/uC0y1P/ztjKzub7M/0UP5yAvYsz+ST9akAsmzPw==\",\"dtype\":\"float64\",\"order\":\"little\",\"shape\":[71]},\"x\":[19,20,21,22,23,24,25,26,27,28,29,30,31,32,33,34,35,36,37,38,39,40,41,42,43,44,45,46,47,48,49,50,51,52,53,54,55,56,57,58,59,60,61,62,63,64,65,66,67,68,69,70,71,72,73,74,75,76,77,78,79,80,81,82,83,84,85,86,87,88,89]},\"selected\":{\"id\":\"7540\"},\"selection_policy\":{\"id\":\"7539\"}},\"id\":\"7527\",\"type\":\"ColumnDataSource\"},{\"attributes\":{},\"id\":\"7497\",\"type\":\"DataRange1d\"},{\"attributes\":{\"fill_alpha\":{\"value\":0.5},\"fill_color\":{\"value\":\"#50c878\"},\"line_alpha\":{\"value\":0.5},\"line_color\":{\"value\":\"#50c878\"},\"top\":{\"field\":\"top\"},\"width\":{\"value\":0.5},\"x\":{\"field\":\"x\"}},\"id\":\"7544\",\"type\":\"VBar\"},{\"attributes\":{\"active_drag\":\"auto\",\"active_inspect\":\"auto\",\"active_multi\":null,\"active_scroll\":\"auto\",\"active_tap\":\"auto\",\"tools\":[{\"id\":\"7513\"},{\"id\":\"7514\"},{\"id\":\"7515\"},{\"id\":\"7516\"},{\"id\":\"7517\"},{\"id\":\"7518\"}]},\"id\":\"7520\",\"type\":\"Toolbar\"},{\"attributes\":{\"source\":{\"id\":\"7543\"}},\"id\":\"7547\",\"type\":\"CDSView\"},{\"attributes\":{\"overlay\":{\"id\":\"7519\"}},\"id\":\"7515\",\"type\":\"BoxZoomTool\"},{\"attributes\":{\"fill_alpha\":{\"value\":0.1},\"fill_color\":{\"value\":\"#50c878\"},\"line_alpha\":{\"value\":0.1},\"line_color\":{\"value\":\"#50c878\"},\"top\":{\"field\":\"top\"},\"width\":{\"value\":0.5},\"x\":{\"field\":\"x\"}},\"id\":\"7545\",\"type\":\"VBar\"},{\"attributes\":{},\"id\":\"7517\",\"type\":\"ResetTool\"},{\"attributes\":{},\"id\":\"7536\",\"type\":\"BasicTickFormatter\"},{\"attributes\":{\"data\":{\"top\":{\"__ndarray__\":\"te6q8Jkvsj/sC0TUfKywP9Mw2MaLY7A/qM8fVG64rz99xViJ7syuP1djps8XFq8/bQ6fY3Imrz9PNYCh/lKuP8m7+JYjuq4/1sMEHqN6rT8zx5p4ygGuP9VEg99+t60/FDGB1DewrT8qAQUlUxKtP6fdtpHq1a0/3iENkeqcrD+5aPIvnbesPxNjcGGzca0/pvBLOJ27rD/dyDu0tOGsP4TNAmpiw6w/R3OdOvEhrT/3snV71KWsPyabpTzeqq0/6lFOl2tOrT9eHGxLoY2tP/tr7T5wlaw/oDeO+MmwrD9Xqar4t1msP3iFVQ06SKw/dbbn8qunqz//27odwbGrP7RSiwVzi6s/fl+s9Ep7qz/v/luf1cOqPzs3X9XBy6o/u03eaICVqj+Ud6he9RSrP2tvCNZweqo/UfrQMsegqj/tjIq6776qP/uXjnIf6Ko/m1GKlxLgqj9Xquwt3oirP2U1tRLHKKs/VPh+13cOqz+uty0HpMuqP/0ZjK+UWKs/T5SmYE58qz+UdE2PPMerP7XiEXYwNKs/hbCTRDeYqz8//zO3yFSuP6UOAfUbD60/DDpgcUVerz8AAltO542tP3296FROo60/8DmIgxbVrD9dHRDcWBqwP+9OnOetSbE/BjwCOXsmsT8Rq5CSntKwP/6U6QMvk7E/kzq6Vxh7sj/z90sCkAWyP6FovTFLvbM/duie6x92sj884J66f+G0P0r2D6jFL7Y/fGd8N7rjtj9KpG4Fjh+3Pw==\",\"dtype\":\"float64\",\"order\":\"little\",\"shape\":[71]},\"x\":[19,20,21,22,23,24,25,26,27,28,29,30,31,32,33,34,35,36,37,38,39,40,41,42,43,44,45,46,47,48,49,50,51,52,53,54,55,56,57,58,59,60,61,62,63,64,65,66,67,68,69,70,71,72,73,74,75,76,77,78,79,80,81,82,83,84,85,86,87,88,89]},\"selected\":{\"id\":\"7558\"},\"selection_policy\":{\"id\":\"7557\"}},\"id\":\"7543\",\"type\":\"ColumnDataSource\"},{\"attributes\":{\"items\":[{\"id\":\"7542\"},{\"id\":\"7559\"}],\"orientation\":\"horizontal\"},\"id\":\"7541\",\"type\":\"Legend\"},{\"attributes\":{\"label\":{\"value\":\"female\"},\"renderers\":[{\"id\":\"7546\"}]},\"id\":\"7559\",\"type\":\"LegendItem\"},{\"attributes\":{\"data_source\":{\"id\":\"7543\"},\"glyph\":{\"id\":\"7544\"},\"hover_glyph\":null,\"muted_glyph\":null,\"nonselection_glyph\":{\"id\":\"7545\"},\"selection_glyph\":null,\"view\":{\"id\":\"7547\"}},\"id\":\"7546\",\"type\":\"GlyphRenderer\"},{\"attributes\":{},\"id\":\"7516\",\"type\":\"SaveTool\"}],\"root_ids\":[\"7496\"]},\"title\":\"Bokeh Application\",\"version\":\"2.2.3\"}};\n",
       "  var render_items = [{\"docid\":\"0ccfe73e-48d2-442d-a972-f2c353ec9844\",\"root_ids\":[\"7496\"],\"roots\":{\"7496\":\"bd4e6c06-ba2c-4772-8461-79d26430f4b0\"}}];\n",
       "  root.Bokeh.embed.embed_items_notebook(docs_json, render_items);\n",
       "\n",
       "  }\n",
       "  if (root.Bokeh !== undefined) {\n",
       "    embed_document(root);\n",
       "  } else {\n",
       "    var attempts = 0;\n",
       "    var timer = setInterval(function(root) {\n",
       "      if (root.Bokeh !== undefined) {\n",
       "        clearInterval(timer);\n",
       "        embed_document(root);\n",
       "      } else {\n",
       "        attempts++;\n",
       "        if (attempts > 100) {\n",
       "          clearInterval(timer);\n",
       "          console.log(\"Bokeh: ERROR: Unable to run BokehJS code because BokehJS library is missing\");\n",
       "        }\n",
       "      }\n",
       "    }, 10, root)\n",
       "  }\n",
       "})(window);"
      ],
      "application/vnd.bokehjs_exec.v0+json": ""
     },
     "metadata": {
      "application/vnd.bokehjs_exec.v0+json": {
       "id": "7496"
      }
     },
     "output_type": "display_data"
    },
    {
     "data": {
      "text/html": [
       "\n",
       "\n",
       "\n",
       "\n",
       "\n",
       "\n",
       "  <div class=\"bk-root\" id=\"aafb3abb-09ca-4f86-b87f-57919219e3b6\" data-root-id=\"7858\"></div>\n"
      ]
     },
     "metadata": {},
     "output_type": "display_data"
    },
    {
     "data": {
      "application/javascript": [
       "(function(root) {\n",
       "  function embed_document(root) {\n",
       "    \n",
       "  var docs_json = {\"5bdbe67e-d5b1-4bcd-b80c-a483043d1b96\":{\"roots\":{\"references\":[{\"attributes\":{\"below\":[{\"id\":\"7867\"}],\"center\":[{\"id\":\"7870\"},{\"id\":\"7874\"},{\"id\":\"7903\"}],\"left\":[{\"id\":\"7871\"}],\"renderers\":[{\"id\":\"7892\"},{\"id\":\"7908\"}],\"title\":{\"id\":\"7894\"},\"toolbar\":{\"id\":\"7882\"},\"x_range\":{\"id\":\"7859\"},\"x_scale\":{\"id\":\"7863\"},\"y_range\":{\"id\":\"7861\"},\"y_scale\":{\"id\":\"7865\"}},\"id\":\"7858\",\"subtype\":\"Figure\",\"type\":\"Plot\"},{\"attributes\":{\"active_drag\":\"auto\",\"active_inspect\":\"auto\",\"active_multi\":null,\"active_scroll\":\"auto\",\"active_tap\":\"auto\",\"tools\":[{\"id\":\"7875\"},{\"id\":\"7876\"},{\"id\":\"7877\"},{\"id\":\"7878\"},{\"id\":\"7879\"},{\"id\":\"7880\"}]},\"id\":\"7882\",\"type\":\"Toolbar\"},{\"attributes\":{},\"id\":\"7876\",\"type\":\"WheelZoomTool\"},{\"attributes\":{},\"id\":\"7863\",\"type\":\"LinearScale\"},{\"attributes\":{},\"id\":\"7875\",\"type\":\"PanTool\"},{\"attributes\":{\"data_source\":{\"id\":\"7889\"},\"glyph\":{\"id\":\"7890\"},\"hover_glyph\":null,\"muted_glyph\":null,\"nonselection_glyph\":{\"id\":\"7891\"},\"selection_glyph\":null,\"view\":{\"id\":\"7893\"}},\"id\":\"7892\",\"type\":\"GlyphRenderer\"},{\"attributes\":{\"overlay\":{\"id\":\"7881\"}},\"id\":\"7877\",\"type\":\"BoxZoomTool\"},{\"attributes\":{\"fill_alpha\":{\"value\":0.5},\"fill_color\":{\"value\":\"firebrick\"},\"line_alpha\":{\"value\":0.5},\"line_color\":{\"value\":\"firebrick\"},\"top\":{\"field\":\"top\"},\"width\":{\"value\":0.5},\"x\":{\"field\":\"x\"}},\"id\":\"7890\",\"type\":\"VBar\"},{\"attributes\":{},\"id\":\"7878\",\"type\":\"SaveTool\"},{\"attributes\":{\"source\":{\"id\":\"7889\"}},\"id\":\"7893\",\"type\":\"CDSView\"},{\"attributes\":{},\"id\":\"7879\",\"type\":\"ResetTool\"},{\"attributes\":{},\"id\":\"7901\",\"type\":\"UnionRenderers\"},{\"attributes\":{},\"id\":\"7861\",\"type\":\"DataRange1d\"},{\"attributes\":{\"items\":[{\"id\":\"7904\"},{\"id\":\"7921\"}],\"orientation\":\"horizontal\"},\"id\":\"7903\",\"type\":\"Legend\"},{\"attributes\":{},\"id\":\"7919\",\"type\":\"UnionRenderers\"},{\"attributes\":{\"fill_alpha\":{\"value\":0.5},\"fill_color\":{\"value\":\"#50c878\"},\"line_alpha\":{\"value\":0.5},\"line_color\":{\"value\":\"#50c878\"},\"top\":{\"field\":\"top\"},\"width\":{\"value\":0.5},\"x\":{\"field\":\"x\"}},\"id\":\"7906\",\"type\":\"VBar\"},{\"attributes\":{\"text\":\"\"},\"id\":\"7894\",\"type\":\"Title\"},{\"attributes\":{},\"id\":\"7902\",\"type\":\"Selection\"},{\"attributes\":{},\"id\":\"7920\",\"type\":\"Selection\"},{\"attributes\":{},\"id\":\"7898\",\"type\":\"BasicTickFormatter\"},{\"attributes\":{\"fill_alpha\":{\"value\":0.1},\"fill_color\":{\"value\":\"firebrick\"},\"line_alpha\":{\"value\":0.1},\"line_color\":{\"value\":\"firebrick\"},\"top\":{\"field\":\"top\"},\"width\":{\"value\":0.5},\"x\":{\"field\":\"x\"}},\"id\":\"7891\",\"type\":\"VBar\"},{\"attributes\":{\"data\":{\"top\":{\"__ndarray__\":\"Q/Q35Pv5RUBzUtU+531HQD0tIGlT00lAQaGuSmdKS0CO7uwI5j9MQOudAKElnU1AgIKR+tl1TkD6i+DyOtlPQAeTg0SPWFBATaLvhjThUEB/10Yf2EpRQH7DLfIdh1FAyIZ2ee7eUUB8m5wlJxVSQAd2VV5Ww1JARTanP/TfUkBMazyoFj9TQMK+VvGrl1NA5ocjHoXMU0AACvxmitFTQMCUbTFeBlRAXwtLgqQgVEDhNQnFmzdUQNFfu7FWLlRAzyArevAaVEAgotN4wT1UQIIFa63rKlRAJEy6eI0sVEAbcYWBQfhTQJeombYi8lNAncelb3/1U0DmOP0GYnpTQIToHapWXVNA58BoYF5pU0AQYUVntUFTQHF5qYNlBFNAszfaQpstU0BgtJFYohRTQBcbl7XtN1NAICpBrSvoUkBe1DyTdctSQNT2zzp38FJAM+jw6VXsUkC+o69lLZBSQHmSsCkpQVJAjlgx6DNpUkCoBgONETlSQN7uN6dFRVFA/EcmQmFRUUARvZMiaqRQQDaCbFrLXlBA8HjndNkgUEDuPB1n9pBPQNZ6KhDasE5AnbCTUXFeTEDfOnftMNNMQMFAIbd5K0tAl8Kd+BVkSkBsmFWdG2NJQJxFkwBrvkhA0yjZNlrHR0A9CtejcH9IQMRgb4JYTkhAyiabbLIRR0AOa9+w9g1HQAPu9EcswEVAQzd0Qzd0R0BqnHzzR2JFQCG2acW9k0NAyHu8x3scRUCzZcuWLVtEQA==\",\"dtype\":\"float64\",\"order\":\"little\",\"shape\":[71]},\"x\":[19,20,21,22,23,24,25,26,27,28,29,30,31,32,33,34,35,36,37,38,39,40,41,42,43,44,45,46,47,48,49,50,51,52,53,54,55,56,57,58,59,60,61,62,63,64,65,66,67,68,69,70,71,72,73,74,75,76,77,78,79,80,81,82,83,84,85,86,87,88,89]},\"selected\":{\"id\":\"7902\"},\"selection_policy\":{\"id\":\"7901\"}},\"id\":\"7889\",\"type\":\"ColumnDataSource\"},{\"attributes\":{\"bottom_units\":\"screen\",\"fill_alpha\":0.5,\"fill_color\":\"lightgrey\",\"left_units\":\"screen\",\"level\":\"overlay\",\"line_alpha\":1.0,\"line_color\":\"black\",\"line_dash\":[4,4],\"line_width\":2,\"right_units\":\"screen\",\"top_units\":\"screen\"},\"id\":\"7881\",\"type\":\"BoxAnnotation\"},{\"attributes\":{},\"id\":\"7896\",\"type\":\"BasicTickFormatter\"},{\"attributes\":{\"axis_label\":\"DegreeIn\",\"formatter\":{\"id\":\"7896\"},\"ticker\":{\"id\":\"7872\"}},\"id\":\"7871\",\"type\":\"LinearAxis\"},{\"attributes\":{},\"id\":\"7859\",\"type\":\"DataRange1d\"},{\"attributes\":{\"fill_alpha\":{\"value\":0.1},\"fill_color\":{\"value\":\"#50c878\"},\"line_alpha\":{\"value\":0.1},\"line_color\":{\"value\":\"#50c878\"},\"top\":{\"field\":\"top\"},\"width\":{\"value\":0.5},\"x\":{\"field\":\"x\"}},\"id\":\"7907\",\"type\":\"VBar\"},{\"attributes\":{\"label\":{\"value\":\"male\"},\"renderers\":[{\"id\":\"7892\"}]},\"id\":\"7904\",\"type\":\"LegendItem\"},{\"attributes\":{\"axis_label\":\"Age\",\"formatter\":{\"id\":\"7898\"},\"ticker\":{\"id\":\"7868\"}},\"id\":\"7867\",\"type\":\"LinearAxis\"},{\"attributes\":{},\"id\":\"7872\",\"type\":\"BasicTicker\"},{\"attributes\":{\"data\":{\"top\":{\"__ndarray__\":\"l6Uox2UpRUBrUrYmZXtGQNjr9Xq9kkdAiRuLtT8KSUCgKS+4YWVJQLrYQ2vM/0lAr5A06OiRS0BsIpBrIpBMQBviGyVQS01Ayim/TSfRTkDkkUceedJOQGSdve/Ld09AZQjsoN9VT0BVf24A4kRQQA8D8JhlJ1BAY4VaSzLYUECP/q0FJPlQQELxtMdVAFFAOAjWz1MyUUC6aHz1O39RQHwv8S2di1FAi/6/9e2nUUDvMzgGEY9RQOwRZ6Q3a1FAgjwlyFOKUUAGQdzMQWpRQCnVi/XOWVFAPUASxg9VUUBoykDOoWlRQHDtl958BFFAnwRW3fpDUUBEDXdUaz1RQMSy99EK2FBAIZM83RevUEA5Hwvhx81QQMRZjq1riVBAsXrDAIl2UEAnlPsMhHFQQHLGpbXQilBAdPj/5GNvUEAgunSmLxZQQAhzI21gJ1BAt+4OIrUDUECKOW0D6MdPQEMrvcAvNE9AS7Xt0fjbT0AzrJMDdU9OQLAbandnDU9AXzTmndSgTUC66KKLLtpNQCdrEXMuCE1AfELh90/zTEBhsoJodaZLQADmxZ3rzEpAk30QwwRGSUC4Yg24YlVIQOiSwAqh3UhA/oa55OxZSUCUQeSBq+hHQLo1PyxSlkZAHTvjf10gR0CidiVqV6JHQPl6g0K+3kdAX0fqdaReRkDD420t9o9HQKOioqKiokZAujFPH61mRkCgd+paDu5FQKW7jClfh0VArlgDrlgDRUBZyEIWsvBCQA==\",\"dtype\":\"float64\",\"order\":\"little\",\"shape\":[71]},\"x\":[19,20,21,22,23,24,25,26,27,28,29,30,31,32,33,34,35,36,37,38,39,40,41,42,43,44,45,46,47,48,49,50,51,52,53,54,55,56,57,58,59,60,61,62,63,64,65,66,67,68,69,70,71,72,73,74,75,76,77,78,79,80,81,82,83,84,85,86,87,88,89]},\"selected\":{\"id\":\"7920\"},\"selection_policy\":{\"id\":\"7919\"}},\"id\":\"7905\",\"type\":\"ColumnDataSource\"},{\"attributes\":{\"axis\":{\"id\":\"7867\"},\"ticker\":null},\"id\":\"7870\",\"type\":\"Grid\"},{\"attributes\":{\"axis\":{\"id\":\"7871\"},\"dimension\":1,\"ticker\":null},\"id\":\"7874\",\"type\":\"Grid\"},{\"attributes\":{},\"id\":\"7865\",\"type\":\"LinearScale\"},{\"attributes\":{\"data_source\":{\"id\":\"7905\"},\"glyph\":{\"id\":\"7906\"},\"hover_glyph\":null,\"muted_glyph\":null,\"nonselection_glyph\":{\"id\":\"7907\"},\"selection_glyph\":null,\"view\":{\"id\":\"7909\"}},\"id\":\"7908\",\"type\":\"GlyphRenderer\"},{\"attributes\":{\"source\":{\"id\":\"7905\"}},\"id\":\"7909\",\"type\":\"CDSView\"},{\"attributes\":{},\"id\":\"7880\",\"type\":\"HelpTool\"},{\"attributes\":{\"label\":{\"value\":\"female\"},\"renderers\":[{\"id\":\"7908\"}]},\"id\":\"7921\",\"type\":\"LegendItem\"},{\"attributes\":{},\"id\":\"7868\",\"type\":\"BasicTicker\"}],\"root_ids\":[\"7858\"]},\"title\":\"Bokeh Application\",\"version\":\"2.2.3\"}};\n",
       "  var render_items = [{\"docid\":\"5bdbe67e-d5b1-4bcd-b80c-a483043d1b96\",\"root_ids\":[\"7858\"],\"roots\":{\"7858\":\"aafb3abb-09ca-4f86-b87f-57919219e3b6\"}}];\n",
       "  root.Bokeh.embed.embed_items_notebook(docs_json, render_items);\n",
       "\n",
       "  }\n",
       "  if (root.Bokeh !== undefined) {\n",
       "    embed_document(root);\n",
       "  } else {\n",
       "    var attempts = 0;\n",
       "    var timer = setInterval(function(root) {\n",
       "      if (root.Bokeh !== undefined) {\n",
       "        clearInterval(timer);\n",
       "        embed_document(root);\n",
       "      } else {\n",
       "        attempts++;\n",
       "        if (attempts > 100) {\n",
       "          clearInterval(timer);\n",
       "          console.log(\"Bokeh: ERROR: Unable to run BokehJS code because BokehJS library is missing\");\n",
       "        }\n",
       "      }\n",
       "    }, 10, root)\n",
       "  }\n",
       "})(window);"
      ],
      "application/vnd.bokehjs_exec.v0+json": ""
     },
     "metadata": {
      "application/vnd.bokehjs_exec.v0+json": {
       "id": "7858"
      }
     },
     "output_type": "display_data"
    },
    {
     "data": {
      "text/html": [
       "\n",
       "\n",
       "\n",
       "\n",
       "\n",
       "\n",
       "  <div class=\"bk-root\" id=\"5152e71d-497b-4879-97db-cfd38ab5dc7c\" data-root-id=\"8231\"></div>\n"
      ]
     },
     "metadata": {},
     "output_type": "display_data"
    },
    {
     "data": {
      "application/javascript": [
       "(function(root) {\n",
       "  function embed_document(root) {\n",
       "    \n",
       "  var docs_json = {\"50a218b2-1031-4c31-907f-23ee421b3380\":{\"roots\":{\"references\":[{\"attributes\":{\"below\":[{\"id\":\"8240\"}],\"center\":[{\"id\":\"8243\"},{\"id\":\"8247\"},{\"id\":\"8276\"}],\"left\":[{\"id\":\"8244\"}],\"renderers\":[{\"id\":\"8265\"},{\"id\":\"8281\"}],\"title\":{\"id\":\"8267\"},\"toolbar\":{\"id\":\"8255\"},\"x_range\":{\"id\":\"8232\"},\"x_scale\":{\"id\":\"8236\"},\"y_range\":{\"id\":\"8234\"},\"y_scale\":{\"id\":\"8238\"}},\"id\":\"8231\",\"subtype\":\"Figure\",\"type\":\"Plot\"},{\"attributes\":{\"axis_label\":\"Age\",\"formatter\":{\"id\":\"8271\"},\"ticker\":{\"id\":\"8241\"}},\"id\":\"8240\",\"type\":\"LinearAxis\"},{\"attributes\":{},\"id\":\"8269\",\"type\":\"BasicTickFormatter\"},{\"attributes\":{},\"id\":\"8253\",\"type\":\"HelpTool\"},{\"attributes\":{\"axis\":{\"id\":\"8240\"},\"ticker\":null},\"id\":\"8243\",\"type\":\"Grid\"},{\"attributes\":{\"fill_alpha\":{\"value\":0.5},\"fill_color\":{\"value\":\"#50c878\"},\"line_alpha\":{\"value\":0.5},\"line_color\":{\"value\":\"#50c878\"},\"top\":{\"field\":\"top\"},\"width\":{\"value\":0.5},\"x\":{\"field\":\"x\"}},\"id\":\"8279\",\"type\":\"VBar\"},{\"attributes\":{},\"id\":\"8241\",\"type\":\"BasicTicker\"},{\"attributes\":{\"overlay\":{\"id\":\"8254\"}},\"id\":\"8250\",\"type\":\"BoxZoomTool\"},{\"attributes\":{\"fill_alpha\":{\"value\":0.1},\"fill_color\":{\"value\":\"#50c878\"},\"line_alpha\":{\"value\":0.1},\"line_color\":{\"value\":\"#50c878\"},\"top\":{\"field\":\"top\"},\"width\":{\"value\":0.5},\"x\":{\"field\":\"x\"}},\"id\":\"8280\",\"type\":\"VBar\"},{\"attributes\":{\"fill_alpha\":{\"value\":0.5},\"fill_color\":{\"value\":\"firebrick\"},\"line_alpha\":{\"value\":0.5},\"line_color\":{\"value\":\"firebrick\"},\"top\":{\"field\":\"top\"},\"width\":{\"value\":0.5},\"x\":{\"field\":\"x\"}},\"id\":\"8263\",\"type\":\"VBar\"},{\"attributes\":{},\"id\":\"8248\",\"type\":\"PanTool\"},{\"attributes\":{\"data\":{\"top\":{\"__ndarray__\":\"z/I4v7O8RkDlbUjehhxIQI/H4/F4HElAFB9LhFziSkDfcoXdaJ1LQHcBcnJhPUxAogb4EI6hTUDDau4o0dROQLSlZ5MMlE9Ah6PKteeVUEBVVVVV1adQQErZKadNu1BA0DZyp+WzUEDNUBCSWFRRQCNYMczHLlFAa0HQQZm+UUCo4SoDGcFRQKzs3lwcsFFAfsJlg/LmUUB2EkT3xTNSQE5l5uFsI1JAOz6MFYInUkDnBljrQAZSQK9kbFw0vlFAyzvrbcfJUUDUkerAZsFRQAyIvAtNtFFA39SOkoKrUUC+10wP/4hRQJef9dphY1FAkQK+7G6QUUA65VCpPldRQFTe8Z6wBVFA37xGQd/+UEAtr24kcQFRQI2TovQqyVBA90sUCHiPUEBQVH3YyaZQQEICt1o0p1BA81NgrMiIUEB24f5GRFVQQH8WNW3yJVBAmuZErz/kT0CLMaV7nupPQHNA9Xc3h09AwG0UK9jlT0AJ0/fPJZ5OQF48Di1XKk9AZckB4DRFTkBIbK5YvjtOQHxeSVFuI01A7lukz3BETUBiDtgczcBLQHeH3MbrmUtAbCTViSPbSUDpPZPoPeNIQJRtY29q+UlACNti5oDFSUAOP6pLzLpIQCa0l9BeokdAgUBbbldZSEC3eHKLJ7dIQJjRMxdmtEhA4YMPPvhgR0BSOgE+u+9IQJSTk5OTU0hA5AwLLpUtSECl8ZEJ9A5IQNXf523S3UVAFBQUFBSURkAtZCELWQhFQA==\",\"dtype\":\"float64\",\"order\":\"little\",\"shape\":[71]},\"x\":[19,20,21,22,23,24,25,26,27,28,29,30,31,32,33,34,35,36,37,38,39,40,41,42,43,44,45,46,47,48,49,50,51,52,53,54,55,56,57,58,59,60,61,62,63,64,65,66,67,68,69,70,71,72,73,74,75,76,77,78,79,80,81,82,83,84,85,86,87,88,89]},\"selected\":{\"id\":\"8293\"},\"selection_policy\":{\"id\":\"8292\"}},\"id\":\"8278\",\"type\":\"ColumnDataSource\"},{\"attributes\":{},\"id\":\"8252\",\"type\":\"ResetTool\"},{\"attributes\":{},\"id\":\"8245\",\"type\":\"BasicTicker\"},{\"attributes\":{\"data_source\":{\"id\":\"8278\"},\"glyph\":{\"id\":\"8279\"},\"hover_glyph\":null,\"muted_glyph\":null,\"nonselection_glyph\":{\"id\":\"8280\"},\"selection_glyph\":null,\"view\":{\"id\":\"8282\"}},\"id\":\"8281\",\"type\":\"GlyphRenderer\"},{\"attributes\":{},\"id\":\"8271\",\"type\":\"BasicTickFormatter\"},{\"attributes\":{\"source\":{\"id\":\"8278\"}},\"id\":\"8282\",\"type\":\"CDSView\"},{\"attributes\":{},\"id\":\"8251\",\"type\":\"SaveTool\"},{\"attributes\":{},\"id\":\"8232\",\"type\":\"DataRange1d\"},{\"attributes\":{\"source\":{\"id\":\"8262\"}},\"id\":\"8266\",\"type\":\"CDSView\"},{\"attributes\":{\"axis\":{\"id\":\"8244\"},\"dimension\":1,\"ticker\":null},\"id\":\"8247\",\"type\":\"Grid\"},{\"attributes\":{\"label\":{\"value\":\"female\"},\"renderers\":[{\"id\":\"8281\"}]},\"id\":\"8294\",\"type\":\"LegendItem\"},{\"attributes\":{},\"id\":\"8249\",\"type\":\"WheelZoomTool\"},{\"attributes\":{\"fill_alpha\":{\"value\":0.1},\"fill_color\":{\"value\":\"firebrick\"},\"line_alpha\":{\"value\":0.1},\"line_color\":{\"value\":\"firebrick\"},\"top\":{\"field\":\"top\"},\"width\":{\"value\":0.5},\"x\":{\"field\":\"x\"}},\"id\":\"8264\",\"type\":\"VBar\"},{\"attributes\":{\"active_drag\":\"auto\",\"active_inspect\":\"auto\",\"active_multi\":null,\"active_scroll\":\"auto\",\"active_tap\":\"auto\",\"tools\":[{\"id\":\"8248\"},{\"id\":\"8249\"},{\"id\":\"8250\"},{\"id\":\"8251\"},{\"id\":\"8252\"},{\"id\":\"8253\"}]},\"id\":\"8255\",\"type\":\"Toolbar\"},{\"attributes\":{\"data_source\":{\"id\":\"8262\"},\"glyph\":{\"id\":\"8263\"},\"hover_glyph\":null,\"muted_glyph\":null,\"nonselection_glyph\":{\"id\":\"8264\"},\"selection_glyph\":null,\"view\":{\"id\":\"8266\"}},\"id\":\"8265\",\"type\":\"GlyphRenderer\"},{\"attributes\":{\"data\":{\"top\":{\"__ndarray__\":\"43ky3N1ESED7gKVptj9KQLLubRiwikxA3AFr4OTYTUCw7JktOmFPQDifG5s/IFBAMITQ5oLHUEAi0WSM1nJRQIy2tY9OulFAy62LJ5BGUkB6CnlyVKRSQJAcwrCrxlJAVNbr+SIeU0C8S4idhDJTQHPQOTuRElRA5Bwez5YIVECRZgDEWFNUQFewnRAstVRA/pvR+6byVEAwFPNP4d1UQOpRn3GrH1VAivFl9RAFVUCVNv4b9CRVQLk6dEKBAFVA8LkIyBDYVEDisXELKvtUQFx61eYa91RAKUMnSi/ZVEBRfgZSh4VUQFmfbnN4gFRAHNKm2wSIVEBzAIM6O/NTQPRS5sQww1NALRD8F4u3U0BN5pO6aYxTQO0yy4kJIFNAKSi04PlRU0CE3WQtBUhTQLYvpnTZGFNAmIuLUvAOU0D0NXPYh7hSQIO2CFS77lJAzrpjqXGxUkAOfRutel1SQHGa2Wi4EFJAQRI2zX8xUkDZ1hveB9FRQKRqHiKk7lBA3nV47HPhUEAsd0cLplxQQPQgxs/X009AzEkbveGWT0AwESlYz21OQOQ9Pcag+U1AdXhc01BdS0CMZUI1Sv9LQESfX28kw0pAYC7H1J9DSkBPJzAuEsNIQJVO5WdJIkhAM4+i/kRsR0AUrkfhegRIQGl+g6uGpEhAF1100UXLRkAtWxX+oCxHQJU0qi1XqUZA1EEd1EEdSECfrVn8VFdGQC11hNimlURA4RAO4RAuRkCsV69evdpFQA==\",\"dtype\":\"float64\",\"order\":\"little\",\"shape\":[71]},\"x\":[19,20,21,22,23,24,25,26,27,28,29,30,31,32,33,34,35,36,37,38,39,40,41,42,43,44,45,46,47,48,49,50,51,52,53,54,55,56,57,58,59,60,61,62,63,64,65,66,67,68,69,70,71,72,73,74,75,76,77,78,79,80,81,82,83,84,85,86,87,88,89]},\"selected\":{\"id\":\"8275\"},\"selection_policy\":{\"id\":\"8274\"}},\"id\":\"8262\",\"type\":\"ColumnDataSource\"},{\"attributes\":{},\"id\":\"8274\",\"type\":\"UnionRenderers\"},{\"attributes\":{\"items\":[{\"id\":\"8277\"},{\"id\":\"8294\"}],\"orientation\":\"horizontal\"},\"id\":\"8276\",\"type\":\"Legend\"},{\"attributes\":{\"label\":{\"value\":\"male\"},\"renderers\":[{\"id\":\"8265\"}]},\"id\":\"8277\",\"type\":\"LegendItem\"},{\"attributes\":{},\"id\":\"8292\",\"type\":\"UnionRenderers\"},{\"attributes\":{\"text\":\"\"},\"id\":\"8267\",\"type\":\"Title\"},{\"attributes\":{},\"id\":\"8275\",\"type\":\"Selection\"},{\"attributes\":{},\"id\":\"8293\",\"type\":\"Selection\"},{\"attributes\":{},\"id\":\"8238\",\"type\":\"LinearScale\"},{\"attributes\":{},\"id\":\"8234\",\"type\":\"DataRange1d\"},{\"attributes\":{\"bottom_units\":\"screen\",\"fill_alpha\":0.5,\"fill_color\":\"lightgrey\",\"left_units\":\"screen\",\"level\":\"overlay\",\"line_alpha\":1.0,\"line_color\":\"black\",\"line_dash\":[4,4],\"line_width\":2,\"right_units\":\"screen\",\"top_units\":\"screen\"},\"id\":\"8254\",\"type\":\"BoxAnnotation\"},{\"attributes\":{},\"id\":\"8236\",\"type\":\"LinearScale\"},{\"attributes\":{\"axis_label\":\"DegreeOut\",\"formatter\":{\"id\":\"8269\"},\"ticker\":{\"id\":\"8245\"}},\"id\":\"8244\",\"type\":\"LinearAxis\"}],\"root_ids\":[\"8231\"]},\"title\":\"Bokeh Application\",\"version\":\"2.2.3\"}};\n",
       "  var render_items = [{\"docid\":\"50a218b2-1031-4c31-907f-23ee421b3380\",\"root_ids\":[\"8231\"],\"roots\":{\"8231\":\"5152e71d-497b-4879-97db-cfd38ab5dc7c\"}}];\n",
       "  root.Bokeh.embed.embed_items_notebook(docs_json, render_items);\n",
       "\n",
       "  }\n",
       "  if (root.Bokeh !== undefined) {\n",
       "    embed_document(root);\n",
       "  } else {\n",
       "    var attempts = 0;\n",
       "    var timer = setInterval(function(root) {\n",
       "      if (root.Bokeh !== undefined) {\n",
       "        clearInterval(timer);\n",
       "        embed_document(root);\n",
       "      } else {\n",
       "        attempts++;\n",
       "        if (attempts > 100) {\n",
       "          clearInterval(timer);\n",
       "          console.log(\"Bokeh: ERROR: Unable to run BokehJS code because BokehJS library is missing\");\n",
       "        }\n",
       "      }\n",
       "    }, 10, root)\n",
       "  }\n",
       "})(window);"
      ],
      "application/vnd.bokehjs_exec.v0+json": ""
     },
     "metadata": {
      "application/vnd.bokehjs_exec.v0+json": {
       "id": "8231"
      }
     },
     "output_type": "display_data"
    },
    {
     "data": {
      "text/html": [
       "\n",
       "\n",
       "\n",
       "\n",
       "\n",
       "\n",
       "  <div class=\"bk-root\" id=\"8915c31c-9189-434b-878e-d517061fe495\" data-root-id=\"8615\"></div>\n"
      ]
     },
     "metadata": {},
     "output_type": "display_data"
    },
    {
     "data": {
      "application/javascript": [
       "(function(root) {\n",
       "  function embed_document(root) {\n",
       "    \n",
       "  var docs_json = {\"5ed08c7e-c1c0-459a-989f-627b34907af4\":{\"roots\":{\"references\":[{\"attributes\":{\"below\":[{\"id\":\"8624\"}],\"center\":[{\"id\":\"8627\"},{\"id\":\"8631\"},{\"id\":\"8660\"}],\"left\":[{\"id\":\"8628\"}],\"renderers\":[{\"id\":\"8649\"},{\"id\":\"8665\"}],\"title\":{\"id\":\"8651\"},\"toolbar\":{\"id\":\"8639\"},\"x_range\":{\"id\":\"8616\"},\"x_scale\":{\"id\":\"8620\"},\"y_range\":{\"id\":\"8618\"},\"y_scale\":{\"id\":\"8622\"}},\"id\":\"8615\",\"subtype\":\"Figure\",\"type\":\"Plot\"},{\"attributes\":{},\"id\":\"8635\",\"type\":\"SaveTool\"},{\"attributes\":{\"axis_label\":\"Age\",\"formatter\":{\"id\":\"8655\"},\"ticker\":{\"id\":\"8625\"}},\"id\":\"8624\",\"type\":\"LinearAxis\"},{\"attributes\":{},\"id\":\"8653\",\"type\":\"BasicTickFormatter\"},{\"attributes\":{\"overlay\":{\"id\":\"8638\"}},\"id\":\"8634\",\"type\":\"BoxZoomTool\"},{\"attributes\":{\"axis\":{\"id\":\"8624\"},\"ticker\":null},\"id\":\"8627\",\"type\":\"Grid\"},{\"attributes\":{\"axis_label\":\"DegreeCallsIn\",\"formatter\":{\"id\":\"8653\"},\"ticker\":{\"id\":\"8629\"}},\"id\":\"8628\",\"type\":\"LinearAxis\"},{\"attributes\":{},\"id\":\"8676\",\"type\":\"UnionRenderers\"},{\"attributes\":{},\"id\":\"8637\",\"type\":\"HelpTool\"},{\"attributes\":{\"active_drag\":\"auto\",\"active_inspect\":\"auto\",\"active_multi\":null,\"active_scroll\":\"auto\",\"active_tap\":\"auto\",\"tools\":[{\"id\":\"8632\"},{\"id\":\"8633\"},{\"id\":\"8634\"},{\"id\":\"8635\"},{\"id\":\"8636\"},{\"id\":\"8637\"}]},\"id\":\"8639\",\"type\":\"Toolbar\"},{\"attributes\":{},\"id\":\"8677\",\"type\":\"Selection\"},{\"attributes\":{\"fill_alpha\":{\"value\":0.5},\"fill_color\":{\"value\":\"#50c878\"},\"line_alpha\":{\"value\":0.5},\"line_color\":{\"value\":\"#50c878\"},\"top\":{\"field\":\"top\"},\"width\":{\"value\":0.5},\"x\":{\"field\":\"x\"}},\"id\":\"8663\",\"type\":\"VBar\"},{\"attributes\":{},\"id\":\"8636\",\"type\":\"ResetTool\"},{\"attributes\":{},\"id\":\"8655\",\"type\":\"BasicTickFormatter\"},{\"attributes\":{},\"id\":\"8629\",\"type\":\"BasicTicker\"},{\"attributes\":{},\"id\":\"8632\",\"type\":\"PanTool\"},{\"attributes\":{\"source\":{\"id\":\"8646\"}},\"id\":\"8650\",\"type\":\"CDSView\"},{\"attributes\":{},\"id\":\"8633\",\"type\":\"WheelZoomTool\"},{\"attributes\":{\"data_source\":{\"id\":\"8662\"},\"glyph\":{\"id\":\"8663\"},\"hover_glyph\":null,\"muted_glyph\":null,\"nonselection_glyph\":{\"id\":\"8664\"},\"selection_glyph\":null,\"view\":{\"id\":\"8666\"}},\"id\":\"8665\",\"type\":\"GlyphRenderer\"},{\"attributes\":{\"fill_alpha\":{\"value\":0.1},\"fill_color\":{\"value\":\"firebrick\"},\"line_alpha\":{\"value\":0.1},\"line_color\":{\"value\":\"firebrick\"},\"top\":{\"field\":\"top\"},\"width\":{\"value\":0.5},\"x\":{\"field\":\"x\"}},\"id\":\"8648\",\"type\":\"VBar\"},{\"attributes\":{\"data_source\":{\"id\":\"8646\"},\"glyph\":{\"id\":\"8647\"},\"hover_glyph\":null,\"muted_glyph\":null,\"nonselection_glyph\":{\"id\":\"8648\"},\"selection_glyph\":null,\"view\":{\"id\":\"8650\"}},\"id\":\"8649\",\"type\":\"GlyphRenderer\"},{\"attributes\":{\"data\":{\"top\":{\"__ndarray__\":\"X91xFKc0e0Ci0w9mw398QOYZqsCfOX9A4/7yEt2HgED7v/aFnxKBQEvhPwSO8IFAFMBzXcF0gkDh46K6gNmCQDVhP7xteYNAdkCJDEUThEDgtdEHti6EQFAnANUHV4RAnAXMvH6YhEDNHq0cgbiEQMtsG9DQe4VAGBu0IaOlhUByfR6qfMuFQFqP4G3tM4ZAYqFqtEDkhkDlwU4A+K+GQC8w1kLOwoZAb4eTfDAnh0D/vk/JWE6HQIZ9Sea3J4dA7yaQXotlh0BeX16SNYSHQIv37nvPc4dAw5H+Salah0C6Fp9Zc2eHQEGoYTkEW4dAArQz9Deph0AENwreAhaHQKdCG4ibFodAaPzHwYsUh0CBS3lzqt+GQGB219HQn4ZAnfhuQLK/hkCXq8Aceb6GQKxdyIzwAIdAj+jLb/hchkDj8nqcmFCGQBIN/hhWqYZATacrKF4ThkDypmBgDyCGQMhYBKLcjoVAsUUUPv9shUAIvsrnl/eEQMFm9bOqzYNAYzGVh2Y3hEDUVypWnE2DQN9kKU1AOYNAW3IhjzQTg0C89SmM5HyCQGF/axZs0IFAXK1nyDc1gECNlS6w09+AQFM/4uL+AoBA3MJk82OufkAYzd1LbDp9QJyjEr5MpXxAfHkD3L06fECF61G43pd8QAASg70Jsn1A4YMPPvgce0B00UUXXSR9QL6vCUHZx3pAiZVYiZUIfkBqnHzzR1J5QMW9kyx1pHhAgRZogRbcekAZMWLEiA14QA==\",\"dtype\":\"float64\",\"order\":\"little\",\"shape\":[71]},\"x\":[19,20,21,22,23,24,25,26,27,28,29,30,31,32,33,34,35,36,37,38,39,40,41,42,43,44,45,46,47,48,49,50,51,52,53,54,55,56,57,58,59,60,61,62,63,64,65,66,67,68,69,70,71,72,73,74,75,76,77,78,79,80,81,82,83,84,85,86,87,88,89]},\"selected\":{\"id\":\"8659\"},\"selection_policy\":{\"id\":\"8658\"}},\"id\":\"8646\",\"type\":\"ColumnDataSource\"},{\"attributes\":{\"source\":{\"id\":\"8662\"}},\"id\":\"8666\",\"type\":\"CDSView\"},{\"attributes\":{},\"id\":\"8658\",\"type\":\"UnionRenderers\"},{\"attributes\":{\"label\":{\"value\":\"female\"},\"renderers\":[{\"id\":\"8665\"}]},\"id\":\"8678\",\"type\":\"LegendItem\"},{\"attributes\":{\"items\":[{\"id\":\"8661\"},{\"id\":\"8678\"}],\"orientation\":\"horizontal\"},\"id\":\"8660\",\"type\":\"Legend\"},{\"attributes\":{},\"id\":\"8620\",\"type\":\"LinearScale\"},{\"attributes\":{},\"id\":\"8622\",\"type\":\"LinearScale\"},{\"attributes\":{\"label\":{\"value\":\"male\"},\"renderers\":[{\"id\":\"8649\"}]},\"id\":\"8661\",\"type\":\"LegendItem\"},{\"attributes\":{\"fill_alpha\":{\"value\":0.5},\"fill_color\":{\"value\":\"firebrick\"},\"line_alpha\":{\"value\":0.5},\"line_color\":{\"value\":\"firebrick\"},\"top\":{\"field\":\"top\"},\"width\":{\"value\":0.5},\"x\":{\"field\":\"x\"}},\"id\":\"8647\",\"type\":\"VBar\"},{\"attributes\":{\"text\":\"\"},\"id\":\"8651\",\"type\":\"Title\"},{\"attributes\":{},\"id\":\"8659\",\"type\":\"Selection\"},{\"attributes\":{\"data\":{\"top\":{\"__ndarray__\":\"v2mCwG96fEDrVKxOxaF+QCKRSCTSJIBA8cV3RiitgEDSo6NMy2yBQAeVfV02BYJAzeYWHRiagkBjujb8UxCDQH9Oa3KMaYNAUCkQG7Hcg0Dfe++9R+uDQKBxt84rAIRAmk4ZfusKhEBb1ZNdmJ6EQA2gvh4YYIRAXCR7sYUhhUB33Wr8O3qFQGPK12EJk4VA8COcaGXWhUCA9lpFGUOGQJP870G0QoZAHdeECObjhkClHTWi3bKGQPzcnaAIoIZAN49QfSYSh0Cpq+NgidqGQKUySWBYNodAb9tMVvw+h0Agv6z5jW+HQFFG1u63RYdAAVgqJqtch0APvhTWXoaHQL1SMtk/J4dA5X/ulIDNhkA3JFDVNTSHQOkmFh25roZAD2zlToXchkBnzILCpcqGQBN9SvAyu4ZA0e8YOuH7hkDWxPEYZFaGQL4SIHsmbYZA4sStu4MQhkBQ0E3f5C+GQAXP68VMoIVAf+ggBSzjhUC+cJMWlg+FQHxtYmS8NYVAbtu2bdvmhEBG2rECYXKEQB0CTLDKA4RA1JP7FukzhEBOvOXvqXaDQGqeHwFbn4JA+GejdUYvgUA0id4zCZ2AQOhuRv/JQIFAj8HadFSGgUDQsflu+M+AQKhb88MiAn9A2nK7yh5tf0DNkO1VazOAQE1U2VUTHYBA+OCDDz5YgEDI21rsH1SAQEJCQkJCtn9A27sO6MaMfkBdy8HNfq2AQAsIhmSL6HxAmkTvmUTvekBkIQtZyE5+QA==\",\"dtype\":\"float64\",\"order\":\"little\",\"shape\":[71]},\"x\":[19,20,21,22,23,24,25,26,27,28,29,30,31,32,33,34,35,36,37,38,39,40,41,42,43,44,45,46,47,48,49,50,51,52,53,54,55,56,57,58,59,60,61,62,63,64,65,66,67,68,69,70,71,72,73,74,75,76,77,78,79,80,81,82,83,84,85,86,87,88,89]},\"selected\":{\"id\":\"8677\"},\"selection_policy\":{\"id\":\"8676\"}},\"id\":\"8662\",\"type\":\"ColumnDataSource\"},{\"attributes\":{\"fill_alpha\":{\"value\":0.1},\"fill_color\":{\"value\":\"#50c878\"},\"line_alpha\":{\"value\":0.1},\"line_color\":{\"value\":\"#50c878\"},\"top\":{\"field\":\"top\"},\"width\":{\"value\":0.5},\"x\":{\"field\":\"x\"}},\"id\":\"8664\",\"type\":\"VBar\"},{\"attributes\":{},\"id\":\"8616\",\"type\":\"DataRange1d\"},{\"attributes\":{},\"id\":\"8618\",\"type\":\"DataRange1d\"},{\"attributes\":{\"bottom_units\":\"screen\",\"fill_alpha\":0.5,\"fill_color\":\"lightgrey\",\"left_units\":\"screen\",\"level\":\"overlay\",\"line_alpha\":1.0,\"line_color\":\"black\",\"line_dash\":[4,4],\"line_width\":2,\"right_units\":\"screen\",\"top_units\":\"screen\"},\"id\":\"8638\",\"type\":\"BoxAnnotation\"},{\"attributes\":{\"axis\":{\"id\":\"8628\"},\"dimension\":1,\"ticker\":null},\"id\":\"8631\",\"type\":\"Grid\"},{\"attributes\":{},\"id\":\"8625\",\"type\":\"BasicTicker\"}],\"root_ids\":[\"8615\"]},\"title\":\"Bokeh Application\",\"version\":\"2.2.3\"}};\n",
       "  var render_items = [{\"docid\":\"5ed08c7e-c1c0-459a-989f-627b34907af4\",\"root_ids\":[\"8615\"],\"roots\":{\"8615\":\"8915c31c-9189-434b-878e-d517061fe495\"}}];\n",
       "  root.Bokeh.embed.embed_items_notebook(docs_json, render_items);\n",
       "\n",
       "  }\n",
       "  if (root.Bokeh !== undefined) {\n",
       "    embed_document(root);\n",
       "  } else {\n",
       "    var attempts = 0;\n",
       "    var timer = setInterval(function(root) {\n",
       "      if (root.Bokeh !== undefined) {\n",
       "        clearInterval(timer);\n",
       "        embed_document(root);\n",
       "      } else {\n",
       "        attempts++;\n",
       "        if (attempts > 100) {\n",
       "          clearInterval(timer);\n",
       "          console.log(\"Bokeh: ERROR: Unable to run BokehJS code because BokehJS library is missing\");\n",
       "        }\n",
       "      }\n",
       "    }, 10, root)\n",
       "  }\n",
       "})(window);"
      ],
      "application/vnd.bokehjs_exec.v0+json": ""
     },
     "metadata": {
      "application/vnd.bokehjs_exec.v0+json": {
       "id": "8615"
      }
     },
     "output_type": "display_data"
    },
    {
     "data": {
      "text/html": [
       "\n",
       "\n",
       "\n",
       "\n",
       "\n",
       "\n",
       "  <div class=\"bk-root\" id=\"4ea4cdeb-bebf-4026-814d-6baafa66c478\" data-root-id=\"9010\"></div>\n"
      ]
     },
     "metadata": {},
     "output_type": "display_data"
    },
    {
     "data": {
      "application/javascript": [
       "(function(root) {\n",
       "  function embed_document(root) {\n",
       "    \n",
       "  var docs_json = {\"364bf2d3-b7fb-4317-b311-c8f3933cc1b7\":{\"roots\":{\"references\":[{\"attributes\":{\"below\":[{\"id\":\"9019\"}],\"center\":[{\"id\":\"9022\"},{\"id\":\"9026\"},{\"id\":\"9055\"}],\"left\":[{\"id\":\"9023\"}],\"renderers\":[{\"id\":\"9044\"},{\"id\":\"9060\"}],\"title\":{\"id\":\"9046\"},\"toolbar\":{\"id\":\"9034\"},\"x_range\":{\"id\":\"9011\"},\"x_scale\":{\"id\":\"9015\"},\"y_range\":{\"id\":\"9013\"},\"y_scale\":{\"id\":\"9017\"}},\"id\":\"9010\",\"subtype\":\"Figure\",\"type\":\"Plot\"},{\"attributes\":{},\"id\":\"9031\",\"type\":\"ResetTool\"},{\"attributes\":{},\"id\":\"9072\",\"type\":\"Selection\"},{\"attributes\":{},\"id\":\"9024\",\"type\":\"BasicTicker\"},{\"attributes\":{},\"id\":\"9030\",\"type\":\"SaveTool\"},{\"attributes\":{\"axis\":{\"id\":\"9019\"},\"ticker\":null},\"id\":\"9022\",\"type\":\"Grid\"},{\"attributes\":{\"axis\":{\"id\":\"9023\"},\"dimension\":1,\"ticker\":null},\"id\":\"9026\",\"type\":\"Grid\"},{\"attributes\":{},\"id\":\"9028\",\"type\":\"WheelZoomTool\"},{\"attributes\":{\"active_drag\":\"auto\",\"active_inspect\":\"auto\",\"active_multi\":null,\"active_scroll\":\"auto\",\"active_tap\":\"auto\",\"tools\":[{\"id\":\"9027\"},{\"id\":\"9028\"},{\"id\":\"9029\"},{\"id\":\"9030\"},{\"id\":\"9031\"},{\"id\":\"9032\"}]},\"id\":\"9034\",\"type\":\"Toolbar\"},{\"attributes\":{\"source\":{\"id\":\"9041\"}},\"id\":\"9045\",\"type\":\"CDSView\"},{\"attributes\":{\"fill_alpha\":{\"value\":0.1},\"fill_color\":{\"value\":\"firebrick\"},\"line_alpha\":{\"value\":0.1},\"line_color\":{\"value\":\"firebrick\"},\"top\":{\"field\":\"top\"},\"width\":{\"value\":0.5},\"x\":{\"field\":\"x\"}},\"id\":\"9043\",\"type\":\"VBar\"},{\"attributes\":{\"data_source\":{\"id\":\"9041\"},\"glyph\":{\"id\":\"9042\"},\"hover_glyph\":null,\"muted_glyph\":null,\"nonselection_glyph\":{\"id\":\"9043\"},\"selection_glyph\":null,\"view\":{\"id\":\"9045\"}},\"id\":\"9044\",\"type\":\"GlyphRenderer\"},{\"attributes\":{\"data\":{\"top\":{\"__ndarray__\":\"DWWv9/x2fEBmIJnoiWF/QKwGlk2cHIFAp+/rFVUzgkAXLhgSOzSDQEI6goyyLYRAjnnsEBDqhED4x0DtwfOFQFa+TByAbYZAT0FTHSMnh0AEFIBJ4iuHQE4roqBOiYdARfA+vdbZh0CVhpbgAw2IQFM9uZKMc4lAK246NICXiUDceXccmceJQOUA43v5jYpApQ4OG15ei0D5uRwV20uLQJnJgZPlVotAyLs98iS0i0CszWmGGyaMQOW7rzMPs4tAUtkmUyPri0CXywc+rGmMQMPe6jL5NIxAif3ieBNHjEBMWxGemxuMQIUxYGSgPYxAiy01TcqojEBuLX2TQq+LQJWISazK0otAzKXXtVG5i0Bs4g0e9yWLQP972BcMoopA/+bvjyQki0AQ4+jZ2xaLQO/QzfDZ54pAsBVpIveOikAK3jEoM0iKQHCeak70o4pAUPqkT/riiUAMBx/BiryJQOvwKsxcIYlAwU/FssQLiUBNl4ptvVWIQDoFMGnmVIdAbRZFbfO2h0Af4e2D3bSGQB5uBrCSQoZADoBeErlPhkD7rtA7nDyFQAAU35nwFoVAyhXE5Aq6gkAkeiguHpuDQLKLAnBAm4JAFWljEH4QgkBUWR9lx/+AQFeID0kVB4FAAhCRoXa8f0CPwvUoPESAQMk1Evr7+oBAq6qqqiqKf0AtFrlEc42AQOM8dAwvhoBAAAAAAAAggUCmA6soluB+QCG2acW903xAWqAFWqChf0DWq1evXr19QA==\",\"dtype\":\"float64\",\"order\":\"little\",\"shape\":[71]},\"x\":[19,20,21,22,23,24,25,26,27,28,29,30,31,32,33,34,35,36,37,38,39,40,41,42,43,44,45,46,47,48,49,50,51,52,53,54,55,56,57,58,59,60,61,62,63,64,65,66,67,68,69,70,71,72,73,74,75,76,77,78,79,80,81,82,83,84,85,86,87,88,89]},\"selected\":{\"id\":\"9054\"},\"selection_policy\":{\"id\":\"9053\"}},\"id\":\"9041\",\"type\":\"ColumnDataSource\"},{\"attributes\":{\"items\":[{\"id\":\"9056\"},{\"id\":\"9073\"}],\"orientation\":\"horizontal\"},\"id\":\"9055\",\"type\":\"Legend\"},{\"attributes\":{\"fill_alpha\":{\"value\":0.1},\"fill_color\":{\"value\":\"#50c878\"},\"line_alpha\":{\"value\":0.1},\"line_color\":{\"value\":\"#50c878\"},\"top\":{\"field\":\"top\"},\"width\":{\"value\":0.5},\"x\":{\"field\":\"x\"}},\"id\":\"9059\",\"type\":\"VBar\"},{\"attributes\":{\"fill_alpha\":{\"value\":0.5},\"fill_color\":{\"value\":\"#50c878\"},\"line_alpha\":{\"value\":0.5},\"line_color\":{\"value\":\"#50c878\"},\"top\":{\"field\":\"top\"},\"width\":{\"value\":0.5},\"x\":{\"field\":\"x\"}},\"id\":\"9058\",\"type\":\"VBar\"},{\"attributes\":{\"label\":{\"value\":\"male\"},\"renderers\":[{\"id\":\"9044\"}]},\"id\":\"9056\",\"type\":\"LegendItem\"},{\"attributes\":{},\"id\":\"9050\",\"type\":\"BasicTickFormatter\"},{\"attributes\":{\"text\":\"\"},\"id\":\"9046\",\"type\":\"Title\"},{\"attributes\":{\"fill_alpha\":{\"value\":0.5},\"fill_color\":{\"value\":\"firebrick\"},\"line_alpha\":{\"value\":0.5},\"line_color\":{\"value\":\"firebrick\"},\"top\":{\"field\":\"top\"},\"width\":{\"value\":0.5},\"x\":{\"field\":\"x\"}},\"id\":\"9042\",\"type\":\"VBar\"},{\"attributes\":{\"data\":{\"top\":{\"__ndarray__\":\"m/4exaZffUA2KVuTsnCAQOJwOBwOcoFASa4OE0jvgkDWecaRUIWDQKiRqjzWdIRARDiG6C/FhECFCEPrbtGFQBxylv+3DoZAXh/Y/HzZhkAyxhhjDOiGQHnJRu2a/IZAzgJZxFb4hkCwuZYU6biHQCm9KxTamYdA1aW8AxViiEBabGAuo7aIQKRu4WLxjYhADy5ekJbiiEDkkUceeXyJQCjzQ/cjmIlAU9DKCNLliUDnu0N0ScqJQMB+vAVuSYlAW6mVWilviUDQeacU8YGJQEcSD8mlo4lA+ss6BYvOiUDO/rmAaqCJQIiEm+D6iolAFTsr3Bh5iUAXO7VJmEmJQGC8SYOR9IhAR6HYQefZiEDeGtDPoyuJQGU08PGYuIhAVMV9Pi8qiECxRTlfMpWIQKBzKwwzd4hAYkMa+VFXiEAbscb/2vCHQI4fNHEGs4dA/QNfqTgyh0C0FWgn7KCHQGzFTe7AfodA8t8swSR6h0DtuLWIt3+GQIkHxjBLF4dA78WPyfa8hkDDkTkBzzuGQGCCVQbkj4VAvyiq33mVhUBFB4mVta+EQA0qTrtDfoRAKuA+IVGQgkAXwmwXQnmCQBWVYrBU3YJAe8gYtQRWg0CzFgro2CuCQN2aHxapGIFAdvfBm8lVgUCAbx1BaWaCQCz1aQVL9YFATxg/2kaRgUB5W4v9g+mCQBgYGBgY5IFAO6Ab8/StgUCl8ZEJ9GKDQDAkW0RzFoBAf9Qpf9Tpf0DTm970piuBQA==\",\"dtype\":\"float64\",\"order\":\"little\",\"shape\":[71]},\"x\":[19,20,21,22,23,24,25,26,27,28,29,30,31,32,33,34,35,36,37,38,39,40,41,42,43,44,45,46,47,48,49,50,51,52,53,54,55,56,57,58,59,60,61,62,63,64,65,66,67,68,69,70,71,72,73,74,75,76,77,78,79,80,81,82,83,84,85,86,87,88,89]},\"selected\":{\"id\":\"9072\"},\"selection_policy\":{\"id\":\"9071\"}},\"id\":\"9057\",\"type\":\"ColumnDataSource\"},{\"attributes\":{},\"id\":\"9048\",\"type\":\"BasicTickFormatter\"},{\"attributes\":{\"axis_label\":\"DegreeCallsOut\",\"formatter\":{\"id\":\"9048\"},\"ticker\":{\"id\":\"9024\"}},\"id\":\"9023\",\"type\":\"LinearAxis\"},{\"attributes\":{\"data_source\":{\"id\":\"9057\"},\"glyph\":{\"id\":\"9058\"},\"hover_glyph\":null,\"muted_glyph\":null,\"nonselection_glyph\":{\"id\":\"9059\"},\"selection_glyph\":null,\"view\":{\"id\":\"9061\"}},\"id\":\"9060\",\"type\":\"GlyphRenderer\"},{\"attributes\":{\"source\":{\"id\":\"9057\"}},\"id\":\"9061\",\"type\":\"CDSView\"},{\"attributes\":{},\"id\":\"9020\",\"type\":\"BasicTicker\"},{\"attributes\":{\"axis_label\":\"Age\",\"formatter\":{\"id\":\"9050\"},\"ticker\":{\"id\":\"9020\"}},\"id\":\"9019\",\"type\":\"LinearAxis\"},{\"attributes\":{\"label\":{\"value\":\"female\"},\"renderers\":[{\"id\":\"9060\"}]},\"id\":\"9073\",\"type\":\"LegendItem\"},{\"attributes\":{\"bottom_units\":\"screen\",\"fill_alpha\":0.5,\"fill_color\":\"lightgrey\",\"left_units\":\"screen\",\"level\":\"overlay\",\"line_alpha\":1.0,\"line_color\":\"black\",\"line_dash\":[4,4],\"line_width\":2,\"right_units\":\"screen\",\"top_units\":\"screen\"},\"id\":\"9033\",\"type\":\"BoxAnnotation\"},{\"attributes\":{},\"id\":\"9015\",\"type\":\"LinearScale\"},{\"attributes\":{},\"id\":\"9017\",\"type\":\"LinearScale\"},{\"attributes\":{},\"id\":\"9032\",\"type\":\"HelpTool\"},{\"attributes\":{},\"id\":\"9053\",\"type\":\"UnionRenderers\"},{\"attributes\":{},\"id\":\"9071\",\"type\":\"UnionRenderers\"},{\"attributes\":{},\"id\":\"9013\",\"type\":\"DataRange1d\"},{\"attributes\":{\"overlay\":{\"id\":\"9033\"}},\"id\":\"9029\",\"type\":\"BoxZoomTool\"},{\"attributes\":{},\"id\":\"9011\",\"type\":\"DataRange1d\"},{\"attributes\":{},\"id\":\"9027\",\"type\":\"PanTool\"},{\"attributes\":{},\"id\":\"9054\",\"type\":\"Selection\"}],\"root_ids\":[\"9010\"]},\"title\":\"Bokeh Application\",\"version\":\"2.2.3\"}};\n",
       "  var render_items = [{\"docid\":\"364bf2d3-b7fb-4317-b311-c8f3933cc1b7\",\"root_ids\":[\"9010\"],\"roots\":{\"9010\":\"4ea4cdeb-bebf-4026-814d-6baafa66c478\"}}];\n",
       "  root.Bokeh.embed.embed_items_notebook(docs_json, render_items);\n",
       "\n",
       "  }\n",
       "  if (root.Bokeh !== undefined) {\n",
       "    embed_document(root);\n",
       "  } else {\n",
       "    var attempts = 0;\n",
       "    var timer = setInterval(function(root) {\n",
       "      if (root.Bokeh !== undefined) {\n",
       "        clearInterval(timer);\n",
       "        embed_document(root);\n",
       "      } else {\n",
       "        attempts++;\n",
       "        if (attempts > 100) {\n",
       "          clearInterval(timer);\n",
       "          console.log(\"Bokeh: ERROR: Unable to run BokehJS code because BokehJS library is missing\");\n",
       "        }\n",
       "      }\n",
       "    }, 10, root)\n",
       "  }\n",
       "})(window);"
      ],
      "application/vnd.bokehjs_exec.v0+json": ""
     },
     "metadata": {
      "application/vnd.bokehjs_exec.v0+json": {
       "id": "9010"
      }
     },
     "output_type": "display_data"
    },
    {
     "data": {
      "text/html": [
       "\n",
       "\n",
       "\n",
       "\n",
       "\n",
       "\n",
       "  <div class=\"bk-root\" id=\"50545bb3-225d-4aa8-b633-eb14a0c477e5\" data-root-id=\"9416\"></div>\n"
      ]
     },
     "metadata": {},
     "output_type": "display_data"
    },
    {
     "data": {
      "application/javascript": [
       "(function(root) {\n",
       "  function embed_document(root) {\n",
       "    \n",
       "  var docs_json = {\"51217e18-a94a-4207-ad70-9dd7cdd6b2ea\":{\"roots\":{\"references\":[{\"attributes\":{\"below\":[{\"id\":\"9425\"}],\"center\":[{\"id\":\"9428\"},{\"id\":\"9432\"},{\"id\":\"9461\"}],\"left\":[{\"id\":\"9429\"}],\"renderers\":[{\"id\":\"9450\"},{\"id\":\"9466\"}],\"title\":{\"id\":\"9452\"},\"toolbar\":{\"id\":\"9440\"},\"x_range\":{\"id\":\"9417\"},\"x_scale\":{\"id\":\"9421\"},\"y_range\":{\"id\":\"9419\"},\"y_scale\":{\"id\":\"9423\"}},\"id\":\"9416\",\"subtype\":\"Figure\",\"type\":\"Plot\"},{\"attributes\":{\"axis\":{\"id\":\"9429\"},\"dimension\":1,\"ticker\":null},\"id\":\"9432\",\"type\":\"Grid\"},{\"attributes\":{\"fill_alpha\":{\"value\":0.1},\"fill_color\":{\"value\":\"firebrick\"},\"line_alpha\":{\"value\":0.1},\"line_color\":{\"value\":\"firebrick\"},\"top\":{\"field\":\"top\"},\"width\":{\"value\":0.5},\"x\":{\"field\":\"x\"}},\"id\":\"9449\",\"type\":\"VBar\"},{\"attributes\":{},\"id\":\"9434\",\"type\":\"WheelZoomTool\"},{\"attributes\":{\"data\":{\"top\":{\"__ndarray__\":\"5kcpKpmp50CGjwYnp6voQBC+0W1Wt+pAfmycy+B97EDKLMiPfNLuQItw2nv3JfBA7oCGrd7R8EBCxYHVa3HxQPIFlrGnnvJAWOTJzXYc80A8gNym5cjzQDHsqg0JGfRAL/pAgqTH9EDUIMR9Zi71QFz20cx1+fVALRfk1UMA9kCM7KAdG9P2QK6hScjT3vZAqwlTAe4e+EBP7stJSSD4QI1b/X6NjPhA/SR64sd2+EBo/7OmAf/4QKrI/lks2vhAIIDbWLMi+UB1b0CZxBn5QGVWIw2JePlAA0EWSNHo+EDEymaGCgH5QLMpY7XH1PhAEIubyZRc+UCbkU9IFRv5QMKJl57HrPhATUGkv2+K+EBpa1Wz4TP4QH7BcNYhMfhA4Rwd0LpB+ECBCGTmkFD4QCmtjlbcOvlA617vEy5n+EDSOdXgIsL4QL6k+1UGTflAhsuT8xL7+EDdkRXbVbr4QGB/LiK/pfhAKRBAkAnH+ECRcErzvUz4QN1mJtbkBfdAK1SUC3RP+EDy26WetC73QJxXni6kjvdAyZGpCdds90D2KYzkRFT3QHNbxirZVPZAqO2MHch09EBF9qR584r1QMOUkQV1GvVAGOPSLmjJ9ECcMhE1BO/zQI24fASpQvNAjufqtdpQ80BI4XpUv1D0QLLvNDbwQ/ZAsskmG7Xy80BTsCT2S2H1QGIBd/rvQ/NAqp3aqUWZ9kDfv7DHU9HyQDKRHqgURfNAgRZogYoR80AgP378UDTwQA==\",\"dtype\":\"float64\",\"order\":\"little\",\"shape\":[71]},\"x\":[19,20,21,22,23,24,25,26,27,28,29,30,31,32,33,34,35,36,37,38,39,40,41,42,43,44,45,46,47,48,49,50,51,52,53,54,55,56,57,58,59,60,61,62,63,64,65,66,67,68,69,70,71,72,73,74,75,76,77,78,79,80,81,82,83,84,85,86,87,88,89]},\"selected\":{\"id\":\"9460\"},\"selection_policy\":{\"id\":\"9459\"}},\"id\":\"9447\",\"type\":\"ColumnDataSource\"},{\"attributes\":{\"data_source\":{\"id\":\"9447\"},\"glyph\":{\"id\":\"9448\"},\"hover_glyph\":null,\"muted_glyph\":null,\"nonselection_glyph\":{\"id\":\"9449\"},\"selection_glyph\":null,\"view\":{\"id\":\"9451\"}},\"id\":\"9450\",\"type\":\"GlyphRenderer\"},{\"attributes\":{\"source\":{\"id\":\"9447\"}},\"id\":\"9451\",\"type\":\"CDSView\"},{\"attributes\":{},\"id\":\"9459\",\"type\":\"UnionRenderers\"},{\"attributes\":{\"items\":[{\"id\":\"9462\"},{\"id\":\"9479\"}],\"orientation\":\"horizontal\"},\"id\":\"9461\",\"type\":\"Legend\"},{\"attributes\":{},\"id\":\"9477\",\"type\":\"UnionRenderers\"},{\"attributes\":{\"fill_alpha\":{\"value\":0.5},\"fill_color\":{\"value\":\"#50c878\"},\"line_alpha\":{\"value\":0.5},\"line_color\":{\"value\":\"#50c878\"},\"top\":{\"field\":\"top\"},\"width\":{\"value\":0.5},\"x\":{\"field\":\"x\"}},\"id\":\"9464\",\"type\":\"VBar\"},{\"attributes\":{\"text\":\"\"},\"id\":\"9452\",\"type\":\"Title\"},{\"attributes\":{},\"id\":\"9460\",\"type\":\"Selection\"},{\"attributes\":{},\"id\":\"9433\",\"type\":\"PanTool\"},{\"attributes\":{},\"id\":\"9478\",\"type\":\"Selection\"},{\"attributes\":{},\"id\":\"9436\",\"type\":\"SaveTool\"},{\"attributes\":{\"axis_label\":\"Age\",\"formatter\":{\"id\":\"9456\"},\"ticker\":{\"id\":\"9426\"}},\"id\":\"9425\",\"type\":\"LinearAxis\"},{\"attributes\":{\"bottom_units\":\"screen\",\"fill_alpha\":0.5,\"fill_color\":\"lightgrey\",\"left_units\":\"screen\",\"level\":\"overlay\",\"line_alpha\":1.0,\"line_color\":\"black\",\"line_dash\":[4,4],\"line_width\":2,\"right_units\":\"screen\",\"top_units\":\"screen\"},\"id\":\"9439\",\"type\":\"BoxAnnotation\"},{\"attributes\":{},\"id\":\"9426\",\"type\":\"BasicTicker\"},{\"attributes\":{},\"id\":\"9417\",\"type\":\"DataRange1d\"},{\"attributes\":{\"axis_label\":\"DegreeSecIn\",\"formatter\":{\"id\":\"9454\"},\"ticker\":{\"id\":\"9430\"}},\"id\":\"9429\",\"type\":\"LinearAxis\"},{\"attributes\":{\"fill_alpha\":{\"value\":0.5},\"fill_color\":{\"value\":\"firebrick\"},\"line_alpha\":{\"value\":0.5},\"line_color\":{\"value\":\"firebrick\"},\"top\":{\"field\":\"top\"},\"width\":{\"value\":0.5},\"x\":{\"field\":\"x\"}},\"id\":\"9448\",\"type\":\"VBar\"},{\"attributes\":{},\"id\":\"9419\",\"type\":\"DataRange1d\"},{\"attributes\":{},\"id\":\"9454\",\"type\":\"BasicTickFormatter\"},{\"attributes\":{},\"id\":\"9421\",\"type\":\"LinearScale\"},{\"attributes\":{\"fill_alpha\":{\"value\":0.1},\"fill_color\":{\"value\":\"#50c878\"},\"line_alpha\":{\"value\":0.1},\"line_color\":{\"value\":\"#50c878\"},\"top\":{\"field\":\"top\"},\"width\":{\"value\":0.5},\"x\":{\"field\":\"x\"}},\"id\":\"9465\",\"type\":\"VBar\"},{\"attributes\":{},\"id\":\"9437\",\"type\":\"ResetTool\"},{\"attributes\":{\"label\":{\"value\":\"male\"},\"renderers\":[{\"id\":\"9450\"}]},\"id\":\"9462\",\"type\":\"LegendItem\"},{\"attributes\":{},\"id\":\"9423\",\"type\":\"LinearScale\"},{\"attributes\":{\"overlay\":{\"id\":\"9439\"}},\"id\":\"9435\",\"type\":\"BoxZoomTool\"},{\"attributes\":{\"data\":{\"top\":{\"__ndarray__\":\"lE8++YRF8EAeiN+BjP7wQCaTyeQjZ/JA+M8uv+lo8kAYirOLpn3zQEozlqVSnPRAl8CpZ6Nc9UD7AXfHPuf1QEXk1aZ1JPZARDUnDtzW9kAssMAiIiX3QKNwlOhnfvdAv5TpVqlN+EBK/AF2juL4QOnEtmDNo/hA2p80bYTW+UCISVbeso76QIX4DFQAzPpAs/c1IXhr+0Co7mXTSjj8QMdih9I5QvxAdkA+tb0P/UDNxCfMGbD8QNkmFxOAEv1AwSwpB3M4/kBQ6qaxCEX9QFtmVMzGPf5AgZ3DK6d7/kChzMIDYNj+QCc775hF9P1Ah7ksHP+t/kByfyo95DT/QJzFI5H4+/5A00DOukmK/kCLEurCEdz+QK+FaofR+P1AkLr6Rd8J/0B7jWB+z67/QNhkGIBNwf9Al8rjEA+//0AKDjVB5TT/QOAVE/qDEgBBKlhO7tIHAEH3PU7cNUEAQbVurEQnJwBBOOQmY9wyAEGTvTnzbHUAQQ6+g6veYABBOxgencJ3AEE8GXUaKL3/QH2EobbS5/9A4D/Ns/g9AEEfiisZqtL/QPRKt/4Hwv5A7bKl/7vb/EA8PDw8+JH8QDSV644H8v1AEm4NlwUj/kCE5Z5G+or9QPphkTJetfpAo2muKDnj+kCSGbK9apr7QNuPErgmuvxAiYiIiPj4/EBiYIPqQsv9QLKxsbEtFPpAle1dByy7+kAm0Dt1Bf/6QCpfhyUc6fhAG3DFGsCH+UAAAAAAnCP5QA==\",\"dtype\":\"float64\",\"order\":\"little\",\"shape\":[71]},\"x\":[19,20,21,22,23,24,25,26,27,28,29,30,31,32,33,34,35,36,37,38,39,40,41,42,43,44,45,46,47,48,49,50,51,52,53,54,55,56,57,58,59,60,61,62,63,64,65,66,67,68,69,70,71,72,73,74,75,76,77,78,79,80,81,82,83,84,85,86,87,88,89]},\"selected\":{\"id\":\"9478\"},\"selection_policy\":{\"id\":\"9477\"}},\"id\":\"9463\",\"type\":\"ColumnDataSource\"},{\"attributes\":{},\"id\":\"9438\",\"type\":\"HelpTool\"},{\"attributes\":{\"data_source\":{\"id\":\"9463\"},\"glyph\":{\"id\":\"9464\"},\"hover_glyph\":null,\"muted_glyph\":null,\"nonselection_glyph\":{\"id\":\"9465\"},\"selection_glyph\":null,\"view\":{\"id\":\"9467\"}},\"id\":\"9466\",\"type\":\"GlyphRenderer\"},{\"attributes\":{},\"id\":\"9430\",\"type\":\"BasicTicker\"},{\"attributes\":{\"label\":{\"value\":\"female\"},\"renderers\":[{\"id\":\"9466\"}]},\"id\":\"9479\",\"type\":\"LegendItem\"},{\"attributes\":{},\"id\":\"9456\",\"type\":\"BasicTickFormatter\"},{\"attributes\":{\"active_drag\":\"auto\",\"active_inspect\":\"auto\",\"active_multi\":null,\"active_scroll\":\"auto\",\"active_tap\":\"auto\",\"tools\":[{\"id\":\"9433\"},{\"id\":\"9434\"},{\"id\":\"9435\"},{\"id\":\"9436\"},{\"id\":\"9437\"},{\"id\":\"9438\"}]},\"id\":\"9440\",\"type\":\"Toolbar\"},{\"attributes\":{\"source\":{\"id\":\"9463\"}},\"id\":\"9467\",\"type\":\"CDSView\"},{\"attributes\":{\"axis\":{\"id\":\"9425\"},\"ticker\":null},\"id\":\"9428\",\"type\":\"Grid\"}],\"root_ids\":[\"9416\"]},\"title\":\"Bokeh Application\",\"version\":\"2.2.3\"}};\n",
       "  var render_items = [{\"docid\":\"51217e18-a94a-4207-ad70-9dd7cdd6b2ea\",\"root_ids\":[\"9416\"],\"roots\":{\"9416\":\"50545bb3-225d-4aa8-b633-eb14a0c477e5\"}}];\n",
       "  root.Bokeh.embed.embed_items_notebook(docs_json, render_items);\n",
       "\n",
       "  }\n",
       "  if (root.Bokeh !== undefined) {\n",
       "    embed_document(root);\n",
       "  } else {\n",
       "    var attempts = 0;\n",
       "    var timer = setInterval(function(root) {\n",
       "      if (root.Bokeh !== undefined) {\n",
       "        clearInterval(timer);\n",
       "        embed_document(root);\n",
       "      } else {\n",
       "        attempts++;\n",
       "        if (attempts > 100) {\n",
       "          clearInterval(timer);\n",
       "          console.log(\"Bokeh: ERROR: Unable to run BokehJS code because BokehJS library is missing\");\n",
       "        }\n",
       "      }\n",
       "    }, 10, root)\n",
       "  }\n",
       "})(window);"
      ],
      "application/vnd.bokehjs_exec.v0+json": ""
     },
     "metadata": {
      "application/vnd.bokehjs_exec.v0+json": {
       "id": "9416"
      }
     },
     "output_type": "display_data"
    },
    {
     "data": {
      "text/html": [
       "\n",
       "\n",
       "\n",
       "\n",
       "\n",
       "\n",
       "  <div class=\"bk-root\" id=\"b9da51e1-a483-491d-9514-5dcf095aab53\" data-root-id=\"9833\"></div>\n"
      ]
     },
     "metadata": {},
     "output_type": "display_data"
    },
    {
     "data": {
      "application/javascript": [
       "(function(root) {\n",
       "  function embed_document(root) {\n",
       "    \n",
       "  var docs_json = {\"e3207794-d09c-463c-a3fb-b6344045697c\":{\"roots\":{\"references\":[{\"attributes\":{\"below\":[{\"id\":\"9842\"}],\"center\":[{\"id\":\"9845\"},{\"id\":\"9849\"},{\"id\":\"9878\"}],\"left\":[{\"id\":\"9846\"}],\"renderers\":[{\"id\":\"9867\"},{\"id\":\"9883\"}],\"title\":{\"id\":\"9869\"},\"toolbar\":{\"id\":\"9857\"},\"x_range\":{\"id\":\"9834\"},\"x_scale\":{\"id\":\"9838\"},\"y_range\":{\"id\":\"9836\"},\"y_scale\":{\"id\":\"9840\"}},\"id\":\"9833\",\"subtype\":\"Figure\",\"type\":\"Plot\"},{\"attributes\":{\"source\":{\"id\":\"9864\"}},\"id\":\"9868\",\"type\":\"CDSView\"},{\"attributes\":{\"axis_label\":\"DegreeSecOut\",\"formatter\":{\"id\":\"9871\"},\"ticker\":{\"id\":\"9847\"}},\"id\":\"9846\",\"type\":\"LinearAxis\"},{\"attributes\":{\"fill_alpha\":{\"value\":0.1},\"fill_color\":{\"value\":\"firebrick\"},\"line_alpha\":{\"value\":0.1},\"line_color\":{\"value\":\"firebrick\"},\"top\":{\"field\":\"top\"},\"width\":{\"value\":0.5},\"x\":{\"field\":\"x\"}},\"id\":\"9866\",\"type\":\"VBar\"},{\"attributes\":{\"fill_alpha\":{\"value\":0.1},\"fill_color\":{\"value\":\"#50c878\"},\"line_alpha\":{\"value\":0.1},\"line_color\":{\"value\":\"#50c878\"},\"top\":{\"field\":\"top\"},\"width\":{\"value\":0.5},\"x\":{\"field\":\"x\"}},\"id\":\"9882\",\"type\":\"VBar\"},{\"attributes\":{\"data_source\":{\"id\":\"9864\"},\"glyph\":{\"id\":\"9865\"},\"hover_glyph\":null,\"muted_glyph\":null,\"nonselection_glyph\":{\"id\":\"9866\"},\"selection_glyph\":null,\"view\":{\"id\":\"9868\"}},\"id\":\"9867\",\"type\":\"GlyphRenderer\"},{\"attributes\":{\"fill_alpha\":{\"value\":0.5},\"fill_color\":{\"value\":\"#50c878\"},\"line_alpha\":{\"value\":0.5},\"line_color\":{\"value\":\"#50c878\"},\"top\":{\"field\":\"top\"},\"width\":{\"value\":0.5},\"x\":{\"field\":\"x\"}},\"id\":\"9881\",\"type\":\"VBar\"},{\"attributes\":{\"data\":{\"top\":{\"__ndarray__\":\"5bwdUJWg6UApaBx87QDtQMCi3hHceu9Ah3YRIZ8C8UBvlvY7B5nyQEN37GoQDvRAh0mc38aQ9EBB6DmSav/1QO8wWFKoQvdAS5LmBQ+h90DY2eOj9HL4QDKU6YXyF/lAfIqMCmS2+UCTqIU3tVz6QOFoqSmy5PtAlSNMmxEC/ECLJYow69n8QOXunasDxf1Aja7CyrnM/kDLZ3UT3iX/QJcq8rYXtP9A5Z3WE655/0Ds5oj0wCkAQZusP+FF1/9Aj/w6g24fAEG0GmKPZ1sAQbofTFSDZABB6hJK7Bk6AEHXvu70Lar/QABOn8cXAwBBVGMBkKBjAEFSc1E7BAYAQX9SHYOto/9AFcaOG1j8/0B665vgf4v+QIdWfJpDWP5AtUODVNyW/kDgCKCthpn+QFzTQK0qzv5Ak9VoBSSG/kBfYU2opTD+QChf0v1qqv5AGxdNiL6E/UA1ikKt9zv9QNf8z3YseP1AHf3PSkai/ECw8vnl9lT8QA6JQMZyy/pAMDyj5r5M/ECTeU2ayyH6QE0V55XhEfpAKpNC56JE+kB1NmQNiAb5QA45I2meBvlArkWfkEou9kDxzFIq/EX3QCtbq3NZC/ZAS0ACJZ8t9kAH8xMpNgP1QCSmHDcRsvRAXDWOGjbG80AfhesRpBb0QB6LZ0/BZvVAq6qqqhVX9EDf3t7ennj0QMQC7vS7F/VA5DiO4/jn9ECRe3mFMFj0QLXi3kn2c/NAMyqjMq7j80BNmjRp0mrxQA==\",\"dtype\":\"float64\",\"order\":\"little\",\"shape\":[71]},\"x\":[19,20,21,22,23,24,25,26,27,28,29,30,31,32,33,34,35,36,37,38,39,40,41,42,43,44,45,46,47,48,49,50,51,52,53,54,55,56,57,58,59,60,61,62,63,64,65,66,67,68,69,70,71,72,73,74,75,76,77,78,79,80,81,82,83,84,85,86,87,88,89]},\"selected\":{\"id\":\"9877\"},\"selection_policy\":{\"id\":\"9876\"}},\"id\":\"9864\",\"type\":\"ColumnDataSource\"},{\"attributes\":{},\"id\":\"9876\",\"type\":\"UnionRenderers\"},{\"attributes\":{},\"id\":\"9840\",\"type\":\"LinearScale\"},{\"attributes\":{\"data_source\":{\"id\":\"9880\"},\"glyph\":{\"id\":\"9881\"},\"hover_glyph\":null,\"muted_glyph\":null,\"nonselection_glyph\":{\"id\":\"9882\"},\"selection_glyph\":null,\"view\":{\"id\":\"9884\"}},\"id\":\"9883\",\"type\":\"GlyphRenderer\"},{\"attributes\":{\"items\":[{\"id\":\"9879\"},{\"id\":\"9896\"}],\"orientation\":\"horizontal\"},\"id\":\"9878\",\"type\":\"Legend\"},{\"attributes\":{},\"id\":\"9836\",\"type\":\"DataRange1d\"},{\"attributes\":{},\"id\":\"9895\",\"type\":\"Selection\"},{\"attributes\":{\"data\":{\"top\":{\"__ndarray__\":\"r3RA3WsQ60CxOhWr0U/uQPT5fL6vIvBAF0MZGNHh8UDArKGP8EzzQNVwSmxTmfRAVPE9qX+I9UDZj/3YzzL3QFnAtCuYN/dAw8W84hl4+EC44YY7K9z4QKMppbpmtvlA4xqyBD7m+UAhGPMAlv/6QMO6RJOIL/tAvUJuzCJH/ECfPI+Fkgj9QBokHZ6/i/xAitxe7aGL/UAHmo42VLn+QFDxtNpsJf9AFsCZDklj/0B1/5OckUT/QBg8cZWj6P5ARfovLhvA/kBrmTqB+/L+QMXuqXXQhv9AfQArI6mi/0CmfbYz+b//QPohyGO/l/5AU8HKPoJR/0CDVPhs55v+QJGDK4uoG/9AZDFgURG4/kAMfAE1gpr+QF3cCHJAUf5Aqf22s/Bx/UASUGOS4MD+QDL5TXDZW/9AT/kOlIVK/kCdDktR+kH+QLRgb+konf5AjZbAM0qT/kBv9Un6p8P+QF0xYornX/9AIEQR8og5/0AdJxoLtxX/QNlj96+D5f5A7ftgH84X/0DyV3XdoPv9QGd5EpnYjf1AkPqAh+n0/EB0/zTO9mT8QJEC0NAZb/xAK3bcJELy+UDljzrlqYr5QHvK7OjIU/tAMZecPYsa+0BwFe1MGyT6QBCLlIGzBfhA3X3wZuKb+EAsXFLnzgD5QObCjJ4ZMPlAocdiz6FU+UCk1SREgR/5QEtLS0szd/dAprK966Cq+EBpfGQCjfP6QIWj+vtsk/ZANIneMxmO+kAhC1nIymL5QA==\",\"dtype\":\"float64\",\"order\":\"little\",\"shape\":[71]},\"x\":[19,20,21,22,23,24,25,26,27,28,29,30,31,32,33,34,35,36,37,38,39,40,41,42,43,44,45,46,47,48,49,50,51,52,53,54,55,56,57,58,59,60,61,62,63,64,65,66,67,68,69,70,71,72,73,74,75,76,77,78,79,80,81,82,83,84,85,86,87,88,89]},\"selected\":{\"id\":\"9895\"},\"selection_policy\":{\"id\":\"9894\"}},\"id\":\"9880\",\"type\":\"ColumnDataSource\"},{\"attributes\":{\"fill_alpha\":{\"value\":0.5},\"fill_color\":{\"value\":\"firebrick\"},\"line_alpha\":{\"value\":0.5},\"line_color\":{\"value\":\"firebrick\"},\"top\":{\"field\":\"top\"},\"width\":{\"value\":0.5},\"x\":{\"field\":\"x\"}},\"id\":\"9865\",\"type\":\"VBar\"},{\"attributes\":{\"label\":{\"value\":\"female\"},\"renderers\":[{\"id\":\"9883\"}]},\"id\":\"9896\",\"type\":\"LegendItem\"},{\"attributes\":{\"text\":\"\"},\"id\":\"9869\",\"type\":\"Title\"},{\"attributes\":{},\"id\":\"9877\",\"type\":\"Selection\"},{\"attributes\":{\"label\":{\"value\":\"male\"},\"renderers\":[{\"id\":\"9867\"}]},\"id\":\"9879\",\"type\":\"LegendItem\"},{\"attributes\":{\"source\":{\"id\":\"9880\"}},\"id\":\"9884\",\"type\":\"CDSView\"},{\"attributes\":{},\"id\":\"9838\",\"type\":\"LinearScale\"},{\"attributes\":{\"bottom_units\":\"screen\",\"fill_alpha\":0.5,\"fill_color\":\"lightgrey\",\"left_units\":\"screen\",\"level\":\"overlay\",\"line_alpha\":1.0,\"line_color\":\"black\",\"line_dash\":[4,4],\"line_width\":2,\"right_units\":\"screen\",\"top_units\":\"screen\"},\"id\":\"9856\",\"type\":\"BoxAnnotation\"},{\"attributes\":{},\"id\":\"9894\",\"type\":\"UnionRenderers\"},{\"attributes\":{\"axis\":{\"id\":\"9842\"},\"ticker\":null},\"id\":\"9845\",\"type\":\"Grid\"},{\"attributes\":{},\"id\":\"9855\",\"type\":\"HelpTool\"},{\"attributes\":{},\"id\":\"9843\",\"type\":\"BasicTicker\"},{\"attributes\":{},\"id\":\"9871\",\"type\":\"BasicTickFormatter\"},{\"attributes\":{\"overlay\":{\"id\":\"9856\"}},\"id\":\"9852\",\"type\":\"BoxZoomTool\"},{\"attributes\":{\"axis_label\":\"Age\",\"formatter\":{\"id\":\"9873\"},\"ticker\":{\"id\":\"9843\"}},\"id\":\"9842\",\"type\":\"LinearAxis\"},{\"attributes\":{},\"id\":\"9850\",\"type\":\"PanTool\"},{\"attributes\":{},\"id\":\"9854\",\"type\":\"ResetTool\"},{\"attributes\":{},\"id\":\"9847\",\"type\":\"BasicTicker\"},{\"attributes\":{},\"id\":\"9834\",\"type\":\"DataRange1d\"},{\"attributes\":{},\"id\":\"9853\",\"type\":\"SaveTool\"},{\"attributes\":{},\"id\":\"9873\",\"type\":\"BasicTickFormatter\"},{\"attributes\":{\"active_drag\":\"auto\",\"active_inspect\":\"auto\",\"active_multi\":null,\"active_scroll\":\"auto\",\"active_tap\":\"auto\",\"tools\":[{\"id\":\"9850\"},{\"id\":\"9851\"},{\"id\":\"9852\"},{\"id\":\"9853\"},{\"id\":\"9854\"},{\"id\":\"9855\"}]},\"id\":\"9857\",\"type\":\"Toolbar\"},{\"attributes\":{\"axis\":{\"id\":\"9846\"},\"dimension\":1,\"ticker\":null},\"id\":\"9849\",\"type\":\"Grid\"},{\"attributes\":{},\"id\":\"9851\",\"type\":\"WheelZoomTool\"}],\"root_ids\":[\"9833\"]},\"title\":\"Bokeh Application\",\"version\":\"2.2.3\"}};\n",
       "  var render_items = [{\"docid\":\"e3207794-d09c-463c-a3fb-b6344045697c\",\"root_ids\":[\"9833\"],\"roots\":{\"9833\":\"b9da51e1-a483-491d-9514-5dcf095aab53\"}}];\n",
       "  root.Bokeh.embed.embed_items_notebook(docs_json, render_items);\n",
       "\n",
       "  }\n",
       "  if (root.Bokeh !== undefined) {\n",
       "    embed_document(root);\n",
       "  } else {\n",
       "    var attempts = 0;\n",
       "    var timer = setInterval(function(root) {\n",
       "      if (root.Bokeh !== undefined) {\n",
       "        clearInterval(timer);\n",
       "        embed_document(root);\n",
       "      } else {\n",
       "        attempts++;\n",
       "        if (attempts > 100) {\n",
       "          clearInterval(timer);\n",
       "          console.log(\"Bokeh: ERROR: Unable to run BokehJS code because BokehJS library is missing\");\n",
       "        }\n",
       "      }\n",
       "    }, 10, root)\n",
       "  }\n",
       "})(window);"
      ],
      "application/vnd.bokehjs_exec.v0+json": ""
     },
     "metadata": {
      "application/vnd.bokehjs_exec.v0+json": {
       "id": "9833"
      }
     },
     "output_type": "display_data"
    },
    {
     "data": {
      "text/html": [
       "\n",
       "\n",
       "\n",
       "\n",
       "\n",
       "\n",
       "  <div class=\"bk-root\" id=\"f14bb8f7-3ed4-4769-be7d-0afebadfe762\" data-root-id=\"10261\"></div>\n"
      ]
     },
     "metadata": {},
     "output_type": "display_data"
    },
    {
     "data": {
      "application/javascript": [
       "(function(root) {\n",
       "  function embed_document(root) {\n",
       "    \n",
       "  var docs_json = {\"fb062aee-2968-4cb1-ab8a-a2f24662657c\":{\"roots\":{\"references\":[{\"attributes\":{\"below\":[{\"id\":\"10270\"}],\"center\":[{\"id\":\"10273\"},{\"id\":\"10277\"},{\"id\":\"10306\"}],\"left\":[{\"id\":\"10274\"}],\"renderers\":[{\"id\":\"10295\"},{\"id\":\"10311\"}],\"title\":{\"id\":\"10297\"},\"toolbar\":{\"id\":\"10285\"},\"x_range\":{\"id\":\"10262\"},\"x_scale\":{\"id\":\"10266\"},\"y_range\":{\"id\":\"10264\"},\"y_scale\":{\"id\":\"10268\"}},\"id\":\"10261\",\"subtype\":\"Figure\",\"type\":\"Plot\"},{\"attributes\":{},\"id\":\"10305\",\"type\":\"Selection\"},{\"attributes\":{\"overlay\":{\"id\":\"10284\"}},\"id\":\"10280\",\"type\":\"BoxZoomTool\"},{\"attributes\":{},\"id\":\"10323\",\"type\":\"Selection\"},{\"attributes\":{},\"id\":\"10282\",\"type\":\"ResetTool\"},{\"attributes\":{},\"id\":\"10278\",\"type\":\"PanTool\"},{\"attributes\":{},\"id\":\"10281\",\"type\":\"SaveTool\"},{\"attributes\":{},\"id\":\"10283\",\"type\":\"HelpTool\"},{\"attributes\":{\"axis\":{\"id\":\"10274\"},\"dimension\":1,\"ticker\":null},\"id\":\"10277\",\"type\":\"Grid\"},{\"attributes\":{\"active_drag\":\"auto\",\"active_inspect\":\"auto\",\"active_multi\":null,\"active_scroll\":\"auto\",\"active_tap\":\"auto\",\"tools\":[{\"id\":\"10278\"},{\"id\":\"10279\"},{\"id\":\"10280\"},{\"id\":\"10281\"},{\"id\":\"10282\"},{\"id\":\"10283\"}]},\"id\":\"10285\",\"type\":\"Toolbar\"},{\"attributes\":{},\"id\":\"10299\",\"type\":\"BasicTickFormatter\"},{\"attributes\":{},\"id\":\"10279\",\"type\":\"WheelZoomTool\"},{\"attributes\":{},\"id\":\"10268\",\"type\":\"LinearScale\"},{\"attributes\":{\"source\":{\"id\":\"10292\"}},\"id\":\"10296\",\"type\":\"CDSView\"},{\"attributes\":{\"fill_alpha\":{\"value\":0.1},\"fill_color\":{\"value\":\"firebrick\"},\"line_alpha\":{\"value\":0.1},\"line_color\":{\"value\":\"firebrick\"},\"top\":{\"field\":\"top\"},\"width\":{\"value\":0.5},\"x\":{\"field\":\"x\"}},\"id\":\"10294\",\"type\":\"VBar\"},{\"attributes\":{\"data_source\":{\"id\":\"10292\"},\"glyph\":{\"id\":\"10293\"},\"hover_glyph\":null,\"muted_glyph\":null,\"nonselection_glyph\":{\"id\":\"10294\"},\"selection_glyph\":null,\"view\":{\"id\":\"10296\"}},\"id\":\"10295\",\"type\":\"GlyphRenderer\"},{\"attributes\":{\"data\":{\"top\":{\"__ndarray__\":\"3QMVqyft4D9esUg/XNvgPyqhRkG5v+A/aL481NKt4D89735S8r3gP34F0HkVlOA/tcHW8dek4D86N/CBLaTgP/rV/4VsjeA/BbPl5dCE4D+JZG4FHnrgP/sH/U7dbuA/PWbQ/6tr4D9AyFetFWTgP2svJpdZaOA/FQhuc4tb4D/SLr2CIErgPzloJibgW+A/CCOWrJBo4D88Psw9IVfgP979LCi9YeA/gdd3aDZR4D8i9QzFCV3gPwQ4Uu4kVuA/xPGQgXtJ4D9uiuwEIFHgPx5R3R5kSOA/GRqPn39O4D8Vjp17bkbgPzmhlkyfR+A/v44tZZg64D8mq/gExyzgP2byf6MxJuA/xCiBgqIa4D9RPyq9oiHgPz/+KcOFCuA/YQrJUfkQ4D8y/vdVOhvgP8jJQbhX+t8/fZPciqkW4D8FNQmv1/nfP/NDZYQS/N8/40dxb/HQ3z9RfGMUu9/fPzDQYs/u0t8/EnU5ZhK73z+03XPgUrHfP2r2KQ7eqt8/c7jRawat3z+HnFxOY6jfP8aQD3drbN8/EnmyxySc3z+t08hDVHffP0ClTu54Zd8/QnVg3JZT3z+eE7i4sGDfPyyqbGx9jd8/p5dupI+G3z/r/ClFM17fPw3iMIGphd8/XOVz1diI3z9RzJvSF2DfP1/VuZu23d8/RsrUfcmb3z+mqpokV83fP2vn86sr9t8/Mpz5xD+m3z+04lKHBxvgP9ms9v2wPuA/6VSlAtRK4D9uqlozTR3gPw==\",\"dtype\":\"float64\",\"order\":\"little\",\"shape\":[71]},\"x\":[19,20,21,22,23,24,25,26,27,28,29,30,31,32,33,34,35,36,37,38,39,40,41,42,43,44,45,46,47,48,49,50,51,52,53,54,55,56,57,58,59,60,61,62,63,64,65,66,67,68,69,70,71,72,73,74,75,76,77,78,79,80,81,82,83,84,85,86,87,88,89]},\"selected\":{\"id\":\"10305\"},\"selection_policy\":{\"id\":\"10304\"}},\"id\":\"10292\",\"type\":\"ColumnDataSource\"},{\"attributes\":{\"fill_alpha\":{\"value\":0.5},\"fill_color\":{\"value\":\"#50c878\"},\"line_alpha\":{\"value\":0.5},\"line_color\":{\"value\":\"#50c878\"},\"top\":{\"field\":\"top\"},\"width\":{\"value\":0.5},\"x\":{\"field\":\"x\"}},\"id\":\"10309\",\"type\":\"VBar\"},{\"attributes\":{\"items\":[{\"id\":\"10307\"},{\"id\":\"10324\"}],\"orientation\":\"horizontal\"},\"id\":\"10306\",\"type\":\"Legend\"},{\"attributes\":{},\"id\":\"10304\",\"type\":\"UnionRenderers\"},{\"attributes\":{\"label\":{\"value\":\"male\"},\"renderers\":[{\"id\":\"10295\"}]},\"id\":\"10307\",\"type\":\"LegendItem\"},{\"attributes\":{\"fill_alpha\":{\"value\":0.5},\"fill_color\":{\"value\":\"firebrick\"},\"line_alpha\":{\"value\":0.5},\"line_color\":{\"value\":\"firebrick\"},\"top\":{\"field\":\"top\"},\"width\":{\"value\":0.5},\"x\":{\"field\":\"x\"}},\"id\":\"10293\",\"type\":\"VBar\"},{\"attributes\":{\"fill_alpha\":{\"value\":0.1},\"fill_color\":{\"value\":\"#50c878\"},\"line_alpha\":{\"value\":0.1},\"line_color\":{\"value\":\"#50c878\"},\"top\":{\"field\":\"top\"},\"width\":{\"value\":0.5},\"x\":{\"field\":\"x\"}},\"id\":\"10310\",\"type\":\"VBar\"},{\"attributes\":{\"text\":\"\"},\"id\":\"10297\",\"type\":\"Title\"},{\"attributes\":{\"data\":{\"top\":{\"__ndarray__\":\"3+ny9zyB4D/yE8EBZJHgPzeKOOQEgeA/1n3Zd9F94D+HaH3fEZDgP/o75gWbd+A/68yh7Kth4D92uhSGgW/gPwIbMdgPZuA/tMsE20tj4D/VUJFRl1zgP/3VgYBQSuA/iPVt8s5I4D/qVkH1GEfgPx3sf0yuR+A/aLdwcug54D+tedTyIi/gP9pDIahWJuA/pOVkWPgs4D9DdRs5zyfgP4gAAn0WH+A/s2PhzncW4D+OiiiKjhLgP0+8ITewC+A/R1Cbrvrq3z9Vpj6hMBLgP4ZNUOG9BuA/6R9tPEMO4D8+XAcZmv7fP/8GKMFbC+A/iv7uuFIG4D+amGPuQ9TfP0/RGvP0AeA/krDxJV8D4D+JQ9KKR/XfPyI3MxfG598/9Kx3rTTe3z+ZJne9FeLfP8yM/pZwzN8/ixKTqATO3z8HaUf+7OjfP5mKR6qMqN8/B1nbijaQ3z9W/0/r7NTfP6RnN8MH4t8/8F2kYv6f3z9g6I68e87fP3m9gr70t98/pV9hx4oC4D/npWbh+M/fP8uFD9Ityd8/sie+4UK23z+Uw+yF29nfPzTZ8+0i4N8/PNH0oFfN3z8bzdRjI9nfP8jLLir5BOA/2dghNRPo3z/tLqmo/+/fP4Dx5fDWDuA/0elM9uQp4D+7WEJ9DQTgPze3wN6x/98/O5cuGwgL4D+DDNA+rwrgPyYb41dFG+A/Q4SJISh14D+HPbh1UZfgPxOslbz7AOA/07U1TpRO4D8/sQICInjgPw==\",\"dtype\":\"float64\",\"order\":\"little\",\"shape\":[71]},\"x\":[19,20,21,22,23,24,25,26,27,28,29,30,31,32,33,34,35,36,37,38,39,40,41,42,43,44,45,46,47,48,49,50,51,52,53,54,55,56,57,58,59,60,61,62,63,64,65,66,67,68,69,70,71,72,73,74,75,76,77,78,79,80,81,82,83,84,85,86,87,88,89]},\"selected\":{\"id\":\"10323\"},\"selection_policy\":{\"id\":\"10322\"}},\"id\":\"10308\",\"type\":\"ColumnDataSource\"},{\"attributes\":{},\"id\":\"10301\",\"type\":\"BasicTickFormatter\"},{\"attributes\":{\"data_source\":{\"id\":\"10308\"},\"glyph\":{\"id\":\"10309\"},\"hover_glyph\":null,\"muted_glyph\":null,\"nonselection_glyph\":{\"id\":\"10310\"},\"selection_glyph\":null,\"view\":{\"id\":\"10312\"}},\"id\":\"10311\",\"type\":\"GlyphRenderer\"},{\"attributes\":{\"source\":{\"id\":\"10308\"}},\"id\":\"10312\",\"type\":\"CDSView\"},{\"attributes\":{},\"id\":\"10264\",\"type\":\"DataRange1d\"},{\"attributes\":{\"label\":{\"value\":\"female\"},\"renderers\":[{\"id\":\"10311\"}]},\"id\":\"10324\",\"type\":\"LegendItem\"},{\"attributes\":{},\"id\":\"10275\",\"type\":\"BasicTicker\"},{\"attributes\":{\"bottom_units\":\"screen\",\"fill_alpha\":0.5,\"fill_color\":\"lightgrey\",\"left_units\":\"screen\",\"level\":\"overlay\",\"line_alpha\":1.0,\"line_color\":\"black\",\"line_dash\":[4,4],\"line_width\":2,\"right_units\":\"screen\",\"top_units\":\"screen\"},\"id\":\"10284\",\"type\":\"BoxAnnotation\"},{\"attributes\":{},\"id\":\"10266\",\"type\":\"LinearScale\"},{\"attributes\":{\"axis\":{\"id\":\"10270\"},\"ticker\":null},\"id\":\"10273\",\"type\":\"Grid\"},{\"attributes\":{\"axis_label\":\"Age\",\"formatter\":{\"id\":\"10301\"},\"ticker\":{\"id\":\"10271\"}},\"id\":\"10270\",\"type\":\"LinearAxis\"},{\"attributes\":{\"axis_label\":\"Out_ratio\",\"formatter\":{\"id\":\"10299\"},\"ticker\":{\"id\":\"10275\"}},\"id\":\"10274\",\"type\":\"LinearAxis\"},{\"attributes\":{},\"id\":\"10322\",\"type\":\"UnionRenderers\"},{\"attributes\":{},\"id\":\"10262\",\"type\":\"DataRange1d\"},{\"attributes\":{},\"id\":\"10271\",\"type\":\"BasicTicker\"}],\"root_ids\":[\"10261\"]},\"title\":\"Bokeh Application\",\"version\":\"2.2.3\"}};\n",
       "  var render_items = [{\"docid\":\"fb062aee-2968-4cb1-ab8a-a2f24662657c\",\"root_ids\":[\"10261\"],\"roots\":{\"10261\":\"f14bb8f7-3ed4-4769-be7d-0afebadfe762\"}}];\n",
       "  root.Bokeh.embed.embed_items_notebook(docs_json, render_items);\n",
       "\n",
       "  }\n",
       "  if (root.Bokeh !== undefined) {\n",
       "    embed_document(root);\n",
       "  } else {\n",
       "    var attempts = 0;\n",
       "    var timer = setInterval(function(root) {\n",
       "      if (root.Bokeh !== undefined) {\n",
       "        clearInterval(timer);\n",
       "        embed_document(root);\n",
       "      } else {\n",
       "        attempts++;\n",
       "        if (attempts > 100) {\n",
       "          clearInterval(timer);\n",
       "          console.log(\"Bokeh: ERROR: Unable to run BokehJS code because BokehJS library is missing\");\n",
       "        }\n",
       "      }\n",
       "    }, 10, root)\n",
       "  }\n",
       "})(window);"
      ],
      "application/vnd.bokehjs_exec.v0+json": ""
     },
     "metadata": {
      "application/vnd.bokehjs_exec.v0+json": {
       "id": "10261"
      }
     },
     "output_type": "display_data"
    },
    {
     "data": {
      "text/html": [
       "\n",
       "\n",
       "\n",
       "\n",
       "\n",
       "\n",
       "  <div class=\"bk-root\" id=\"b17ebde0-124d-41c2-bef2-75b83c71f875\" data-root-id=\"10700\"></div>\n"
      ]
     },
     "metadata": {},
     "output_type": "display_data"
    },
    {
     "data": {
      "application/javascript": [
       "(function(root) {\n",
       "  function embed_document(root) {\n",
       "    \n",
       "  var docs_json = {\"12e19714-ecc2-47e9-8393-56e03a8117ff\":{\"roots\":{\"references\":[{\"attributes\":{\"below\":[{\"id\":\"10709\"}],\"center\":[{\"id\":\"10712\"},{\"id\":\"10716\"},{\"id\":\"10745\"}],\"left\":[{\"id\":\"10713\"}],\"renderers\":[{\"id\":\"10734\"},{\"id\":\"10750\"}],\"title\":{\"id\":\"10736\"},\"toolbar\":{\"id\":\"10724\"},\"x_range\":{\"id\":\"10701\"},\"x_scale\":{\"id\":\"10705\"},\"y_range\":{\"id\":\"10703\"},\"y_scale\":{\"id\":\"10707\"}},\"id\":\"10700\",\"subtype\":\"Figure\",\"type\":\"Plot\"},{\"attributes\":{\"active_drag\":\"auto\",\"active_inspect\":\"auto\",\"active_multi\":null,\"active_scroll\":\"auto\",\"active_tap\":\"auto\",\"tools\":[{\"id\":\"10717\"},{\"id\":\"10718\"},{\"id\":\"10719\"},{\"id\":\"10720\"},{\"id\":\"10721\"},{\"id\":\"10722\"}]},\"id\":\"10724\",\"type\":\"Toolbar\"},{\"attributes\":{},\"id\":\"10722\",\"type\":\"HelpTool\"},{\"attributes\":{\"label\":{\"value\":\"female\"},\"renderers\":[{\"id\":\"10750\"}]},\"id\":\"10763\",\"type\":\"LegendItem\"},{\"attributes\":{\"source\":{\"id\":\"10731\"}},\"id\":\"10735\",\"type\":\"CDSView\"},{\"attributes\":{\"fill_alpha\":{\"value\":0.1},\"fill_color\":{\"value\":\"firebrick\"},\"line_alpha\":{\"value\":0.1},\"line_color\":{\"value\":\"firebrick\"},\"top\":{\"field\":\"top\"},\"width\":{\"value\":0.5},\"x\":{\"field\":\"x\"}},\"id\":\"10733\",\"type\":\"VBar\"},{\"attributes\":{\"data_source\":{\"id\":\"10731\"},\"glyph\":{\"id\":\"10732\"},\"hover_glyph\":null,\"muted_glyph\":null,\"nonselection_glyph\":{\"id\":\"10733\"},\"selection_glyph\":null,\"view\":{\"id\":\"10735\"}},\"id\":\"10734\",\"type\":\"GlyphRenderer\"},{\"attributes\":{},\"id\":\"10743\",\"type\":\"UnionRenderers\"},{\"attributes\":{\"data\":{\"top\":{\"__ndarray__\":\"auDH4kZ94D+IBfK0pofgP4R9qzQYgeA/UnnK5tmD4D/xrTyje6jgP5du0IivgeA/Us/BCWed4D+RYNqSVsPgP2TAHSrnsOA/JpDIWYWq4D+GAeODb6PgP/zrkdDOnuA/oRwRAZGj4D/hr53C15/gPyi4k7Iau+A/gw1bPzq54D8Q5JBmHKDgP9ndWCS4xuA/142O9YTU4D/yRxE4Y8LgPwxSP/OH2uA/AhMFXg/D4D9sHkNYS9HgP8AxhYgx0OA/FIFEL9y14D9/uSLWOdfgP3ZnPsKCxOA/p6pvv/Tg4D/C2HQHXdjgPxpHbidG3+A/5WOlUMnY4D804Qjprr/gP1y0hyipyuA/Tz6Xz5bC4D/YoQAZsb/gP9MX6kNmqeA/bdVvs/K64D8Opqi8x8/gPyq1jXtupuA/DYk60bW54D/VYVQMjqvgPxpeYjPireA/3wZFd+6Z4D/lsQa6c5rgP/iC2ZUpkeA/86Gbd22S4D9Av7YlQ6ngPwbZh5XhkeA/OO/DSfur4D9txJwUN5HgP8wJXxGQgOA/RifHrHuC4D/wzfWNlX3gP5/HYlpufeA/c6gPEtxh4D9WveMe12rgP/AqZRf7WuA/vsNcEbJz4D8QdQPl8mbgP4lCGFUuh+A/dPyim1Nr4D/zvupBuHXgPzxbiA+IjeA/+ddneDSG4D/kQuGi/ZjgP+JZg4YDzeA/b3wPd7GA4D/DzAvzZ/HgP/7lYmvQCOE/+ClSROfu4D9E4Qjp43XhPw==\",\"dtype\":\"float64\",\"order\":\"little\",\"shape\":[71]},\"x\":[19,20,21,22,23,24,25,26,27,28,29,30,31,32,33,34,35,36,37,38,39,40,41,42,43,44,45,46,47,48,49,50,51,52,53,54,55,56,57,58,59,60,61,62,63,64,65,66,67,68,69,70,71,72,73,74,75,76,77,78,79,80,81,82,83,84,85,86,87,88,89]},\"selected\":{\"id\":\"10744\"},\"selection_policy\":{\"id\":\"10743\"}},\"id\":\"10731\",\"type\":\"ColumnDataSource\"},{\"attributes\":{},\"id\":\"10761\",\"type\":\"UnionRenderers\"},{\"attributes\":{\"items\":[{\"id\":\"10746\"},{\"id\":\"10763\"}],\"orientation\":\"horizontal\"},\"id\":\"10745\",\"type\":\"Legend\"},{\"attributes\":{\"label\":{\"value\":\"male\"},\"renderers\":[{\"id\":\"10734\"}]},\"id\":\"10746\",\"type\":\"LegendItem\"},{\"attributes\":{\"text\":\"\"},\"id\":\"10736\",\"type\":\"Title\"},{\"attributes\":{},\"id\":\"10744\",\"type\":\"Selection\"},{\"attributes\":{},\"id\":\"10762\",\"type\":\"Selection\"},{\"attributes\":{},\"id\":\"10707\",\"type\":\"LinearScale\"},{\"attributes\":{\"axis_label\":\"Age\",\"formatter\":{\"id\":\"10740\"},\"ticker\":{\"id\":\"10710\"}},\"id\":\"10709\",\"type\":\"LinearAxis\"},{\"attributes\":{},\"id\":\"10705\",\"type\":\"LinearScale\"},{\"attributes\":{},\"id\":\"10740\",\"type\":\"BasicTickFormatter\"},{\"attributes\":{\"bottom_units\":\"screen\",\"fill_alpha\":0.5,\"fill_color\":\"lightgrey\",\"left_units\":\"screen\",\"level\":\"overlay\",\"line_alpha\":1.0,\"line_color\":\"black\",\"line_dash\":[4,4],\"line_width\":2,\"right_units\":\"screen\",\"top_units\":\"screen\"},\"id\":\"10723\",\"type\":\"BoxAnnotation\"},{\"attributes\":{},\"id\":\"10701\",\"type\":\"DataRange1d\"},{\"attributes\":{},\"id\":\"10721\",\"type\":\"ResetTool\"},{\"attributes\":{\"axis_label\":\"OutCall_ratio\",\"formatter\":{\"id\":\"10738\"},\"ticker\":{\"id\":\"10714\"}},\"id\":\"10713\",\"type\":\"LinearAxis\"},{\"attributes\":{\"fill_alpha\":{\"value\":0.5},\"fill_color\":{\"value\":\"firebrick\"},\"line_alpha\":{\"value\":0.5},\"line_color\":{\"value\":\"firebrick\"},\"top\":{\"field\":\"top\"},\"width\":{\"value\":0.5},\"x\":{\"field\":\"x\"}},\"id\":\"10732\",\"type\":\"VBar\"},{\"attributes\":{\"axis\":{\"id\":\"10713\"},\"dimension\":1,\"ticker\":null},\"id\":\"10716\",\"type\":\"Grid\"},{\"attributes\":{},\"id\":\"10738\",\"type\":\"BasicTickFormatter\"},{\"attributes\":{},\"id\":\"10720\",\"type\":\"SaveTool\"},{\"attributes\":{\"fill_alpha\":{\"value\":0.5},\"fill_color\":{\"value\":\"#50c878\"},\"line_alpha\":{\"value\":0.5},\"line_color\":{\"value\":\"#50c878\"},\"top\":{\"field\":\"top\"},\"width\":{\"value\":0.5},\"x\":{\"field\":\"x\"}},\"id\":\"10748\",\"type\":\"VBar\"},{\"attributes\":{},\"id\":\"10710\",\"type\":\"BasicTicker\"},{\"attributes\":{},\"id\":\"10714\",\"type\":\"BasicTicker\"},{\"attributes\":{\"fill_alpha\":{\"value\":0.1},\"fill_color\":{\"value\":\"#50c878\"},\"line_alpha\":{\"value\":0.1},\"line_color\":{\"value\":\"#50c878\"},\"top\":{\"field\":\"top\"},\"width\":{\"value\":0.5},\"x\":{\"field\":\"x\"}},\"id\":\"10749\",\"type\":\"VBar\"},{\"attributes\":{},\"id\":\"10703\",\"type\":\"DataRange1d\"},{\"attributes\":{\"data\":{\"top\":{\"__ndarray__\":\"MLOz6pAp4D9DOgPD8GfgPwlsJr6Ab+A/yYyPCg6e4D8ITjlXGZ3gP0X6dI6MjeA/XreWMe5/4D9B5Bsxb6fgP9xFJTqjkOA/3zzvIemc4D9UyaNBtJLgP7Wmn5isgeA/Pzgv2ZV/4D8Zwqt7koLgP3f64FT3g+A/NBZcAjyI4D8VrIf9tmjgP1SUpFiObOA/GB2ZlkVs4D89z2QLXV/gP4AHJFjhYuA/JhB8jHdP4D9iM4qm817gP1pZk61TROA/lUNLX3Ma4D8KOaWW2UDgP5O6V3XZJuA/2q/eTIc34D/t2N1TwhjgP2NB01K+KuA/dvNB/QoZ4D8Q8p7XBwDgP0bIgws6GOA/MTV4kuoa4D+Ql28XpBPgP5Da7SSECuA/Q75g5qfo3z+72T1mHgngP7vUdQ1b698/cB7R40DT3z9Tus9omuPfP2QErbhjk98/W4Si2ZCR3z/HhjUVXujfPxnYjmiYEOA/47zbbtrc3z9Z6Y6eyujfPz9j0RWQ8N8/L+ZYwb0j4D88aKjNZhDgP6hiPm0u6d8/A+ICYn7B3z+JIhPSaMbfP8E4IohNI+A/1iC3xJLB3z8NYlOlMgrgP3xvj+j2BOA/C9noBpkj4D+MZT1yhL3fP/eVoSBeJuA/WtI+9RBR4D+BlysU1CvgP9zvfqIvKOA/1okM4G5O4D/yEQzeAEDgP/wRqCQcHeA/v3xqERds4D/+AvAiXv7gP8xOoHsQQ+A/xzzYGGNJ4D+m3Akd+HbgPw==\",\"dtype\":\"float64\",\"order\":\"little\",\"shape\":[71]},\"x\":[19,20,21,22,23,24,25,26,27,28,29,30,31,32,33,34,35,36,37,38,39,40,41,42,43,44,45,46,47,48,49,50,51,52,53,54,55,56,57,58,59,60,61,62,63,64,65,66,67,68,69,70,71,72,73,74,75,76,77,78,79,80,81,82,83,84,85,86,87,88,89]},\"selected\":{\"id\":\"10762\"},\"selection_policy\":{\"id\":\"10761\"}},\"id\":\"10747\",\"type\":\"ColumnDataSource\"},{\"attributes\":{},\"id\":\"10718\",\"type\":\"WheelZoomTool\"},{\"attributes\":{\"axis\":{\"id\":\"10709\"},\"ticker\":null},\"id\":\"10712\",\"type\":\"Grid\"},{\"attributes\":{},\"id\":\"10717\",\"type\":\"PanTool\"},{\"attributes\":{\"data_source\":{\"id\":\"10747\"},\"glyph\":{\"id\":\"10748\"},\"hover_glyph\":null,\"muted_glyph\":null,\"nonselection_glyph\":{\"id\":\"10749\"},\"selection_glyph\":null,\"view\":{\"id\":\"10751\"}},\"id\":\"10750\",\"type\":\"GlyphRenderer\"},{\"attributes\":{\"overlay\":{\"id\":\"10723\"}},\"id\":\"10719\",\"type\":\"BoxZoomTool\"},{\"attributes\":{\"source\":{\"id\":\"10747\"}},\"id\":\"10751\",\"type\":\"CDSView\"}],\"root_ids\":[\"10700\"]},\"title\":\"Bokeh Application\",\"version\":\"2.2.3\"}};\n",
       "  var render_items = [{\"docid\":\"12e19714-ecc2-47e9-8393-56e03a8117ff\",\"root_ids\":[\"10700\"],\"roots\":{\"10700\":\"b17ebde0-124d-41c2-bef2-75b83c71f875\"}}];\n",
       "  root.Bokeh.embed.embed_items_notebook(docs_json, render_items);\n",
       "\n",
       "  }\n",
       "  if (root.Bokeh !== undefined) {\n",
       "    embed_document(root);\n",
       "  } else {\n",
       "    var attempts = 0;\n",
       "    var timer = setInterval(function(root) {\n",
       "      if (root.Bokeh !== undefined) {\n",
       "        clearInterval(timer);\n",
       "        embed_document(root);\n",
       "      } else {\n",
       "        attempts++;\n",
       "        if (attempts > 100) {\n",
       "          clearInterval(timer);\n",
       "          console.log(\"Bokeh: ERROR: Unable to run BokehJS code because BokehJS library is missing\");\n",
       "        }\n",
       "      }\n",
       "    }, 10, root)\n",
       "  }\n",
       "})(window);"
      ],
      "application/vnd.bokehjs_exec.v0+json": ""
     },
     "metadata": {
      "application/vnd.bokehjs_exec.v0+json": {
       "id": "10700"
      }
     },
     "output_type": "display_data"
    },
    {
     "data": {
      "text/html": [
       "\n",
       "\n",
       "\n",
       "\n",
       "\n",
       "\n",
       "  <div class=\"bk-root\" id=\"a04f4704-65b9-4c14-bfd5-f8c4e7355bbc\" data-root-id=\"11150\"></div>\n"
      ]
     },
     "metadata": {},
     "output_type": "display_data"
    },
    {
     "data": {
      "application/javascript": [
       "(function(root) {\n",
       "  function embed_document(root) {\n",
       "    \n",
       "  var docs_json = {\"bbeb4cfb-554e-400e-a3e1-a464a15d7062\":{\"roots\":{\"references\":[{\"attributes\":{\"below\":[{\"id\":\"11159\"}],\"center\":[{\"id\":\"11162\"},{\"id\":\"11166\"},{\"id\":\"11195\"}],\"left\":[{\"id\":\"11163\"}],\"renderers\":[{\"id\":\"11184\"},{\"id\":\"11200\"}],\"title\":{\"id\":\"11186\"},\"toolbar\":{\"id\":\"11174\"},\"x_range\":{\"id\":\"11151\"},\"x_scale\":{\"id\":\"11155\"},\"y_range\":{\"id\":\"11153\"},\"y_scale\":{\"id\":\"11157\"}},\"id\":\"11150\",\"subtype\":\"Figure\",\"type\":\"Plot\"},{\"attributes\":{\"active_drag\":\"auto\",\"active_inspect\":\"auto\",\"active_multi\":null,\"active_scroll\":\"auto\",\"active_tap\":\"auto\",\"tools\":[{\"id\":\"11167\"},{\"id\":\"11168\"},{\"id\":\"11169\"},{\"id\":\"11170\"},{\"id\":\"11171\"},{\"id\":\"11172\"}]},\"id\":\"11174\",\"type\":\"Toolbar\"},{\"attributes\":{},\"id\":\"11172\",\"type\":\"HelpTool\"},{\"attributes\":{\"axis_label\":\"OutSec_ratio\",\"formatter\":{\"id\":\"11188\"},\"ticker\":{\"id\":\"11164\"}},\"id\":\"11163\",\"type\":\"LinearAxis\"},{\"attributes\":{\"source\":{\"id\":\"11181\"}},\"id\":\"11185\",\"type\":\"CDSView\"},{\"attributes\":{},\"id\":\"11151\",\"type\":\"DataRange1d\"},{\"attributes\":{\"fill_alpha\":{\"value\":0.1},\"fill_color\":{\"value\":\"firebrick\"},\"line_alpha\":{\"value\":0.1},\"line_color\":{\"value\":\"firebrick\"},\"top\":{\"field\":\"top\"},\"width\":{\"value\":0.5},\"x\":{\"field\":\"x\"}},\"id\":\"11183\",\"type\":\"VBar\"},{\"attributes\":{\"label\":{\"value\":\"female\"},\"renderers\":[{\"id\":\"11200\"}]},\"id\":\"11213\",\"type\":\"LegendItem\"},{\"attributes\":{\"data_source\":{\"id\":\"11181\"},\"glyph\":{\"id\":\"11182\"},\"hover_glyph\":null,\"muted_glyph\":null,\"nonselection_glyph\":{\"id\":\"11183\"},\"selection_glyph\":null,\"view\":{\"id\":\"11185\"}},\"id\":\"11184\",\"type\":\"GlyphRenderer\"},{\"attributes\":{},\"id\":\"11153\",\"type\":\"DataRange1d\"},{\"attributes\":{\"data_source\":{\"id\":\"11197\"},\"glyph\":{\"id\":\"11198\"},\"hover_glyph\":null,\"muted_glyph\":null,\"nonselection_glyph\":{\"id\":\"11199\"},\"selection_glyph\":null,\"view\":{\"id\":\"11201\"}},\"id\":\"11200\",\"type\":\"GlyphRenderer\"},{\"attributes\":{\"data\":{\"top\":{\"__ndarray__\":\"YKb34JyS4D8yQ45UiJPgP516tj6pmOA/lq0ndvGX4D+sBbbXErvgP8l7yffQmuA/4dbt4RbE4D8W30TdefHgP4WT8LQa3+A/BNwdjqXJ4D8swZhozM3gP1cdpgbry+A/TszqCovR4D/TqnMKxtfgP2JEm4VV/eA/sjrh1J3z4D/FwsujftjgP/wAJU5fD+E/vAtXTdUQ4T9A5hLBd/ngP0hZb6htCeE/8MFdez354D8LnQQabv/gP+0W1HJPCOE/LJf1Ha7r4D900PE8TQjhP4no5HCg5uA/RLhAjgwP4T+VdfS7jvvgP2FfUyia+uA/8jJ81X/24D/rw1ULl9LgP3X6Ql6f2uA/kuywBVvb4D8fmbO63szgP+Tey0O3tOA/ZDQ9hA/G4D91qw7noMrgP5II6DvCneA/IyttFZal4D+XW8c4IpLgPwf6G3f9huA/rB8Ldx5z4D9V5jHDa2ngP8krrk2oWeA/evUO7z1C4D/81Bku6mLgP08lR4rgR+A/B4q6iUNV4D/1qDvS1iPgP4oq57dZEuA/MHMZ45cF4D8aF8ljGNffP7n7diwz/t8/EDP+BNa83z+UMIaj+oHfP8hwXHFaJN8/Pf7H1Ixc3z/1dFLa42/fPwJsyXddjd8/oaL2yPox3z9TH8M2zD7fP09CwYlSEt8/H1vsz9EE3z8UHniTEUnfP0hC4Wdhxd8/G1GTG72U3j/SAehjnZLfP1cm0TqeA+A/GbX2aPPe3z9zNEQh4F7gPw==\",\"dtype\":\"float64\",\"order\":\"little\",\"shape\":[71]},\"x\":[19,20,21,22,23,24,25,26,27,28,29,30,31,32,33,34,35,36,37,38,39,40,41,42,43,44,45,46,47,48,49,50,51,52,53,54,55,56,57,58,59,60,61,62,63,64,65,66,67,68,69,70,71,72,73,74,75,76,77,78,79,80,81,82,83,84,85,86,87,88,89]},\"selected\":{\"id\":\"11194\"},\"selection_policy\":{\"id\":\"11193\"}},\"id\":\"11181\",\"type\":\"ColumnDataSource\"},{\"attributes\":{},\"id\":\"11193\",\"type\":\"UnionRenderers\"},{\"attributes\":{\"fill_alpha\":{\"value\":0.5},\"fill_color\":{\"value\":\"firebrick\"},\"line_alpha\":{\"value\":0.5},\"line_color\":{\"value\":\"firebrick\"},\"top\":{\"field\":\"top\"},\"width\":{\"value\":0.5},\"x\":{\"field\":\"x\"}},\"id\":\"11182\",\"type\":\"VBar\"},{\"attributes\":{\"items\":[{\"id\":\"11196\"},{\"id\":\"11213\"}],\"orientation\":\"horizontal\"},\"id\":\"11195\",\"type\":\"Legend\"},{\"attributes\":{},\"id\":\"11155\",\"type\":\"LinearScale\"},{\"attributes\":{\"fill_alpha\":{\"value\":0.5},\"fill_color\":{\"value\":\"#50c878\"},\"line_alpha\":{\"value\":0.5},\"line_color\":{\"value\":\"#50c878\"},\"top\":{\"field\":\"top\"},\"width\":{\"value\":0.5},\"x\":{\"field\":\"x\"}},\"id\":\"11198\",\"type\":\"VBar\"},{\"attributes\":{\"text\":\"\"},\"id\":\"11186\",\"type\":\"Title\"},{\"attributes\":{\"label\":{\"value\":\"male\"},\"renderers\":[{\"id\":\"11184\"}]},\"id\":\"11196\",\"type\":\"LegendItem\"},{\"attributes\":{},\"id\":\"11194\",\"type\":\"Selection\"},{\"attributes\":{\"data\":{\"top\":{\"__ndarray__\":\"QCP+clw23j8gZQjgWMjePzRpY4R1od4/fNvpXNdz3z+31+Da7X/fP6l4eW7Rpd8/Lg7ZrNee3z9ZzB0BcA3gP9gWtEks+d8/8mUUU3kS4D981ar/9RfgP5rcvg4ZDeA/GbKP/s8Q4D9QerycjAfgPzsoGb26JOA/QRlq4HAg4D8B5CxBgPPfP/1I3IkC898/eMDlIrD43z+V0uxzvPzfP+2YB38HAOA/oojz8Sm23z+MZ5dM8+ffP8gjRrSfnN8/nRQeX+Qu3z9kvQHkh2rfP+1pIpFHRN8/knKyul1P3z9n7Fqt2wjfPxs3aR0aKN8/6HGryyP73j+339AROLHeP7lKs7Hb8N4/hizSx5Tq3j+jD0+h1MDeP/4zQGPw0d4/4N8kmANo3j+S2bc+G3/eP9dbI9laTN4/PQXPc7w73j+CHLYmqFHeP4ZAW+7t+N0/W3j8dk3n3T9K+hkOAEfePxeL/IQRU94/Q/H3k9oM3j+jhr2u+wHePypbQdil3N0/x1MvgypA3j8qUog7H/vdPzx0UFh8ot0/AsJyPI9E3T/tqRBt7T/dP16LVaw/9N0/aB9pFqw03T+XmzxKQqLdP2C+qRflqd0/9Ykncsrg3T94ZFW72PXcP8zUYlZoo90/oEiXDivc3T/Oe9ty2X7dP9XxNx8KK90/gzP9fcrG3T+Ka+5KiHjdP1kXJTQD7dw/ZcZ39arl3T+alA5KMGLfP+Ez0jKwUd4/wrFWro+R3D/2C/ypwgHfPw==\",\"dtype\":\"float64\",\"order\":\"little\",\"shape\":[71]},\"x\":[19,20,21,22,23,24,25,26,27,28,29,30,31,32,33,34,35,36,37,38,39,40,41,42,43,44,45,46,47,48,49,50,51,52,53,54,55,56,57,58,59,60,61,62,63,64,65,66,67,68,69,70,71,72,73,74,75,76,77,78,79,80,81,82,83,84,85,86,87,88,89]},\"selected\":{\"id\":\"11212\"},\"selection_policy\":{\"id\":\"11211\"}},\"id\":\"11197\",\"type\":\"ColumnDataSource\"},{\"attributes\":{\"fill_alpha\":{\"value\":0.1},\"fill_color\":{\"value\":\"#50c878\"},\"line_alpha\":{\"value\":0.1},\"line_color\":{\"value\":\"#50c878\"},\"top\":{\"field\":\"top\"},\"width\":{\"value\":0.5},\"x\":{\"field\":\"x\"}},\"id\":\"11199\",\"type\":\"VBar\"},{\"attributes\":{\"source\":{\"id\":\"11197\"}},\"id\":\"11201\",\"type\":\"CDSView\"},{\"attributes\":{},\"id\":\"11190\",\"type\":\"BasicTickFormatter\"},{\"attributes\":{\"bottom_units\":\"screen\",\"fill_alpha\":0.5,\"fill_color\":\"lightgrey\",\"left_units\":\"screen\",\"level\":\"overlay\",\"line_alpha\":1.0,\"line_color\":\"black\",\"line_dash\":[4,4],\"line_width\":2,\"right_units\":\"screen\",\"top_units\":\"screen\"},\"id\":\"11173\",\"type\":\"BoxAnnotation\"},{\"attributes\":{},\"id\":\"11171\",\"type\":\"ResetTool\"},{\"attributes\":{},\"id\":\"11157\",\"type\":\"LinearScale\"},{\"attributes\":{},\"id\":\"11160\",\"type\":\"BasicTicker\"},{\"attributes\":{\"axis_label\":\"Age\",\"formatter\":{\"id\":\"11190\"},\"ticker\":{\"id\":\"11160\"}},\"id\":\"11159\",\"type\":\"LinearAxis\"},{\"attributes\":{\"axis\":{\"id\":\"11159\"},\"ticker\":null},\"id\":\"11162\",\"type\":\"Grid\"},{\"attributes\":{},\"id\":\"11188\",\"type\":\"BasicTickFormatter\"},{\"attributes\":{},\"id\":\"11211\",\"type\":\"UnionRenderers\"},{\"attributes\":{},\"id\":\"11170\",\"type\":\"SaveTool\"},{\"attributes\":{},\"id\":\"11212\",\"type\":\"Selection\"},{\"attributes\":{},\"id\":\"11164\",\"type\":\"BasicTicker\"},{\"attributes\":{\"overlay\":{\"id\":\"11173\"}},\"id\":\"11169\",\"type\":\"BoxZoomTool\"},{\"attributes\":{},\"id\":\"11168\",\"type\":\"WheelZoomTool\"},{\"attributes\":{},\"id\":\"11167\",\"type\":\"PanTool\"},{\"attributes\":{\"axis\":{\"id\":\"11163\"},\"dimension\":1,\"ticker\":null},\"id\":\"11166\",\"type\":\"Grid\"}],\"root_ids\":[\"11150\"]},\"title\":\"Bokeh Application\",\"version\":\"2.2.3\"}};\n",
       "  var render_items = [{\"docid\":\"bbeb4cfb-554e-400e-a3e1-a464a15d7062\",\"root_ids\":[\"11150\"],\"roots\":{\"11150\":\"a04f4704-65b9-4c14-bfd5-f8c4e7355bbc\"}}];\n",
       "  root.Bokeh.embed.embed_items_notebook(docs_json, render_items);\n",
       "\n",
       "  }\n",
       "  if (root.Bokeh !== undefined) {\n",
       "    embed_document(root);\n",
       "  } else {\n",
       "    var attempts = 0;\n",
       "    var timer = setInterval(function(root) {\n",
       "      if (root.Bokeh !== undefined) {\n",
       "        clearInterval(timer);\n",
       "        embed_document(root);\n",
       "      } else {\n",
       "        attempts++;\n",
       "        if (attempts > 100) {\n",
       "          clearInterval(timer);\n",
       "          console.log(\"Bokeh: ERROR: Unable to run BokehJS code because BokehJS library is missing\");\n",
       "        }\n",
       "      }\n",
       "    }, 10, root)\n",
       "  }\n",
       "})(window);"
      ],
      "application/vnd.bokehjs_exec.v0+json": ""
     },
     "metadata": {
      "application/vnd.bokehjs_exec.v0+json": {
       "id": "11150"
      }
     },
     "output_type": "display_data"
    }
   ],
   "source": [
    "from bokeh.plotting import figure, output_file, show\n",
    "from bokeh.io import push_notebook, show, output_notebook\n",
    "output_notebook()\n",
    "for value in predictors:\n",
    "\n",
    "    output_file(value+'_by_Age_gender.html')\n",
    "\n",
    "    p = figure(plot_width=600, plot_height=600)\n",
    "\n",
    "\n",
    "    df_1=df2[df2.gender==0]\n",
    "\n",
    "    p.vbar(x=df_1.age, width=0.5, bottom=0,alpha=0.5,\n",
    "           top=df_1[value], color=\"firebrick\",legend_label=\"male\")\n",
    "\n",
    "    df_1=df2[df2.gender==1]\n",
    "\n",
    "\n",
    "    p.vbar(x=df_1.age, width=0.5, bottom=0,alpha=0.5,\n",
    "           top=df_1[value], color=\"#50c878\",legend_label=\"female\")\n",
    "\n",
    "    p.legend.orientation = \"horizontal\"\n",
    "\n",
    "    p.xaxis.axis_label = 'Age'\n",
    "    p.yaxis.axis_label =  value\n",
    "\n",
    "    #p.add_layout(Title(text=\"Age\", align=\"center\"), \"below\")\n",
    "\n",
    "    show(p)\n"
   ]
  },
  {
   "cell_type": "code",
   "execution_count": 48,
   "metadata": {},
   "outputs": [],
   "source": [
    "from utils2 import pandas_to_spark\n",
    "from pyspark.sql.types import *"
   ]
  },
  {
   "cell_type": "code",
   "execution_count": 49,
   "metadata": {},
   "outputs": [],
   "source": [
    "df=pandas_to_spark(df,sqlContext)\n",
    "df=df.withColumn(\"gender\", df.gender.cast(IntegerType())).withColumn(\"source2\", df.source2.cast(IntegerType()))"
   ]
  },
  {
   "cell_type": "code",
   "execution_count": 42,
   "metadata": {},
   "outputs": [],
   "source": [
    "from pyspark.sql.functions import udf"
   ]
  },
  {
   "cell_type": "code",
   "execution_count": 102,
   "metadata": {},
   "outputs": [
    {
     "data": {
      "text/plain": [
       "'75071 , 14'"
      ]
     },
     "execution_count": 102,
     "metadata": {},
     "output_type": "execute_result"
    }
   ],
   "source": [
    "#df2=df.select(\"*\").where(\"source2 == 1 OR source2 ==3\")\n",
    "df2=df.select(\"*\").where(\"source2 == 1\")\n",
    "shapedf(df2)"
   ]
  },
  {
   "cell_type": "code",
   "execution_count": 85,
   "metadata": {},
   "outputs": [],
   "source": [
    "from pyspark.ml.feature import StringIndexer, VectorAssembler,StandardScaler\n",
    "from pyspark.ml import Pipeline\n",
    "from pyspark.sql.functions import col\n",
    "from sklearn.metrics import confusion_matrix\n",
    "\n",
    "import os\n",
    "os.environ['PYSPARK_SUBMIT_ARGS'] = '--jars xgboost4j_2.12-1.4.1.jar,xgboost4j-spark_2.12-1.4.1.jar pyspark-shell'\n",
    "from sparkxgb import XGBoostClassifier\n",
    "from pyspark.ml.feature import PolynomialExpansion"
   ]
  },
  {
   "cell_type": "code",
   "execution_count": null,
   "metadata": {},
   "outputs": [],
   "source": []
  },
  {
   "cell_type": "code",
   "execution_count": 134,
   "metadata": {},
   "outputs": [],
   "source": [
    "va = VectorAssembler(inputCols=predictors, outputCol=\"vectorized_features\",handleInvalid=\"keep\")\n",
    "\n",
    "scaler = StandardScaler()\\\n",
    "         .setInputCol (\"vectorized_features\")\\\n",
    "         .setOutputCol (\"features\")\n",
    "\n",
    "polyExpansion = PolynomialExpansion(degree=2, inputCol=\"features\", outputCol=\"polyFeatures\")\n",
    "pipeline = Pipeline(stages=[va,scaler,polyExpansion])\n",
    "#pipeline = Pipeline(stages=[va,scaler])"
   ]
  },
  {
   "cell_type": "code",
   "execution_count": 135,
   "metadata": {},
   "outputs": [],
   "source": [
    "fitted_pipeline = pipeline.fit(df2)\n"
   ]
  },
  {
   "cell_type": "code",
   "execution_count": 136,
   "metadata": {},
   "outputs": [
    {
     "data": {
      "text/plain": [
       "75071"
      ]
     },
     "execution_count": 136,
     "metadata": {},
     "output_type": "execute_result"
    }
   ],
   "source": [
    "df_prepared = fitted_pipeline.transform(df2)\n",
    "df_prepared.cache()\n",
    "df_prepared.count()"
   ]
  },
  {
   "cell_type": "code",
   "execution_count": 137,
   "metadata": {},
   "outputs": [],
   "source": [
    "trainDF, testDF = df_prepared.randomSplit([0.8, 0.2], seed=24)"
   ]
  },
  {
   "cell_type": "code",
   "execution_count": 159,
   "metadata": {},
   "outputs": [],
   "source": [
    "xgboost = XGBoostClassifier(\n",
    "    featuresCol=\"polyFeatures\", \n",
    "    labelCol=\"gender\",eta=0.1,\n",
    "  maxDepth=8,\n",
    "  missing=0.0,\n",
    "  objective=\"binary:logistic\",\n",
    "  numRound=5,\n",
    "  numWorkers=2\n",
    ")"
   ]
  },
  {
   "cell_type": "code",
   "execution_count": 160,
   "metadata": {},
   "outputs": [],
   "source": [
    "pipeline = Pipeline().setStages([xgboost])"
   ]
  },
  {
   "cell_type": "code",
   "execution_count": 161,
   "metadata": {},
   "outputs": [],
   "source": [
    "model = pipeline.fit(trainDF)"
   ]
  },
  {
   "cell_type": "code",
   "execution_count": 162,
   "metadata": {},
   "outputs": [
    {
     "name": "stdout",
     "output_type": "stream",
     "text": [
      "+------+----------+\n",
      "|gender|prediction|\n",
      "+------+----------+\n",
      "|     0|       0.0|\n",
      "|     0|       0.0|\n",
      "|     1|       0.0|\n",
      "|     0|       0.0|\n",
      "|     1|       0.0|\n",
      "+------+----------+\n",
      "only showing top 5 rows\n",
      "\n"
     ]
    }
   ],
   "source": [
    "model.transform(testDF).select(col(\"gender\"), col(\"prediction\")).show(5)"
   ]
  },
  {
   "cell_type": "code",
   "execution_count": 163,
   "metadata": {},
   "outputs": [],
   "source": [
    "from pyspark.ml.evaluation import MulticlassClassificationEvaluator, BinaryClassificationEvaluator"
   ]
  },
  {
   "cell_type": "code",
   "execution_count": 164,
   "metadata": {},
   "outputs": [
    {
     "data": {
      "text/plain": [
       "0.6293793291483801"
      ]
     },
     "execution_count": 164,
     "metadata": {},
     "output_type": "execute_result"
    }
   ],
   "source": [
    "evaluator=BinaryClassificationEvaluator( rawPredictionCol=\"prediction\",\n",
    "  labelCol=\"gender\")\n",
    "evaluator.evaluate(model.transform(testDF).select(col(\"gender\"), col(\"prediction\")))\n"
   ]
  },
  {
   "cell_type": "code",
   "execution_count": 166,
   "metadata": {},
   "outputs": [],
   "source": []
  },
  {
   "cell_type": "code",
   "execution_count": 167,
   "metadata": {},
   "outputs": [],
   "source": [
    "from pyspark.ml.tuning import ParamGridBuilder, CrossValidator\n",
    "param_grid = (\n",
    "  ParamGridBuilder()\n",
    "  .addGrid(xgboost.eta, [0.3,0.2,1e-1])\n",
    "  .addGrid(xgboost.maxDepth, [8,9,10,11,12])\n",
    "    .build()\n",
    ")\n",
    "cv = CrossValidator(\n",
    "  estimator=xgboost,\n",
    "  estimatorParamMaps=param_grid,\n",
    "  evaluator=evaluator,#mce,\n",
    "  numFolds=5\n",
    ")\n",
    "\n",
    "#    (max_depth, min_child_weight)\n",
    "#    for max_depth in range(9,12)\n",
    "#    for min_child_weight in range(5,8)"
   ]
  },
  {
   "cell_type": "code",
   "execution_count": null,
   "metadata": {},
   "outputs": [],
   "source": [
    "cvModel = cv.fit(trainDF)\n",
    "model=cvModel.bestModel\n",
    "predictions = cvModel.bestModel.transform(testDF)\n",
    "evaluatorMulti = MulticlassClassificationEvaluator(labelCol=\"gender\", predictionCol=\"prediction\")\n"
   ]
  },
  {
   "cell_type": "code",
   "execution_count": 142,
   "metadata": {},
   "outputs": [
    {
     "name": "stdout",
     "output_type": "stream",
     "text": [
      "0.5829886067472347\n",
      "0.6400046549350001\n",
      "0.6532095800610113\n",
      "0.7519739897816999\n",
      "0.6688009914282763\n",
      "0.6485262830842817\n"
     ]
    }
   ],
   "source": [
    "print(evaluator.evaluate(predictions,{evaluator.metricName: \"areaUnderPR\"}))\n",
    "print(evaluator.evaluate(predictions,{evaluator.metricName: \"areaUnderROC\"}))\n",
    "print(evaluatorMulti.evaluate(predictions,{evaluatorMulti.metricName: \"accuracy\"}))\n",
    "print(evaluatorMulti.evaluate(predictions,{evaluatorMulti.metricName: \"recallByLabel\"}))\n",
    "print(evaluatorMulti.evaluate(predictions,{evaluatorMulti.metricName: \"precisionByLabel\"}))\n",
    "print(evaluatorMulti.evaluate(predictions,{evaluatorMulti.metricName: \"f1\"}))"
   ]
  },
  {
   "cell_type": "markdown",
   "metadata": {},
   "source": [
    "## Task 1 :\n",
    "**Create Distribution** 20 5tiles\n",
    "        \n",
    "**Quantile, How much time to 10% most freq outcalled**\n",
    "\n",
    "**Quantile, How much time to 10% most freq incalled**\n",
    "\n",
    "****Quantile, How much %calls to 10% most freq incalled****\n",
    "daily weekly time distribution(freq)\n"
   ]
  },
  {
   "cell_type": "code",
   "execution_count": null,
   "metadata": {},
   "outputs": [],
   "source": []
  },
  {
   "cell_type": "code",
   "execution_count": 38,
   "metadata": {},
   "outputs": [],
   "source": []
  }
 ],
 "metadata": {
  "kernelspec": {
   "display_name": "Python (Spark-Geopandas)",
   "language": "python",
   "name": "geo_env"
  },
  "language_info": {
   "codemirror_mode": {
    "name": "ipython",
    "version": 3
   },
   "file_extension": ".py",
   "mimetype": "text/x-python",
   "name": "python",
   "nbconvert_exporter": "python",
   "pygments_lexer": "ipython3",
   "version": "3.8.6"
  }
 },
 "nbformat": 4,
 "nbformat_minor": 4
}
